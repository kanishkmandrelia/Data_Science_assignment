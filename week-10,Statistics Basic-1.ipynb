{
 "cells": [
  {
   "cell_type": "markdown",
   "metadata": {},
   "source": [
    "#### Q1. What is Statistics?"
   ]
  },
  {
   "cell_type": "markdown",
   "metadata": {},
   "source": [
    "Ans."
   ]
  },
  {
   "cell_type": "markdown",
   "metadata": {},
   "source": [
    "Statistics refers to the discipline of collecting, analyzing, interpreting, presenting, and organizing data.  \n",
    "It provides the foundation for data analysis and is essential for understanding and extracting insights from data. Statistics is divided into two main branches:\n",
    "1. Descriptive Statistics:  \n",
    "  - Descriptive statistics summarize and organize data in a way that is meaningful and easy to understand.\n",
    "  - This branch focuses on presenting the \"what\" in the data without making conclusions or inferences.\n",
    "\n",
    "2. Inferential Statistics:\n",
    "  - Inferential statistics allow us to make predictions, inferences, or decisions based on data.\n",
    "  - It involves generalizing results from a sample to a population using probability."
   ]
  },
  {
   "cell_type": "markdown",
   "metadata": {},
   "source": [
    "---"
   ]
  },
  {
   "cell_type": "markdown",
   "metadata": {},
   "source": [
    "#### Q2. Define the different types of statistics and give an example of when each type might be used."
   ]
  },
  {
   "cell_type": "markdown",
   "metadata": {},
   "source": [
    "Ans."
   ]
  },
  {
   "cell_type": "markdown",
   "metadata": {},
   "source": [
    "1.Descriptive Statistics\n",
    "- Definition:\n",
    "  - Descriptive statistics summarize and describe the main features of a dataset. It organizes raw data into a comprehensible format using numerical measures, tables, and graphs.\n",
    "- Examples of Descriptive Statistics:\n",
    "  - Central Tendency: Mean, median, mode.\n",
    "  - Dispersion: Range, variance, standard deviation.\n",
    "  - Visualization: Histograms, box plots, bar charts.\n",
    "- Example Use Case:  \n",
    "Managing a retail store and want to summarize last month’s sales performance.\n",
    "  - Mean: Calculate the average daily sales.\n",
    "  - Range: Determine the highest and lowest daily sales.\n",
    "  - Histogram: Visualize how sales vary throughout the month.\n",
    "\n",
    "2.Inferential Statistics\n",
    "- Definition:\n",
    "  - Inferential statistics use a sample of data to draw conclusions or make predictions about a larger population. It relies on probability theory to estimate population parameters, test hypotheses, and assess uncertainty.\n",
    "- Examples of Inferential Statistics:\n",
    "  - Hypothesis Testing: t-tests, chi-square tests, ANOVA.\n",
    "  - Confidence Intervals: Estimating the range within which a population parameter lies.\n",
    "  - Regression Analysis: Identifying relationships between variables.\n",
    "- Example Use Case:  \n",
    "Conducting a survey to determine customer satisfaction in a city with 1 million residents. Instead of surveying everyone, you collect a random sample of 1,000 customers.\n",
    "  - Confidence Interval: Estimate the average satisfaction score for the entire population.\n",
    "  - Hypothesis Test: Test whether a new service feature has significantly improved satisfaction compared to the previous one."
   ]
  },
  {
   "cell_type": "markdown",
   "metadata": {},
   "source": [
    "---"
   ]
  },
  {
   "cell_type": "markdown",
   "metadata": {},
   "source": [
    "#### Q3. What are the different types of data and how do they differ from each other? Provide an example of each type of data."
   ]
  },
  {
   "cell_type": "markdown",
   "metadata": {},
   "source": [
    "Ans."
   ]
  },
  {
   "cell_type": "markdown",
   "metadata": {},
   "source": [
    "1.Qualitative Data (Categorical Data)-  \n",
    "Qualitative data describes qualities, categories, or characteristics that cannot be measured numerically.\n",
    "\n",
    "- Subcategories:  \n",
    "a. Nominal Data\n",
    "  - Definition: Represents categories without any inherent order.\n",
    "  - Characteristics: No ranking or logical order; only labels.\n",
    "  - Example:\n",
    "    - Eye colors: Blue, Brown, Green.\n",
    "    - Marital status: Single, Married, Divorced.\n",
    "  \n",
    "  b. Ordinal Data  \n",
    "  - Definition: Represents categories with a meaningful order or rank, but the intervals between ranks are not equal or defined.\n",
    "  - Characteristics: Order matters, but not the exact difference between ranks.\n",
    "  - Example:\n",
    "    - Customer satisfaction levels: Poor, Average, Good, Excellent.\n",
    "    - Education levels: High School, Bachelor’s, Master’s, PhD.  \n",
    "\n",
    "2.Quantitative Data (Numerical Data)-  \n",
    "Quantitative data represents measurable quantities and can be expressed in numbers.  \n",
    "\n",
    "- Subcategories:  \n",
    "a. Discrete Data  \n",
    "  - Definition: Represents countable quantities, often whole numbers.\n",
    "  - Characteristics: Cannot take fractional values; countable.\n",
    "  - Example:\n",
    "    - Number of students in a class: 25, 30, 35.\n",
    "    - Number of cars in a parking lot: 10, 50, 120.\n",
    "\n",
    "  b. Continuous Data  \n",
    "  - Definition: Represents measurable quantities that can take any value within a range.\n",
    "  - Characteristics: Includes fractions and decimals; infinite precision.\n",
    "  - Example:\n",
    "    - Height of individuals: 5.5 ft, 6.2 ft.\n",
    "    - Temperature: 36.5°C, 98.6°F."
   ]
  },
  {
   "cell_type": "markdown",
   "metadata": {},
   "source": [
    "---"
   ]
  },
  {
   "cell_type": "markdown",
   "metadata": {},
   "source": [
    "#### Q4. Categorise the following datasets with respect to quantitative and qualitative data types:\n",
    "(i) Grading in exam: A+, A, B+, B, C+, C, D, E  \n",
    "(ii) Colour of mangoes: yellow, green, orange, red  \n",
    "(iii) Height data of a class: [178.9, 179, 179.5, 176, 177.2, 178.3, 175.8,...]  \n",
    "(iv) Number of mangoes exported by a farm: [500, 600, 478, 672, ...]  "
   ]
  },
  {
   "cell_type": "markdown",
   "metadata": {},
   "source": [
    "Ans."
   ]
  },
  {
   "cell_type": "markdown",
   "metadata": {},
   "source": [
    "(i) => Qualiative(ordinal).  \n",
    "(ii) => Qualiative(nominal).  \n",
    "(iii) => Quantitative(continuous).  \n",
    "(iv) => Quantitative(discrete).  \n"
   ]
  },
  {
   "cell_type": "markdown",
   "metadata": {},
   "source": [
    "---"
   ]
  },
  {
   "cell_type": "markdown",
   "metadata": {},
   "source": [
    "#### Q5. Explain the concept of levels of measurement and give an example of a variable for each level."
   ]
  },
  {
   "cell_type": "markdown",
   "metadata": {},
   "source": [
    "Ans."
   ]
  },
  {
   "cell_type": "markdown",
   "metadata": {},
   "source": [
    "The levels of measurement describe how variables are classified based on the nature of the data and the mathematical operations that can be performed on them. These levels are; nominal, ordinal, interval, and ratio. Each level has increasing sophistication and complexity.\n",
    "\n",
    "1.Nominal Level:  \n",
    "- Definition: The nominal level represents categorical data without any intrinsic order or ranking. It simply labels or names categories.\n",
    "- Characteristics:  \n",
    "  - No logical order.\n",
    "  - Cannot perform arithmetic operations.\n",
    "  - Only mode is meaningful.\n",
    "- Example:\n",
    "  - Variable: Favorite ice cream flavors (Chocolate, Vanilla, Strawberry).  \n",
    "\n",
    "2.Ordinal Level:  \n",
    "- Definition: The ordinal level represents data with a meaningful order or rank, but the intervals between the ranks are not uniform or measurable.\n",
    "- Characteristics:\n",
    "  - Data can be ordered.\n",
    "  - Differences between ranks are not consistent.\n",
    "  - Median and mode are meaningful; mean is not applicable.\n",
    "- Example:\n",
    "  - Variable: Movie ratings (Poor, Average, Good, Excellent).  \n",
    "\n",
    "3.Interval Level:  \n",
    "- Definition: The interval level represents numerical data with meaningful intervals, but it lacks a true zero point. This means ratios are not meaningful.\n",
    "- Characteristics:\n",
    "  - Data can be ordered, and intervals are consistent.\n",
    "  - No absolute zero (e.g., zero does not mean \"none\").\n",
    "  - Mean, median, and mode are all meaningful.\n",
    "- Example:\n",
    "  - Variable: Temperature in Celsius or Fahrenheit (10°C, 20°C, 30°C). The difference between 20°C and 10°C is meaningful, but 0°C does not mean \"no temperature.\"  \n",
    "\n",
    "4.Ratio Level:  \n",
    "- Definition: The ratio level represents numerical data with a true zero point, allowing for the calculation of meaningful ratios.\n",
    "- Characteristics:\n",
    "  - Data can be ordered, intervals are consistent, and zero represents \"none\" of the quantity.\n",
    "  - All arithmetic operations, including ratios, are meaningful.\n",
    "- Example:\n",
    "  - Variable: Height of individuals (150 cm, 160 cm, 170 cm). A height of 0 cm means \"no height,\" and a person who is 160 cm tall is twice as tall as someone who is 80 cm."
   ]
  },
  {
   "cell_type": "markdown",
   "metadata": {},
   "source": [
    "---"
   ]
  },
  {
   "cell_type": "markdown",
   "metadata": {},
   "source": [
    "#### Q6. Why is it important to understand the level of measurement when analyzing data? Provide an example to illustrate your answer."
   ]
  },
  {
   "cell_type": "markdown",
   "metadata": {},
   "source": [
    "Ans."
   ]
  },
  {
   "cell_type": "markdown",
   "metadata": {},
   "source": [
    "Understanding the level of measurement is crucial when analyzing data because it determines:  \n",
    "1.Appropriate Statistical Methods:\n",
    "  - Different levels of measurement require specific statistical techniques. For instance, you cannot calculate a mean for nominal data, but you can for interval or ratio data.  \n",
    "\n",
    "2.Valid Interpretation of Results:\n",
    "  - Misinterpreting the level of measurement can lead to incorrect conclusions. For example, treating ordinal data as interval data might lead to invalid inferences.\n",
    "  \n",
    "3.Choice of Visualizations:\n",
    "  - The type of chart or graph depends on the level of measurement (e.g., bar charts for nominal data, histograms for interval/ratio data)."
   ]
  },
  {
   "cell_type": "markdown",
   "metadata": {},
   "source": [
    "**Example: Analyzing Employee Performance.**  \n",
    "Imagine a company analyzing employee performance using two variables:  \n",
    "1. Department (e.g., Sales, Marketing, HR).\n",
    "2. Performance Ratings (Poor, Average, Good, Excellent).  \n",
    "\n",
    "**Incorrect Analysis:**  \n",
    "- If the analyst tries to calculate the mean department or perform regression analysis on departments, it’s meaningless because departments are nominal data.\n",
    "- Similarly, if the analyst treats performance ratings as interval data and calculates the average difference between \"Good\" and \"Excellent,\" it’s incorrect because the differences between ordinal categories are not uniform.\n",
    "\n",
    "**Correct Analysis:**  \n",
    "- Use frequency tables or mode to summarize departments.\n",
    "- Analyze performance ratings using medians or rank-based methods (e.g., Spearman’s correlation).\n"
   ]
  },
  {
   "cell_type": "markdown",
   "metadata": {},
   "source": [
    "---"
   ]
  },
  {
   "cell_type": "markdown",
   "metadata": {},
   "source": [
    "#### Q7. How nominal data type is different from ordinal data type."
   ]
  },
  {
   "cell_type": "markdown",
   "metadata": {},
   "source": [
    "Ans."
   ]
  },
  {
   "cell_type": "markdown",
   "metadata": {},
   "source": [
    "1.Nominal Data\n",
    "- Definition: Data classified into distinct categories that have no inherent order or ranking.\n",
    "- Purpose: Used for labeling variables without any quantitative value or sequence.\n",
    "- Examples:\n",
    "  - Gender (Male, Female, Non-binary)\n",
    "  - Blood type (A, B, AB, O)\n",
    "  - Eye color (Blue, Green, Brown)\n",
    "- Key Features:\n",
    "  - Categories are mutually exclusive.\n",
    "  - There is no meaningful way to sort or rank the categories.\n",
    "  - Only operations like counting or mode calculation are possible.  \n",
    "\n",
    "2.Ordinal Data\n",
    "- Definition: Data classified into categories that have a meaningful order or ranking, but the intervals between ranks are not necessarily equal.\n",
    "- Purpose: Used to represent relative positioning or levels.\n",
    "- Examples:\n",
    "  - Education levels (High School, Bachelor's, Master's, Ph.D.)\n",
    "  - Customer satisfaction ratings (Very Unsatisfied, Unsatisfied, Neutral, Satisfied, Very Satisfied)\n",
    "  - Socioeconomic status (Low, Middle, High)\n",
    "- Key Features:\n",
    "  - Categories have a logical order or hierarchy.\n",
    "  - The difference between categories is not uniform or measurable.\n",
    "  - Median and mode are meaningful measures, but arithmetic operations like addition and subtraction are not valid."
   ]
  },
  {
   "cell_type": "markdown",
   "metadata": {},
   "source": [
    "---"
   ]
  },
  {
   "cell_type": "markdown",
   "metadata": {},
   "source": [
    "#### Q8. Which type of plot can be used to display data in terms of range?"
   ]
  },
  {
   "cell_type": "markdown",
   "metadata": {},
   "source": [
    "Ans."
   ]
  },
  {
   "cell_type": "markdown",
   "metadata": {},
   "source": [
    "A box plot (also known as a box-and-whisker plot) is commonly used to display data in terms of its range and variability. It provides a visual summary of the distribution of a dataset, including measures like the minimum, maximum, median, and interquartile range (IQR).\n",
    "\n",
    "Key Components of a Box Plot\n",
    "- Minimum: The smallest data point, excluding outliers.\n",
    "- First Quartile (Q1): The median of the lower half of the data.\n",
    "- Median (Q2): The middle value of the dataset.\n",
    "- Third Quartile (Q3): The median of the upper half of the data.\n",
    "- Maximum: The largest data point, excluding outliers.\n",
    "- Whiskers: Lines extending to the minimum and maximum values within 1.5 times the IQR.\n",
    "- Outliers: Data points that fall outside the range of the whiskers."
   ]
  },
  {
   "cell_type": "markdown",
   "metadata": {},
   "source": [
    "---"
   ]
  },
  {
   "cell_type": "markdown",
   "metadata": {},
   "source": [
    "#### Q9. Describe the difference between descriptive and inferential statistics. Give an example of each type of statistics and explain how they are used."
   ]
  },
  {
   "cell_type": "markdown",
   "metadata": {},
   "source": [
    "Ans."
   ]
  },
  {
   "cell_type": "markdown",
   "metadata": {},
   "source": [
    "1.Descriptive Statistics\n",
    "- Definition: Descriptive statistics summarize and describe the main features of a dataset. They provide a way to present data in a manageable and interpretable form without making predictions or generalizations about a larger population.\n",
    "\n",
    "- Key Features:\n",
    "  - Focus on organizing, summarizing, and visualizing data.\n",
    "  - No inferences or predictions are made beyond the data at hand.\n",
    "  - Common measures include:\n",
    "    - Central tendency: Mean, median, mode\n",
    "    - Dispersion: Range, variance, standard deviation\n",
    "    - Data visualization: Charts, graphs, tables\n",
    "\n",
    "- Example:\n",
    "  - Scenario: A teacher calculates the average score of her class in a math test.\n",
    "    - Mean = 75, Standard deviation = 10\n",
    "    - Histogram of scores shows how the marks are distributed.\n",
    "  - Use: The teacher uses these statistics to understand the class's overall performance.\n",
    "\n",
    "2.Inferential Statistics\n",
    "- Definition: Inferential statistics use sample data to make generalizations, predictions, or decisions about a larger population. These techniques involve hypothesis testing, estimating population parameters, and determining relationships.\n",
    "\n",
    "- Key Features:\n",
    "  - Based on probability theory.\n",
    "  - Relies on sampling and draws conclusions about a population.\n",
    "  - Common techniques include:\n",
    "    - Hypothesis testing (e.g., t-tests, ANOVA)\n",
    "    - Confidence intervals\n",
    "    - Regression analysis\n",
    "\n",
    "- Example:\n",
    "  - Scenario: A researcher surveys 500 people in a city to estimate the average income of all residents.\n",
    "    - The sample mean income is $50,000, and a 95% confidence interval is $48,000 to $52,000.\n",
    "  - Use: The researcher generalizes the findings to the entire city population with a level of confidence."
   ]
  },
  {
   "cell_type": "markdown",
   "metadata": {},
   "source": [
    "---"
   ]
  },
  {
   "cell_type": "markdown",
   "metadata": {},
   "source": [
    "#### Q10. What are some common measures of central tendency and variability used in statistics? Explain how each measure can be used to describe a dataset."
   ]
  },
  {
   "cell_type": "markdown",
   "metadata": {},
   "source": [
    "Ans."
   ]
  },
  {
   "cell_type": "markdown",
   "metadata": {},
   "source": [
    "**Common Measures of Central Tendency:**\n",
    "These measures summarize a dataset by identifying a central or typical value.\n",
    "1. Mean (Arithmetic Average):\n",
    "- Definition: The sum of all data points divided by the number of data points.\n",
    "- Use: Provides the overall average, useful for data without extreme outliers.\n",
    "- Example: The average test score of a class can indicate overall student performance.\n",
    "- Limitations: Sensitive to outliers, which can skew the value.\n",
    "\n",
    "2. Median:\n",
    "- Definition: The middle value when the data is arranged in ascending order. If there’s an even number of data points, the median is the average of the two middle values.\n",
    "- Use: Represents the center of the dataset, particularly useful when the data has outliers or is skewed.\n",
    "- Example: Median household income is often used instead of the mean to account for income inequality.\n",
    "- Limitations: Ignores the distribution of the rest of the data.\n",
    "\n",
    "3. Mode:\n",
    "- Definition: The most frequently occurring value(s) in a dataset.\n",
    "- Use: Highlights the most common or popular value, often used with categorical data.\n",
    "- Example: In a survey about favorite colors, the mode reveals the color most people prefer.\n",
    "- Limitations: May not exist or may not be unique in all datasets.\n",
    "\n",
    "\n",
    "**Common Measures of Variability:**\n",
    "These measures describe the spread or dispersion of data within a dataset.\n",
    "1. Range:\n",
    "- Definition: The difference between the maximum and minimum values in a dataset.\n",
    "- Use: Gives a quick sense of the spread but does not account for distribution.\n",
    "- Example: The range of temperatures over a week shows the extent of fluctuation.\n",
    "- Limitations: Highly influenced by outliers.\n",
    "\n",
    "\n",
    "2. Variance:\n",
    "- Definition: The average of the squared differences between each data point and the mean.\n",
    "- Use: Measures how far data points spread out around the mean.\n",
    "- Example: Used in finance to assess the risk (volatility) of an investment.\n",
    "- Limitations: Units are squared, making it less interpretable without further processing.\n",
    "\n",
    "3. Standard Deviation:\n",
    "- Definition: The square root of the variance, representing the average distance of each data point from the mean.\n",
    "- Use: Provides a measure of spread in the same units as the data, making it more interpretable than variance.\n",
    "- Example: In quality control, a low standard deviation indicates consistent product quality.\n",
    "- Limitations: Sensitive to outliers.\n",
    "\n",
    "4. Interquartile Range (IQR):\n",
    "- Definition: The difference between the third quartile (Q3) and the first quartile (Q1). It measures the spread of the middle 50% of the data.\n",
    "- Use: Resistant to outliers and provides insights into the data's core distribution.\n",
    "- Example: Used to detect outliers in a dataset for robust analysis.\n",
    "- Limitations: Ignores data outside the middle 50%."
   ]
  },
  {
   "cell_type": "markdown",
   "metadata": {},
   "source": []
  }
 ],
 "metadata": {
  "kernelspec": {
   "display_name": "Python 3",
   "language": "python",
   "name": "python3"
  },
  "language_info": {
   "codemirror_mode": {
    "name": "ipython",
    "version": 3
   },
   "file_extension": ".py",
   "mimetype": "text/x-python",
   "name": "python",
   "nbconvert_exporter": "python",
   "pygments_lexer": "ipython3",
   "version": "3.11.5"
  }
 },
 "nbformat": 4,
 "nbformat_minor": 2
}
