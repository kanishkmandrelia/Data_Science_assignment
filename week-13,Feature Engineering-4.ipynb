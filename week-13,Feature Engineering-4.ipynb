{
 "cells": [
  {
   "cell_type": "markdown",
   "metadata": {},
   "source": [
    "#### Q1. What is the difference between Ordinal Encoding and Label Encoding? Provide an example of when you might choose one over the other."
   ]
  },
  {
   "cell_type": "markdown",
   "metadata": {},
   "source": [
    "Ans."
   ]
  },
  {
   "cell_type": "markdown",
   "metadata": {},
   "source": [
    "**1. Ordinal Encoding:**  \n",
    "- Purpose: Used when the categorical variable has an inherent order or ranking.\n",
    "- How it works: Each category is assigned an integer value based on the order of the categories.\n",
    "- Example: Suppose we have a feature Size with categories:\n",
    "  - Small → 1\n",
    "  - Medium → 2\n",
    "  - Large → 3\n",
    "- When to use: Choose ordinal encoding when the order of the categories matters. For example, in a dataset predicting delivery time, Size of a package may affect delivery speed, and \"Large\" might logically take longer than \"Small.\""
   ]
  },
  {
   "cell_type": "markdown",
   "metadata": {},
   "source": [
    "**2. Label Encoding:**  \n",
    "- Purpose: Used when the categorical variable does not have an inherent order.\n",
    "- How it works: Each unique category is assigned a unique integer, but no particular order is implied.\n",
    "- Example: Suppose we have a feature Color with categories:\n",
    "  - Red → 0\n",
    "  - Green → 1\n",
    "  - Blue → 2\n",
    "- When to use: Choose label encoding when the categories are nominal (i.e., no order or rank). For instance, if you're predicting car prices based on color, the order of colors doesn’t carry meaning."
   ]
  },
  {
   "cell_type": "markdown",
   "metadata": {},
   "source": [
    "---"
   ]
  },
  {
   "cell_type": "markdown",
   "metadata": {},
   "source": [
    "#### Q2. Explain how Target Guided Ordinal Encoding works and provide an example of when you might use it in a machine learning project."
   ]
  },
  {
   "cell_type": "markdown",
   "metadata": {},
   "source": [
    "Ans."
   ]
  },
  {
   "cell_type": "markdown",
   "metadata": {},
   "source": [
    "Target Guided Ordinal Encoding is a technique where categorical variables are encoded based on the relationship between each category and the target variable. Specifically, categories are ordered according to the mean (or median) of the target variable and then assigned integer values based on this order."
   ]
  },
  {
   "cell_type": "markdown",
   "metadata": {},
   "source": [
    "**How It Works:**  \n",
    "- Calculate the mean (or median) of the target variable for each category.\n",
    "- Sort the categories based on the calculated mean/median.\n",
    "- Assign integers to the categories according to their rank."
   ]
  },
  {
   "cell_type": "code",
   "execution_count": 1,
   "metadata": {},
   "outputs": [
    {
     "name": "stdout",
     "output_type": "stream",
     "text": [
      "  Neighborhood   Price  Neighborhood_Encoded\n",
      "0            A  250000                     3\n",
      "1            B  160000                     2\n",
      "2            C  120000                     1\n",
      "3            A  210000                     3\n",
      "4            B  140000                     2\n",
      "5            C   90000                     1\n"
     ]
    }
   ],
   "source": [
    "import pandas as pd\n",
    "\n",
    "df = pd.DataFrame({\n",
    "    'Neighborhood': ['A', 'B', 'C', 'A', 'B', 'C'],\n",
    "    'Price': [250000, 160000, 120000, 210000, 140000, 90000]\n",
    "})\n",
    "\n",
    "mean_price = df.groupby('Neighborhood')['Price'].mean().sort_values()\n",
    "encoding = {category: idx + 1 for idx, category in enumerate(mean_price.index)}\n",
    "\n",
    "df['Neighborhood_Encoded'] = df['Neighborhood'].map(encoding)\n",
    "\n",
    "print(df)"
   ]
  },
  {
   "cell_type": "markdown",
   "metadata": {},
   "source": [
    "---"
   ]
  },
  {
   "cell_type": "markdown",
   "metadata": {},
   "source": [
    "#### Q3. Define covariance and explain why it is important in statistical analysis. How is covariance calculated?"
   ]
  },
  {
   "cell_type": "markdown",
   "metadata": {},
   "source": [
    "Ans."
   ]
  },
  {
   "cell_type": "markdown",
   "metadata": {},
   "source": [
    "**Covariance:**  \n",
    "- Covariance is a measure of the relationship between two variables. Specifically, it indicates how much two random variables change together:\n",
    "  - Positive Covariance: When one variable increases, the other tends to increase.\n",
    "  - Negative Covariance: When one variable increases, the other tends to decrease.\n",
    "  - Zero Covariance: No linear relationship between the variables."
   ]
  },
  {
   "cell_type": "markdown",
   "metadata": {},
   "source": [
    "**Covariance Important in Statistical Analysis:**  \n",
    "- Understanding Relationships: Covariance helps in identifying the direction of the relationship between variables.\n",
    "- Feature Selection: In machine learning, features with strong covariance with the target variable may be more predictive.\n",
    "- Portfolio Theory (Finance): Covariance is used to measure how different asset returns move together, which is essential for diversification.\n",
    "- Principal Component Analysis (PCA): PCA uses the covariance matrix to reduce dimensionality by identifying the directions (principal components) with the most variance."
   ]
  },
  {
   "cell_type": "code",
   "execution_count": 2,
   "metadata": {},
   "outputs": [
    {
     "name": "stdout",
     "output_type": "stream",
     "text": [
      "Covariance between Study Hours and Exam Scores: 16.67\n"
     ]
    }
   ],
   "source": [
    "import numpy as np\n",
    "\n",
    "X = [2, 4, 6, 8]\n",
    "Y = [65, 70, 75, 80]\n",
    "\n",
    "cov_matrix = np.cov(X, Y, bias=False)  \n",
    "covariance = cov_matrix[0, 1]\n",
    "\n",
    "print(f\"Covariance between Study Hours and Exam Scores: {covariance:.2f}\")"
   ]
  },
  {
   "cell_type": "markdown",
   "metadata": {},
   "source": [
    "---"
   ]
  },
  {
   "cell_type": "markdown",
   "metadata": {},
   "source": [
    "#### Q4. For a dataset with the following categorical variables: Color (red, green, blue), Size (small, medium, large), and Material (wood, metal, plastic), perform label encoding using Python's scikit-learn library. Show your code and explain the output."
   ]
  },
  {
   "cell_type": "markdown",
   "metadata": {},
   "source": [
    "Ans."
   ]
  },
  {
   "cell_type": "code",
   "execution_count": 3,
   "metadata": {},
   "outputs": [
    {
     "name": "stdout",
     "output_type": "stream",
     "text": [
      "Original DataFrame:\n",
      "    Color    Size Material\n",
      "0    red   small     wood\n",
      "1  green  medium    metal\n",
      "2   blue   large  plastic\n",
      "3  green   small     wood\n",
      "4    red   large    metal \n",
      "\n",
      "\n",
      "DataFrame after Label Encoding:\n",
      "    Color    Size Material  Color_Encoded  Size_Encoded  Material_Encoded\n",
      "0    red   small     wood              2             2                 2\n",
      "1  green  medium    metal              1             1                 0\n",
      "2   blue   large  plastic              0             0                 1\n",
      "3  green   small     wood              1             2                 2\n",
      "4    red   large    metal              2             0                 0\n"
     ]
    }
   ],
   "source": [
    "import pandas as pd\n",
    "from sklearn.preprocessing import LabelEncoder\n",
    "\n",
    "data = {\n",
    "    'Color': ['red', 'green', 'blue', 'green', 'red'],\n",
    "    'Size': ['small', 'medium', 'large', 'small', 'large'],\n",
    "    'Material': ['wood', 'metal', 'plastic', 'wood', 'metal']\n",
    "}\n",
    "\n",
    "df = pd.DataFrame(data)\n",
    "print(\"Original DataFrame:\\n\", df,\"\\n\\n\")\n",
    "\n",
    "le = LabelEncoder()\n",
    "\n",
    "for column in df.columns:\n",
    "    df[column + '_Encoded'] = le.fit_transform(df[column])\n",
    "\n",
    "print(\"DataFrame after Label Encoding:\\n\", df)"
   ]
  },
  {
   "cell_type": "markdown",
   "metadata": {},
   "source": [
    "---"
   ]
  },
  {
   "cell_type": "markdown",
   "metadata": {},
   "source": [
    "#### Q5. Calculate the covariance matrix for the following variables in a dataset: Age, Income, and Education level. Interpret the results."
   ]
  },
  {
   "cell_type": "markdown",
   "metadata": {},
   "source": [
    "Ans."
   ]
  },
  {
   "cell_type": "code",
   "execution_count": 4,
   "metadata": {},
   "outputs": [
    {
     "name": "stdout",
     "output_type": "stream",
     "text": [
      "Covariance Matrix:\n",
      "                     Age  Income  Education_Level\n",
      "Age              107.50   215.0             8.75\n",
      "Income           215.00   430.0            17.50\n",
      "Education_Level    8.75    17.5             1.00\n"
     ]
    }
   ],
   "source": [
    "import numpy as np\n",
    "import pandas as pd\n",
    "\n",
    "data = {\n",
    "    'Age': [25, 30, 45, 35, 50],\n",
    "    'Income': [40, 50, 80, 60, 90],\n",
    "    'Education_Level': [2, 3, 4, 2, 4]  \n",
    "    # 1: High School, 2: Bachelor's, 3: Master's, 4: Ph.D.\n",
    "}\n",
    "\n",
    "df = pd.DataFrame(data)\n",
    "\n",
    "cov_matrix = df.cov()\n",
    "print(\"Covariance Matrix:\\n\", cov_matrix)\n"
   ]
  },
  {
   "cell_type": "markdown",
   "metadata": {},
   "source": [
    "---"
   ]
  },
  {
   "cell_type": "markdown",
   "metadata": {},
   "source": [
    "#### Q6. You are working on a machine learning project with a dataset containing several categorical variables, including \"Gender\" (Male/Female), \"Education Level\" (High School/Bachelor's/Master's/PhD), and \"Employment Status\" (Unemployed/Part-Time/Full-Time). Which encoding method would you use for each variable, and why?"
   ]
  },
  {
   "cell_type": "markdown",
   "metadata": {},
   "source": [
    "Ans."
   ]
  },
  {
   "cell_type": "code",
   "execution_count": 5,
   "metadata": {},
   "outputs": [
    {
     "name": "stdout",
     "output_type": "stream",
     "text": [
      "   Gender  Gender_Encoded\n",
      "0    Male               1\n",
      "1  Female               0\n",
      "2  Female               0\n",
      "3    Male               1\n"
     ]
    }
   ],
   "source": [
    "from sklearn.preprocessing import LabelEncoder\n",
    "import pandas as pd\n",
    "\n",
    "df = pd.DataFrame({'Gender': ['Male', 'Female', 'Female', 'Male']})\n",
    "le = LabelEncoder()\n",
    "df['Gender_Encoded'] = le.fit_transform(df['Gender'])\n",
    "print(df)"
   ]
  },
  {
   "cell_type": "code",
   "execution_count": 6,
   "metadata": {},
   "outputs": [
    {
     "name": "stdout",
     "output_type": "stream",
     "text": [
      "  Education_Level  Education_Encoded\n",
      "0     High School                0.0\n",
      "1      Bachelor's                1.0\n",
      "2        Master's                2.0\n",
      "3             PhD                3.0\n"
     ]
    }
   ],
   "source": [
    "from sklearn.preprocessing import OrdinalEncoder\n",
    "\n",
    "df = pd.DataFrame({'Education_Level': ['High School', \"Bachelor's\", \"Master's\", 'PhD']})\n",
    "edu_order = [['High School', \"Bachelor's\", \"Master's\", 'PhD']]\n",
    "oe = OrdinalEncoder(categories=edu_order)\n",
    "df['Education_Encoded'] = oe.fit_transform(df[['Education_Level']])\n",
    "print(df)"
   ]
  },
  {
   "cell_type": "code",
   "execution_count": 7,
   "metadata": {},
   "outputs": [
    {
     "name": "stdout",
     "output_type": "stream",
     "text": [
      "  Employment_Status  Employment_Status_Full-Time  Employment_Status_Part-Time  \\\n",
      "0        Unemployed                          0.0                          0.0   \n",
      "1         Part-Time                          0.0                          1.0   \n",
      "2         Full-Time                          1.0                          0.0   \n",
      "3         Full-Time                          1.0                          0.0   \n",
      "\n",
      "   Employment_Status_Unemployed  \n",
      "0                           1.0  \n",
      "1                           0.0  \n",
      "2                           0.0  \n",
      "3                           0.0  \n"
     ]
    }
   ],
   "source": [
    "from sklearn.preprocessing import OneHotEncoder\n",
    "import pandas as pd\n",
    "\n",
    "df = pd.DataFrame({'Employment_Status': ['Unemployed', 'Part-Time', 'Full-Time', 'Full-Time']})\n",
    "\n",
    "ohe = OneHotEncoder(sparse_output=False) \n",
    "encoded = ohe.fit_transform(df[['Employment_Status']])\n",
    "\n",
    "encoded_df = pd.DataFrame(encoded, columns=ohe.get_feature_names_out(['Employment_Status']))\n",
    "\n",
    "df = pd.concat([df, encoded_df], axis=1)\n",
    "print(df)"
   ]
  },
  {
   "cell_type": "markdown",
   "metadata": {},
   "source": [
    "---"
   ]
  },
  {
   "cell_type": "markdown",
   "metadata": {},
   "source": [
    "#### Q7. You are analyzing a dataset with two continuous variables, \"Temperature\" and \"Humidity\", and two categorical variables, \"Weather Condition\" (Sunny/Cloudy/Rainy) and \"Wind Direction\" (North/South/East/West). Calculate the covariance between each pair of variables and interpret the results."
   ]
  },
  {
   "cell_type": "markdown",
   "metadata": {},
   "source": [
    "Ans."
   ]
  },
  {
   "cell_type": "code",
   "execution_count": 8,
   "metadata": {},
   "outputs": [
    {
     "name": "stdout",
     "output_type": "stream",
     "text": [
      "Covariance Matrix:\n",
      "                            Temperature  Humidity  Weather_Condition_Encoded  \\\n",
      "Temperature                      22.00    -72.50                      -3.75   \n",
      "Humidity                        -72.50    242.50                      12.75   \n",
      "Weather_Condition_Encoded        -3.75     12.75                       0.70   \n",
      "Wind_Direction_Encoded           -3.25     12.25                       0.80   \n",
      "\n",
      "                           Wind_Direction_Encoded  \n",
      "Temperature                                 -3.25  \n",
      "Humidity                                    12.25  \n",
      "Weather_Condition_Encoded                    0.80  \n",
      "Wind_Direction_Encoded                       1.70  \n"
     ]
    }
   ],
   "source": [
    "import pandas as pd\n",
    "from sklearn.preprocessing import OrdinalEncoder\n",
    "\n",
    "data = {\n",
    "    'Temperature': [30, 25, 20, 28, 32],\n",
    "    'Humidity': [45, 60, 80, 55, 40],\n",
    "    'Weather_Condition': ['Sunny', 'Cloudy', 'Rainy', 'Cloudy', 'Sunny'],\n",
    "    'Wind_Direction': ['North', 'East', 'South', 'West', 'North']\n",
    "}\n",
    "\n",
    "df = pd.DataFrame(data)\n",
    "\n",
    "encoder = OrdinalEncoder(categories=[['Sunny', 'Cloudy', 'Rainy'], ['North', 'East', 'South', 'West']])\n",
    "df[['Weather_Condition_Encoded', 'Wind_Direction_Encoded']] = encoder.fit_transform(df[['Weather_Condition', 'Wind_Direction']])\n",
    "\n",
    "cov_matrix = df[['Temperature', 'Humidity', 'Weather_Condition_Encoded', 'Wind_Direction_Encoded']].cov()\n",
    "print(\"Covariance Matrix:\\n\", cov_matrix)"
   ]
  },
  {
   "cell_type": "code",
   "execution_count": null,
   "metadata": {},
   "outputs": [],
   "source": []
  }
 ],
 "metadata": {
  "kernelspec": {
   "display_name": "Python 3",
   "language": "python",
   "name": "python3"
  },
  "language_info": {
   "codemirror_mode": {
    "name": "ipython",
    "version": 3
   },
   "file_extension": ".py",
   "mimetype": "text/x-python",
   "name": "python",
   "nbconvert_exporter": "python",
   "pygments_lexer": "ipython3",
   "version": "3.11.5"
  }
 },
 "nbformat": 4,
 "nbformat_minor": 2
}
