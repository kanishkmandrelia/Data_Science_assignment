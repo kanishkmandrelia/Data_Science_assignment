{
 "cells": [
  {
   "cell_type": "markdown",
   "metadata": {},
   "source": [
    "#### Q1: What is Estimation Statistics? Explain point estimate and interval estimate."
   ]
  },
  {
   "cell_type": "markdown",
   "metadata": {},
   "source": [
    "Ans."
   ]
  },
  {
   "cell_type": "markdown",
   "metadata": {},
   "source": [
    "Estimation statistics is a branch of inferential statistics that focuses on estimating population parameters based on sample data. Instead of simply testing hypotheses, estimation statistics aim to provide numerical values (estimates) for unknown parameters of a population, along with measures of uncertainty.  \n",
    "There are two main types of estimates used in estimation statistics:  \n",
    "1. Point Estimate  \n",
    "2. Interval Estimate"
   ]
  },
  {
   "cell_type": "markdown",
   "metadata": {},
   "source": [
    "1.Point Estimate:\n",
    "- A point estimate is a single value used to approximate an unknown population parameter. It is obtained from sample data and serves as the best guess for the true value of the parameter.\n",
    "- Examples of Point Estimates:\n",
    "  - The sample mean (𝑥 bar) is a point estimate of the population mean (𝜇).\n",
    "  - The sample proportion (p cap) is a point estimate of the population proportion (p).\n",
    "  - The sample standard deviation (s) is a point estimate of the population standard deviation (σ).\n",
    "- Limitations:\n",
    "  - A point estimate does not provide any information about its accuracy or reliability.\n",
    "  - It can vary from sample to sample due to randomness in data collection."
   ]
  },
  {
   "cell_type": "markdown",
   "metadata": {},
   "source": [
    "2. Interval Estimate:\n",
    "- An interval estimate provides a range of values within which the true population parameter is likely to fall, along with a confidence level that quantifies the uncertainty.\n",
    "- Confidence Interval (CI): A confidence interval is the most common form of an interval estimate and is expressed as:  \n",
    "Point Estimate +/- Margin of Error 0r ( Lower Bound, Upper Bound)\n",
    "- Advantages of Interval Estimates:  \n",
    "  - Provide a range of plausible values rather than a single estimate.\n",
    "  - Give an indication of the precision and reliability of the estimate."
   ]
  },
  {
   "cell_type": "markdown",
   "metadata": {},
   "source": [
    "---"
   ]
  },
  {
   "cell_type": "markdown",
   "metadata": {},
   "source": [
    "#### Q2. Write a Python function to estimate the population mean using a sample mean and standard deviation."
   ]
  },
  {
   "cell_type": "markdown",
   "metadata": {},
   "source": [
    "Ans."
   ]
  },
  {
   "cell_type": "code",
   "execution_count": 1,
   "metadata": {},
   "outputs": [],
   "source": [
    "import scipy.stats as stats\n",
    "import numpy as np"
   ]
  },
  {
   "cell_type": "code",
   "execution_count": 2,
   "metadata": {},
   "outputs": [
    {
     "name": "stdout",
     "output_type": "stream",
     "text": [
      "Estimated Population Mean: 52.00\n",
      "95% Confidence Interval: (46.79, 57.21)\n"
     ]
    }
   ],
   "source": [
    "def estimate_population_mean(sample, confidence=0.95):\n",
    "    n = len(sample)\n",
    "    sample_mean = np.mean(sample)\n",
    "    sample_std = np.std(sample, ddof=1)\n",
    "\n",
    "    t_value = stats.t.ppf((1 + confidence) / 2, df=n-1)\n",
    "\n",
    "    margin_of_error = t_value * (sample_std / np.sqrt(n))\n",
    "    \n",
    "    lower_bound = sample_mean - margin_of_error\n",
    "    upper_bound = sample_mean + margin_of_error\n",
    "\n",
    "    return sample_mean, lower_bound, upper_bound\n",
    "\n",
    "# Example Usage\n",
    "sample_data = [45, 50, 55, 60, 65, 40, 50, 55, 53, 47]  # Sample dataset\n",
    "mean, lower, upper = estimate_population_mean(sample_data, confidence=0.95)\n",
    "print(f\"Estimated Population Mean: {mean:.2f}\")\n",
    "print(f\"95% Confidence Interval: ({lower:.2f}, {upper:.2f})\")"
   ]
  },
  {
   "cell_type": "markdown",
   "metadata": {},
   "source": [
    "---"
   ]
  },
  {
   "cell_type": "markdown",
   "metadata": {},
   "source": [
    "#### Q3: What is Hypothesis testing? Why is it used? State the importance of Hypothesis testing."
   ]
  },
  {
   "cell_type": "markdown",
   "metadata": {},
   "source": [
    "Ans."
   ]
  },
  {
   "cell_type": "markdown",
   "metadata": {},
   "source": [
    "**Hypothesis testing:**  \n",
    "- Hypothesis testing is a statistical method used to make decisions or inferences about a population based on sample data. It involves formulating an assumption (hypothesis) about a population parameter and then testing its validity using statistical techniques.\n",
    "- The process typically involves:  \n",
    "  1. Formulating a null hypothesis (𝐻0): A statement that there is no effect or no difference.  \n",
    "  2. Formulating an alternative hypothesis (𝐻1 or Ha): A statement that there is an effect or a difference.  \n",
    "  3. Collecting sample data and performing statistical tests.\n",
    "  4. Comparing results to a significance level (α), often 0.05.  \n",
    "  5. Deciding whether to reject or fail to reject the null hypothesis."
   ]
  },
  {
   "cell_type": "markdown",
   "metadata": {},
   "source": [
    "Hypothesis testing is used in various fields such as medicine, business, economics, and science to:  \n",
    "- Make Data-Driven Decisions: Helps in decision-making based on statistical evidence rather than intuition.\n",
    "- Validate Theories or Claims: Determines whether claims or assumptions about a population parameter are statistically significant.\n",
    "- Compare Groups or Treatments: Assesses whether differences between groups are due to chance or a real effect.\n",
    "- Detect Relationships Between Variables: Determines whether there is a significant correlation or causation between two factors."
   ]
  },
  {
   "cell_type": "markdown",
   "metadata": {},
   "source": [
    "Importance of Hypothesis Testing:\n",
    "1. Provides Objectivity - Eliminates bias by relying on statistical evidence rather than assumptions.\n",
    "2. Supports Scientific Research - Used to test new medical treatments, drug efficacy, and experimental results.\n",
    "3. Reduces Decision-Making Errors - Helps avoid Type I errors (false positives) and Type II errors (false negatives).\n",
    "4. Improves Business Strategies - Companies use it for A/B testing in marketing, product development, and customer behavior analysis.\n",
    "5. Enhances Quality Control - Industries use it to check whether manufacturing processes meet standards.\n"
   ]
  },
  {
   "cell_type": "markdown",
   "metadata": {},
   "source": [
    "---"
   ]
  },
  {
   "cell_type": "markdown",
   "metadata": {},
   "source": [
    "#### Q4. Create a hypothesis that states whether the average weight of male college students is greater than the average weight of female college students."
   ]
  },
  {
   "cell_type": "markdown",
   "metadata": {},
   "source": [
    "Ans."
   ]
  },
  {
   "cell_type": "code",
   "execution_count": 3,
   "metadata": {},
   "outputs": [
    {
     "name": "stdout",
     "output_type": "stream",
     "text": [
      "Mean weight of male students: 84.00 kg\n",
      "Mean weight of female students: 62.50 kg\n",
      "T-statistic: 9.3244\n",
      "P-value: 0.0000\n",
      "Reject the null hypothesis: Male students have a significantly higher average weight than female students.\n"
     ]
    }
   ],
   "source": [
    "male_weights = [75, 80, 85, 78, 90, 88, 76, 95, 89, 84]\n",
    "female_weights = [60, 62, 58, 65, 67, 64, 63, 59, 66, 61]\n",
    "\n",
    "mean_male = np.mean(male_weights)\n",
    "mean_female = np.mean(female_weights)\n",
    "\n",
    "t_stat, p_value = stats.ttest_ind(male_weights, female_weights, alternative='greater')\n",
    "\n",
    "alpha = 0.05\n",
    "\n",
    "print(f\"Mean weight of male students: {mean_male:.2f} kg\")\n",
    "print(f\"Mean weight of female students: {mean_female:.2f} kg\")\n",
    "print(f\"T-statistic: {t_stat:.4f}\")\n",
    "print(f\"P-value: {p_value:.4f}\")\n",
    "\n",
    "if p_value < alpha:\n",
    "    print(\"Reject the null hypothesis: Male students have a significantly higher average weight than female students.\")\n",
    "else:\n",
    "    print(\"Fail to reject the null hypothesis: No significant difference in average weight between male and female students.\")\n"
   ]
  },
  {
   "cell_type": "markdown",
   "metadata": {},
   "source": [
    "---"
   ]
  },
  {
   "cell_type": "markdown",
   "metadata": {},
   "source": [
    "#### Q5. Write a Python script to conduct a hypothesis test on the difference between two population means, given a sample from each population."
   ]
  },
  {
   "cell_type": "markdown",
   "metadata": {},
   "source": [
    "Ans."
   ]
  },
  {
   "cell_type": "code",
   "execution_count": 4,
   "metadata": {},
   "outputs": [],
   "source": [
    "def hypothesis_test_two_means(sample1, sample2, alpha=0.05, alternative='two-sided'):\n",
    "    mean1, mean2 = np.mean(sample1), np.mean(sample2)\n",
    "    std1, std2 = np.std(sample1, ddof=1), np.std(sample2, ddof=1)  # Sample std dev\n",
    "    n1, n2 = len(sample1), len(sample2)\n",
    "    \n",
    "    t_stat, p_value = stats.ttest_ind(sample1, sample2, equal_var=False, alternative=alternative)\n",
    "    \n",
    "    if p_value < alpha:\n",
    "        decision = f\"Reject the null hypothesis (p = {p_value:.4f}). There is a significant difference.\"\n",
    "    else:\n",
    "        decision = f\"Fail to reject the null hypothesis (p = {p_value:.4f}). No significant difference.\"\n",
    "\n",
    "    return t_stat, p_value, decision\n"
   ]
  },
  {
   "cell_type": "code",
   "execution_count": 5,
   "metadata": {},
   "outputs": [
    {
     "name": "stdout",
     "output_type": "stream",
     "text": [
      "T-Statistic: 6.1674\n",
      "P-Value: 0.0000\n",
      "Conclusion: Reject the null hypothesis (p = 0.0000). There is a significant difference.\n"
     ]
    }
   ],
   "source": [
    "sample_male = [72, 75, 78, 80, 85, 90, 88, 84, 79, 76]\n",
    "sample_female = [60, 62, 65, 68, 70, 72, 71, 69, 67, 66]\n",
    "\n",
    "t_stat, p_value, result = hypothesis_test_two_means(sample_male, sample_female, alpha=0.05, alternative='greater')\n",
    "\n",
    "print(f\"T-Statistic: {t_stat:.4f}\")\n",
    "print(f\"P-Value: {p_value:.4f}\")\n",
    "print(\"Conclusion:\", result)"
   ]
  },
  {
   "cell_type": "markdown",
   "metadata": {},
   "source": [
    "---"
   ]
  },
  {
   "cell_type": "markdown",
   "metadata": {},
   "source": [
    "#### Q6: What is a null and alternative hypothesis? Give some examples."
   ]
  },
  {
   "cell_type": "markdown",
   "metadata": {},
   "source": [
    "Ans."
   ]
  },
  {
   "cell_type": "markdown",
   "metadata": {},
   "source": [
    "1.Null Hypothesis (H0):\n",
    "The null hypothesis is a statement that assumes no effect, no difference, or no relationship between variables. It represents the default assumption that any observed differences are due to chance or random variation.\n",
    "  - It is what we test against.\n",
    "  - We either reject or fail to reject 𝐻0.\n",
    "  - We never \"accept\" 𝐻0; we only conclude whether we have enough evidence to reject it.\n",
    "\n",
    "2.Alternative Hypothesis (Ha or H1):\n",
    "The alternative hypothesis is a statement that contradicts the null hypothesis. It suggests that there is an effect, difference, or relationship in the population.\n",
    "  - If there is enough statistical evidence, we reject H0 in favor of Ha.\n",
    "  - It represents what the researcher is trying to prove."
   ]
  },
  {
   "cell_type": "markdown",
   "metadata": {},
   "source": [
    "---"
   ]
  },
  {
   "cell_type": "markdown",
   "metadata": {},
   "source": [
    "#### Q7: Write down the steps involved in hypothesis testing."
   ]
  },
  {
   "cell_type": "markdown",
   "metadata": {},
   "source": [
    "Ans."
   ]
  },
  {
   "cell_type": "markdown",
   "metadata": {},
   "source": [
    "**Step 1: Define the Hypotheses**  \n",
    "- Null Hypothesis (H0): Assumes no effect, no difference, or status quo.\n",
    "- Alternative Hypothesis (Ha or H1): Represents the claim we are testing for (an effect, a difference, or a relationship)."
   ]
  },
  {
   "cell_type": "markdown",
   "metadata": {},
   "source": [
    "**Step 2: Choose a Significance Level (𝛼)**  \n",
    "- The significance level (α) represents the probability of rejecting H0 when it is actually true.\n",
    "- Common choices:\n",
    "  - 0.05 (5%) → Most commonly used\n",
    "  - 0.01 (1%) → More stringent\n",
    "  - 0.10 (10%) → Less stringent"
   ]
  },
  {
   "cell_type": "markdown",
   "metadata": {},
   "source": [
    "**Step 3: Collect and Summarize the Data**\n",
    "- Gather a random sample from the population.\n",
    "- Compute sample statistics such as:\n",
    "  - Mean (x bar)\n",
    "  - Standard deviation (s)\n",
    "  - Sample size (n)"
   ]
  },
  {
   "cell_type": "markdown",
   "metadata": {},
   "source": [
    "**Step 4: Choose and Perform a Statistical Test**  \n",
    "- The choice of test depends on:\n",
    "  - Type of data (continuous, categorical, etc.)\n",
    "  - Number of groups compared\n",
    "  - Sample size\n",
    "  - Distribution of data (normal or not)"
   ]
  },
  {
   "cell_type": "markdown",
   "metadata": {},
   "source": [
    "**Step 5: Compute the Test Statistic and P-Value**\n",
    "- The test statistic measures how far the sample statistic is from H0.  \n",
    "- The p-value represents the probability of obtaining the observed results under H0."
   ]
  },
  {
   "cell_type": "markdown",
   "metadata": {},
   "source": [
    "**Step 6: Compare the P-Value with 𝛼**\n",
    "- If p-value < 𝛼 -> Reject H0 (Significant evidence to support Ha).\n",
    "- If p-value ≥ 𝛼 -> Fail to reject H0 (Not enough evidence to support Ha)."
   ]
  },
  {
   "cell_type": "markdown",
   "metadata": {},
   "source": [
    "**Step 7: Interpret and Report the Results**\n",
    "- Clearly state whether you reject or fail to reject H0.\n",
    "- Provide the test statistic, p-value, and confidence interval.\n",
    "- Explain the practical significance of the results."
   ]
  },
  {
   "cell_type": "markdown",
   "metadata": {},
   "source": [
    "---"
   ]
  },
  {
   "cell_type": "markdown",
   "metadata": {},
   "source": [
    "#### Q8. Define p-value and explain its significance in hypothesis testing."
   ]
  },
  {
   "cell_type": "markdown",
   "metadata": {},
   "source": [
    "Ans."
   ]
  },
  {
   "cell_type": "markdown",
   "metadata": {},
   "source": [
    "The p-value (probability value) is a statistical measure that helps determine whether the observed data provides sufficient evidence to reject the null hypothesis (H0).\n",
    "- It represents the probability of obtaining the observed results (or more extreme results) under the assumption that H0 is true.  \n",
    "- The smaller the p-value, the stronger the evidence against H0."
   ]
  },
  {
   "cell_type": "markdown",
   "metadata": {},
   "source": [
    "---"
   ]
  },
  {
   "cell_type": "markdown",
   "metadata": {},
   "source": [
    "#### Q9. Generate a Student's t-distribution plot using Python's matplotlib library, with the degrees of freedom parameter set to 10."
   ]
  },
  {
   "cell_type": "markdown",
   "metadata": {},
   "source": [
    "Ans."
   ]
  },
  {
   "cell_type": "code",
   "execution_count": 6,
   "metadata": {},
   "outputs": [
    {
     "data": {
      "image/png": "[encoded data removed]",
      "text/plain": [
       "<Figure size 800x500 with 1 Axes>"
      ]
     },
     "metadata": {},
     "output_type": "display_data"
    }
   ],
   "source": [
    "import numpy as np\n",
    "import scipy.stats as stats\n",
    "import matplotlib.pyplot as plt\n",
    "\n",
    "df = 10  \n",
    "x = np.linspace(-4, 4, 1000) \n",
    "y = stats.t.pdf(x, df) \n",
    "\n",
    "plt.figure(figsize=(8, 5))\n",
    "plt.plot(x, y, label=f\"t-Distribution (df={df})\", color=\"blue\")\n",
    "plt.axvline(0, linestyle=\"--\", color=\"black\", alpha=0.6)  \n",
    "plt.xlabel(\"t-value\")\n",
    "plt.ylabel(\"Probability Density\")\n",
    "plt.title(\"Student's t-Distribution (df=10)\")\n",
    "plt.legend()\n",
    "plt.grid(True)"
   ]
  },
  {
   "cell_type": "markdown",
   "metadata": {},
   "source": [
    "---"
   ]
  },
  {
   "cell_type": "markdown",
   "metadata": {},
   "source": [
    "#### Q10. Write a Python program to calculate the two-sample t-test for independent samples, given two random samples of equal size and a null hypothesis that the population means are equal."
   ]
  },
  {
   "cell_type": "markdown",
   "metadata": {},
   "source": [
    "Ans."
   ]
  },
  {
   "cell_type": "code",
   "execution_count": 7,
   "metadata": {},
   "outputs": [
    {
     "name": "stdout",
     "output_type": "stream",
     "text": [
      "T-Statistic: -13.9431\n",
      "P-Value: 0.0000\n",
      "Conclusion: Reject the null hypothesis (p = 0.0000). The population means are significantly different.\n"
     ]
    }
   ],
   "source": [
    "def two_sample_t_test(sample1, sample2, alpha=0.05):\n",
    "    t_stat, p_value = stats.ttest_ind(sample1, sample2, equal_var=False)\n",
    "\n",
    "    if p_value < alpha:\n",
    "        decision = f\"Reject the null hypothesis (p = {p_value:.4f}). The population means are significantly different.\"\n",
    "    else:\n",
    "        decision = f\"Fail to reject the null hypothesis (p = {p_value:.4f}). No significant difference between population means.\"\n",
    "\n",
    "    return t_stat, p_value, decision\n",
    "\n",
    "sample1 = [56, 60, 62, 58, 59, 65, 61, 57, 64, 63]\n",
    "sample2 = [75, 79, 80, 76, 82, 77, 81, 78, 74, 79]\n",
    "\n",
    "t_stat, p_value, result = two_sample_t_test(sample1, sample2, alpha=0.05)\n",
    "\n",
    "print(f\"T-Statistic: {t_stat:.4f}\")\n",
    "print(f\"P-Value: {p_value:.4f}\")\n",
    "print(\"Conclusion:\", result)\n"
   ]
  },
  {
   "cell_type": "markdown",
   "metadata": {},
   "source": [
    "---"
   ]
  },
  {
   "cell_type": "markdown",
   "metadata": {},
   "source": [
    "#### Q11: What is Student’s t distribution? When to use the t-Distribution."
   ]
  },
  {
   "cell_type": "markdown",
   "metadata": {},
   "source": [
    "Ans."
   ]
  },
  {
   "cell_type": "markdown",
   "metadata": {},
   "source": [
    "**Student’s t-Distribution:**\n",
    "The Student’s t-distribution is a probability distribution used to estimate population parameters when the sample size is small, and the population standard deviation is unknown. It was first described by William Sealy Gosset under the pseudonym \"Student.\"  \n",
    "The t-distribution is similar to the normal distribution, but it has heavier tails. This means it accounts for more variability, which is especially useful when working with small sample sizes."
   ]
  },
  {
   "cell_type": "markdown",
   "metadata": {},
   "source": [
    "**When to Use the t-Distribution:**  \n",
    "The t-distribution is typically used in the following situations:  \n",
    "1. Small Sample Size (n < 30):\n",
    "  - When the sample size is small, the sample mean may not approximate the population mean well, and the normal distribution is not a good fit.\n",
    "  - For small samples, we use the t-distribution to account for this uncertainty.\n",
    "\n",
    "2. Unknown Population Standard Deviation:\n",
    "  - When the population standard deviation is unknown, and we must estimate it using the sample standard deviation, the t-distribution is appropriate.\n",
    "  - This is common in real-world scenarios where population parameters are rarely known.\n",
    "\n",
    "3. Hypothesis Testing:  \n",
    "  - The t-distribution is used for hypothesis testing when the sample size is small, and we are testing whether the sample mean significantly differs from a known population mean (one-sample t-test) or comparing two sample means (two-sample t-test).\n",
    "  - Example: Testing whether a new drug has a significantly different effect than an existing one with small sample data.\n",
    "\n",
    "4. Confidence Intervals for Mean:  \n",
    "  - When constructing confidence intervals for a population mean from a small sample, the t-distribution is used to adjust for the uncertainty in the estimate."
   ]
  },
  {
   "cell_type": "markdown",
   "metadata": {},
   "source": [
    "---"
   ]
  },
  {
   "cell_type": "markdown",
   "metadata": {},
   "source": [
    "#### Q12: What is t-statistic? State the formula for t-statistic."
   ]
  },
  {
   "cell_type": "markdown",
   "metadata": {},
   "source": [
    "Ans."
   ]
  },
  {
   "cell_type": "markdown",
   "metadata": {},
   "source": [
    "The t-statistic (or t-value) is a value calculated from sample data during hypothesis testing. It helps determine whether to reject the null hypothesis (H0) by comparing the observed difference between the sample mean and the population mean to the standard error of the sample mean.  \n",
    "It is used in Student’s t-test to assess if the difference between sample data and a population is statistically significant. The t-statistic is essential when:\n",
    "- The sample size is small (n<30).\n",
    "- The population standard deviation is unknown."
   ]
  },
  {
   "cell_type": "markdown",
   "metadata": {},
   "source": [
    "**Formula for t-Statistic:**\n",
    "- For a one-sample t-test, the formula for the t-statistic is:  \n",
    " (Sample mean - Population mean) / (standard deviation / root of n ) "
   ]
  },
  {
   "cell_type": "markdown",
   "metadata": {},
   "source": [
    "---"
   ]
  },
  {
   "cell_type": "markdown",
   "metadata": {},
   "source": [
    "#### Q13. A coffee shop owner wants to estimate the average daily revenue for their shop. They take a random sample of 50 days and find the sample mean revenue to be $500 with a standard deviation of $50. Estimate the population mean revenue with a 95% confidence interval."
   ]
  },
  {
   "cell_type": "markdown",
   "metadata": {},
   "source": [
    "Ans."
   ]
  },
  {
   "cell_type": "code",
   "execution_count": 8,
   "metadata": {},
   "outputs": [
    {
     "name": "stdout",
     "output_type": "stream",
     "text": [
      "t-Critical Value: 2.0096\n",
      "Standard Error: 7.0711\n",
      "Margin of Error: 14.2098\n",
      "95% Confidence Interval: (485.79, 514.21)\n"
     ]
    }
   ],
   "source": [
    "import scipy.stats as stats\n",
    "import math\n",
    "\n",
    "# Given data\n",
    "sample_mean = 500\n",
    "sample_std_dev = 50\n",
    "sample_size = 50\n",
    "confidence_level = 0.95\n",
    "\n",
    "df = sample_size - 1\n",
    "\n",
    "t_critical = stats.t.ppf(1 - 0.025, df)\n",
    "\n",
    "standard_error = sample_std_dev / math.sqrt(sample_size)\n",
    "\n",
    "margin_of_error = t_critical * standard_error\n",
    "confidence_interval = (sample_mean - margin_of_error, sample_mean + margin_of_error)\n",
    "\n",
    "print(f\"t-Critical Value: {t_critical:.4f}\")\n",
    "print(f\"Standard Error: {standard_error:.4f}\")\n",
    "print(f\"Margin of Error: {margin_of_error:.4f}\")\n",
    "print(f\"95% Confidence Interval: ({confidence_interval[0]:.2f}, {confidence_interval[1]:.2f})\")\n"
   ]
  },
  {
   "cell_type": "markdown",
   "metadata": {},
   "source": [
    "---"
   ]
  },
  {
   "cell_type": "markdown",
   "metadata": {},
   "source": [
    "### Q14. A researcher hypothesizes that a new drug will decrease blood pressure by 10 mmHg. They conduct a clinical trial with 100 patients and find that the sample mean decrease in blood pressure is 8 mmHg with a standard deviation of 3 mmHg. Test the hypothesis with a significance level of 0.05."
   ]
  },
  {
   "cell_type": "markdown",
   "metadata": {},
   "source": [
    "Ans."
   ]
  },
  {
   "cell_type": "code",
   "execution_count": 9,
   "metadata": {},
   "outputs": [
    {
     "name": "stdout",
     "output_type": "stream",
     "text": [
      "T-Statistic: -6.6667\n",
      "P-Value: 0.0000\n",
      "Reject the null hypothesis (p = 0.0000). The drug has a significant effect on blood pressure.\n"
     ]
    }
   ],
   "source": [
    "import scipy.stats as stats\n",
    "import math\n",
    "\n",
    "# Given data\n",
    "sample_mean = 8  \n",
    "hypothesized_mean = 10\n",
    "sample_std_dev = 3\n",
    "sample_size = 100 \n",
    "alpha = 0.05\n",
    "\n",
    "degree_of_freedom = sample_size - 1\n",
    "\n",
    "t_stat = (sample_mean - hypothesized_mean) / (sample_std_dev / math.sqrt(sample_size))\n",
    "\n",
    "p_value = stats.t.cdf(t_stat, df)\n",
    "\n",
    "if p_value < alpha:\n",
    "    result = f\"Reject the null hypothesis (p = {p_value:.4f}). The drug has a significant effect on blood pressure.\"\n",
    "else:\n",
    "    result = f\"Fail to reject the null hypothesis (p = {p_value:.4f}). The drug does not have a significant effect.\"\n",
    "\n",
    "print(f\"T-Statistic: {t_stat:.4f}\")\n",
    "print(f\"P-Value: {p_value:.4f}\")\n",
    "print(result)\n"
   ]
  },
  {
   "cell_type": "markdown",
   "metadata": {},
   "source": [
    "---"
   ]
  },
  {
   "cell_type": "markdown",
   "metadata": {},
   "source": [
    "#### Q15. An electronics company produces a certain type of product with a mean weight of 5 pounds and a standard deviation of 0.5 pounds. A random sample of 25 products is taken, and the sample mean weight is found to be 4.8 pounds. Test the hypothesis that the true mean weight of the products is less than 5 pounds with a significance level of 0.01."
   ]
  },
  {
   "cell_type": "markdown",
   "metadata": {},
   "source": [
    "Ans."
   ]
  },
  {
   "cell_type": "code",
   "execution_count": 10,
   "metadata": {},
   "outputs": [
    {
     "name": "stdout",
     "output_type": "stream",
     "text": [
      "Z-Statistic: -2.0000\n",
      "P-Value: 0.0228\n",
      "Fail to reject the null hypothesis (p = 0.0228). No significant evidence that the true mean weight is less than 5 pounds.\n"
     ]
    }
   ],
   "source": [
    "import scipy.stats as stats\n",
    "import math\n",
    "\n",
    "# Given data\n",
    "sample_mean = 4.8\n",
    "population_mean = 5\n",
    "population_std_dev = 0.5\n",
    "sample_size = 25\n",
    "alpha = 0.01\n",
    "\n",
    "z_stat = (sample_mean - population_mean) / (population_std_dev / math.sqrt(sample_size))\n",
    "\n",
    "p_value = stats.norm.cdf(z_stat)\n",
    "\n",
    "if p_value < alpha:\n",
    "    result = f\"Reject the null hypothesis (p = {p_value:.4f}). The true mean weight is significantly less than 5 pounds.\"\n",
    "else:\n",
    "    result = f\"Fail to reject the null hypothesis (p = {p_value:.4f}). No significant evidence that the true mean weight is less than 5 pounds.\"\n",
    "\n",
    "print(f\"Z-Statistic: {z_stat:.4f}\")\n",
    "print(f\"P-Value: {p_value:.4f}\")\n",
    "print(result)\n"
   ]
  },
  {
   "cell_type": "markdown",
   "metadata": {},
   "source": [
    "---"
   ]
  },
  {
   "cell_type": "markdown",
   "metadata": {},
   "source": [
    "#### Q16. Two groups of students are given different study materials to prepare for a test. The first group (n1 = 30) has a mean score of 80 with a standard deviation of 10, and the second group (n2 = 40) has a mean score of 75 with a standard deviation of 8. Test the hypothesis that the population means for the two groups are equal with a significance level of 0.01."
   ]
  },
  {
   "cell_type": "markdown",
   "metadata": {},
   "source": [
    "Ans."
   ]
  },
  {
   "cell_type": "code",
   "execution_count": 11,
   "metadata": {},
   "outputs": [
    {
     "name": "stdout",
     "output_type": "stream",
     "text": [
      "T-Statistic: 2.2511\n",
      "Degrees of Freedom: 54.23\n",
      "P-Value: 0.0285\n",
      "Fail to reject the null hypothesis (p = 0.0285). No significant difference in population means.\n"
     ]
    }
   ],
   "source": [
    "# Given data for Group 1\n",
    "mean_1, std_dev_1, n_1 = 80, 10, 30\n",
    "\n",
    "# Given data for Group 2\n",
    "mean_2, std_dev_2, n_2 = 75, 8, 40\n",
    "\n",
    "alpha = 0.01\n",
    "\n",
    "numerator = mean_1 - mean_2\n",
    "denominator = math.sqrt((std_dev_1**2 / n_1) + (std_dev_2**2 / n_2))\n",
    "t_stat = numerator / denominator\n",
    "\n",
    "df = ((std_dev_1**2 / n_1 + std_dev_2**2 / n_2)**2) / ((std_dev_1**2 / n_1)**2 / (n_1 - 1) + (std_dev_2**2 / n_2)**2 / (n_2 - 1))\n",
    "\n",
    "p_value = 2 * stats.t.cdf(-abs(t_stat), df)\n",
    "\n",
    "if p_value < alpha:\n",
    "    result = f\"Reject the null hypothesis (p = {p_value:.4f}). The population means are significantly different.\"\n",
    "else:\n",
    "    result = f\"Fail to reject the null hypothesis (p = {p_value:.4f}). No significant difference in population means.\"\n",
    "\n",
    "print(f\"T-Statistic: {t_stat:.4f}\")\n",
    "print(f\"Degrees of Freedom: {df:.2f}\")\n",
    "print(f\"P-Value: {p_value:.4f}\")\n",
    "print(result)\n"
   ]
  },
  {
   "cell_type": "markdown",
   "metadata": {},
   "source": [
    "---"
   ]
  },
  {
   "cell_type": "markdown",
   "metadata": {},
   "source": [
    "#### Q17. A marketing company wants to estimate the average number of ads watched by viewers during a TV program. They take a random sample of 50 viewers and find that the sample mean is 4 with a standard deviation of 1.5. Estimate the population mean with a 99% confidence interval."
   ]
  },
  {
   "cell_type": "markdown",
   "metadata": {},
   "source": [
    "Ans."
   ]
  },
  {
   "cell_type": "code",
   "execution_count": 12,
   "metadata": {},
   "outputs": [
    {
     "name": "stdout",
     "output_type": "stream",
     "text": [
      "t-Critical Value: 2.6800\n",
      "Standard Error: 0.2121\n",
      "Margin of Error: 0.5685\n",
      "99% Confidence Interval: (3.43, 4.57)\n"
     ]
    }
   ],
   "source": [
    "# Given data\n",
    "sample_mean = 4\n",
    "sample_std_dev = 1.5\n",
    "sample_size = 50\n",
    "confidence_level = 0.99\n",
    "\n",
    "df = sample_size - 1\n",
    "\n",
    "t_critical = stats.t.ppf(1 - 0.005, df)\n",
    "\n",
    "standard_error = sample_std_dev / math.sqrt(sample_size)\n",
    "\n",
    "margin_of_error = t_critical * standard_error\n",
    "confidence_interval = (sample_mean - margin_of_error, sample_mean + margin_of_error)\n",
    "\n",
    "print(f\"t-Critical Value: {t_critical:.4f}\")\n",
    "print(f\"Standard Error: {standard_error:.4f}\")\n",
    "print(f\"Margin of Error: {margin_of_error:.4f}\")\n",
    "print(f\"99% Confidence Interval: ({confidence_interval[0]:.2f}, {confidence_interval[1]:.2f})\")\n"
   ]
  },
  {
   "cell_type": "code",
   "execution_count": null,
   "metadata": {},
   "outputs": [],
   "source": []
  }
 ],
 "metadata": {
  "kernelspec": {
   "display_name": "Python 3",
   "language": "python",
   "name": "python3"
  },
  "language_info": {
   "codemirror_mode": {
    "name": "ipython",
    "version": 3
   },
   "file_extension": ".py",
   "mimetype": "text/x-python",
   "name": "python",
   "nbconvert_exporter": "python",
   "pygments_lexer": "ipython3",
   "version": "3.11.5"
  }
 },
 "nbformat": 4,
 "nbformat_minor": 2
}
