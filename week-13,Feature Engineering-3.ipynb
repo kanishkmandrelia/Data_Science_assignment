{
 "cells": [
  {
   "cell_type": "markdown",
   "metadata": {},
   "source": [
    "#### Q1. What is data encoding? How is it useful in data science?"
   ]
  },
  {
   "cell_type": "markdown",
   "metadata": {},
   "source": [
    "Ans."
   ]
  },
  {
   "cell_type": "markdown",
   "metadata": {},
   "source": [
    "Data encoding is the process of converting categorical or textual data into numerical format so that machine learning models can process and analyze it effectively. Since most models work with numerical data, categorical features (such as names, colors, or labels) need to be transformed into a numerical representation."
   ]
  },
  {
   "cell_type": "markdown",
   "metadata": {},
   "source": [
    "**Data Encoding Useful in Data Science:**  \n",
    "- Makes Data Machine-Readable: ML models require numerical input, and encoding converts categorical features into numerical form.\n",
    "- Improves Model Performance: Proper encoding can help models learn relationships between categories more effectively.\n",
    "- Reduces Data Complexity: Encoded data allows efficient processing and better feature representation.\n",
    "- Handles Categorical Data: Many datasets contain categorical variables, and encoding helps integrate them into ML workflows."
   ]
  },
  {
   "cell_type": "markdown",
   "metadata": {},
   "source": [
    "---"
   ]
  },
  {
   "cell_type": "markdown",
   "metadata": {},
   "source": [
    "#### Q2. What is nominal encoding? Provide an example of how you would use it in a real-world scenario."
   ]
  },
  {
   "cell_type": "markdown",
   "metadata": {},
   "source": [
    "Ans."
   ]
  },
  {
   "cell_type": "markdown",
   "metadata": {},
   "source": [
    "Nominal encoding is a method of converting categorical (nominal) data into a numerical format for machine learning models. Nominal variables are unordered categories, meaning there is no inherent ranking or priority among them. Examples include colors, country names, or product types."
   ]
  },
  {
   "cell_type": "code",
   "execution_count": 1,
   "metadata": {},
   "outputs": [
    {
     "name": "stdout",
     "output_type": "stream",
     "text": [
      "   Product_ID  Product_Category_Clothing  Product_Category_Electronics  \\\n",
      "0         101                      False                          True   \n",
      "1         102                       True                         False   \n",
      "2         103                      False                         False   \n",
      "3         104                      False                          True   \n",
      "4         105                       True                         False   \n",
      "\n",
      "   Product_Category_Home & Kitchen  \n",
      "0                            False  \n",
      "1                            False  \n",
      "2                             True  \n",
      "3                            False  \n",
      "4                            False  \n"
     ]
    }
   ],
   "source": [
    "import pandas as pd\n",
    "\n",
    "data = pd.DataFrame({\"Product_ID\": [101, 102, 103, 104, 105],\n",
    "                     \"Product_Category\": [\"Electronics\", \"Clothing\", \"Home & Kitchen\", \"Electronics\", \"Clothing\"]})\n",
    "\n",
    "encoded_data = pd.get_dummies(data, columns=[\"Product_Category\"])\n",
    "\n",
    "print(encoded_data)"
   ]
  },
  {
   "cell_type": "code",
   "execution_count": 2,
   "metadata": {},
   "outputs": [
    {
     "name": "stdout",
     "output_type": "stream",
     "text": [
      "   Product_ID Product_Category  Product_Category_Encoded\n",
      "0         101      Electronics                         1\n",
      "1         102         Clothing                         0\n",
      "2         103   Home & Kitchen                         2\n",
      "3         104      Electronics                         1\n",
      "4         105         Clothing                         0\n"
     ]
    }
   ],
   "source": [
    "from sklearn.preprocessing import LabelEncoder\n",
    "\n",
    "encoder = LabelEncoder()\n",
    "data[\"Product_Category_Encoded\"] = encoder.fit_transform(data[\"Product_Category\"])\n",
    "print(data)"
   ]
  },
  {
   "cell_type": "markdown",
   "metadata": {},
   "source": [
    "---"
   ]
  },
  {
   "cell_type": "markdown",
   "metadata": {},
   "source": [
    "#### Q3. In what situations is nominal encoding preferred over one-hot encoding? Provide a practical example."
   ]
  },
  {
   "cell_type": "markdown",
   "metadata": {},
   "source": [
    "Ans."
   ]
  },
  {
   "cell_type": "markdown",
   "metadata": {},
   "source": [
    "Although One-Hot Encoding (OHE) is the most common technique for handling nominal data, it can lead to high-dimensionality issues when dealing with categorical features with many unique values. In such cases, alternative nominal encoding techniques (e.g., Label Encoding, Target Encoding, Frequency Encoding) are preferred."
   ]
  },
  {
   "cell_type": "markdown",
   "metadata": {},
   "source": [
    "**Situations Where Nominal Encoding is Preferred Over One-Hot Encoding:**  \n",
    "\n",
    "1.When There Are Too Many Unique Categories (High Cardinality)  \n",
    "- One-Hot Encoding creates one column per category, which increases dimensionality and memory usage.\n",
    "- Example: Encoding 1,000 cities using One-Hot Encoding would create 1,000 columns, making the dataset sparse.\n",
    "\n",
    "2.When the Categorical Variable is Used in Tree-Based Models  \n",
    "- Decision trees (e.g., Random Forest, XGBoost) can naturally handle numerical labels, making Label Encoding a better choice.\n",
    "- Example: \"Job Titles\" in an HR dataset.\n",
    "\n",
    "3.When There is an Established Ordinal Relationship  \n",
    "- If the categories have some meaning in order, Ordinal Encoding is preferred.\n",
    "- Example: Movie Ratings → [\"Bad\", \"Average\", \"Good\", \"Excellent\"] → [0, 1, 2, 3]\n",
    "\n",
    "4.When Using Target Encoding (Mean Encoding) for Supervised Learning  \n",
    "- Instead of OHE, we replace each category with the mean of the target variable.\n",
    "- Example: Predicting house prices based on neighborhood."
   ]
  },
  {
   "cell_type": "code",
   "execution_count": 3,
   "metadata": {},
   "outputs": [
    {
     "name": "stdout",
     "output_type": "stream",
     "text": [
      "            City  Total_Rides  City_Encoded\n",
      "0       New York        12000             2\n",
      "1  San Francisco         8000             1\n",
      "2    Los Angeles         9500             2\n",
      "3        Chicago         7200             1\n",
      "4       New York        11000             2\n",
      "5    Los Angeles         9700             2\n"
     ]
    }
   ],
   "source": [
    "import pandas as pd\n",
    "\n",
    "data = pd.DataFrame({\n",
    "    \"City\": [\"New York\", \"San Francisco\", \"Los Angeles\", \"Chicago\", \"New York\", \"Los Angeles\"],\n",
    "    \"Total_Rides\": [12000, 8000, 9500, 7200, 11000, 9700]\n",
    "})\n",
    "\n",
    "city_counts = data[\"City\"].value_counts()\n",
    "data[\"City_Encoded\"] = data[\"City\"].map(city_counts)\n",
    "\n",
    "print(data)"
   ]
  },
  {
   "cell_type": "markdown",
   "metadata": {},
   "source": [
    "---"
   ]
  },
  {
   "cell_type": "markdown",
   "metadata": {},
   "source": [
    "#### Q4. Suppose you have a dataset containing categorical data with 5 unique values. Which encoding technique would you use to transform this data into a format suitable for machine learning algorithms? Explain why you made this choice."
   ]
  },
  {
   "cell_type": "markdown",
   "metadata": {},
   "source": [
    "Ans."
   ]
  },
  {
   "cell_type": "code",
   "execution_count": 4,
   "metadata": {},
   "outputs": [
    {
     "name": "stdout",
     "output_type": "stream",
     "text": [
      "   Product_Category_Clothing  Product_Category_Electronics  \\\n",
      "0                      False                          True   \n",
      "1                       True                         False   \n",
      "2                      False                         False   \n",
      "3                      False                         False   \n",
      "4                      False                         False   \n",
      "\n",
      "   Product_Category_Home  Product_Category_Sports  Product_Category_Toys  \n",
      "0                  False                    False                  False  \n",
      "1                  False                    False                  False  \n",
      "2                   True                    False                  False  \n",
      "3                  False                     True                  False  \n",
      "4                  False                    False                   True  \n"
     ]
    }
   ],
   "source": [
    "import pandas as pd\n",
    "\n",
    "data = pd.DataFrame({\"Product_Category\": [\"Electronics\", \"Clothing\", \"Home\", \"Sports\", \"Toys\"]})\n",
    "\n",
    "encoded_data = pd.get_dummies(data, columns=[\"Product_Category\"])\n",
    "print(encoded_data)"
   ]
  },
  {
   "cell_type": "code",
   "execution_count": 5,
   "metadata": {},
   "outputs": [
    {
     "name": "stdout",
     "output_type": "stream",
     "text": [
      "  Product_Category  Category_Encoded\n",
      "0      Electronics                 1\n",
      "1         Clothing                 0\n",
      "2             Home                 2\n",
      "3           Sports                 3\n",
      "4             Toys                 4\n"
     ]
    }
   ],
   "source": [
    "from sklearn.preprocessing import LabelEncoder\n",
    "\n",
    "data = pd.DataFrame({\"Product_Category\": [\"Electronics\", \"Clothing\", \"Home\", \"Sports\", \"Toys\"]})\n",
    "\n",
    "encoder = LabelEncoder()\n",
    "data[\"Category_Encoded\"] = encoder.fit_transform(data[\"Product_Category\"])\n",
    "print(data)"
   ]
  },
  {
   "cell_type": "code",
   "execution_count": 6,
   "metadata": {},
   "outputs": [
    {
     "name": "stdout",
     "output_type": "stream",
     "text": [
      "  Neighborhood  House_Price  Neighborhood_Encoded\n",
      "0            A       500000              500000.0\n",
      "1            B       700000              700000.0\n",
      "2            C       600000              600000.0\n",
      "3            D       800000              800000.0\n",
      "4            E       550000              550000.0\n"
     ]
    }
   ],
   "source": [
    "data = pd.DataFrame({\n",
    "    \"Neighborhood\": [\"A\", \"B\", \"C\", \"D\", \"E\"],\n",
    "    \"House_Price\": [500000, 700000, 600000, 800000, 550000]\n",
    "})\n",
    "\n",
    "mean_target = data.groupby(\"Neighborhood\")[\"House_Price\"].mean()\n",
    "\n",
    "data[\"Neighborhood_Encoded\"] = data[\"Neighborhood\"].map(mean_target)\n",
    "print(data)"
   ]
  },
  {
   "cell_type": "markdown",
   "metadata": {},
   "source": [
    "---"
   ]
  },
  {
   "cell_type": "markdown",
   "metadata": {},
   "source": [
    "#### Q5. In a machine learning project, you have a dataset with 1000 rows and 5 columns. Two of the columns are categorical, and the remaining three columns are numerical. If you were to use nominal encoding to transform the categorical data, how many new columns would be created? Show your calculations."
   ]
  },
  {
   "cell_type": "markdown",
   "metadata": {},
   "source": [
    "Ans."
   ]
  },
  {
   "cell_type": "code",
   "execution_count": 7,
   "metadata": {},
   "outputs": [
    {
     "name": "stdout",
     "output_type": "stream",
     "text": [
      "\n",
      "Original Dataset:\n",
      "  Category_A Category_B  Feature_1  Feature_2  Feature_3\n",
      "0        Red      Small       10.5        100        5.5\n",
      "1       Blue     Medium       20.3        200        7.8\n",
      "2      Green      Large       15.8        150        6.3\n",
      "3        Red      Small       18.2        180        8.0\n",
      "4       Blue      Large       11.7        110        5.9\n",
      "5      Green     Medium       22.1        220        7.5\n",
      "6        Red      Small       13.4        130        6.1\n",
      "7     Yellow      Large       17.6        170        7.2\n",
      "8      Green     Medium       19.8        190        7.0\n",
      "9     Yellow      Small       12.5        120        5.8\n"
     ]
    }
   ],
   "source": [
    "import pandas as pd\n",
    "from sklearn.preprocessing import OneHotEncoder, LabelEncoder\n",
    "\n",
    "data = pd.DataFrame({\n",
    "    \"Category_A\": [\"Red\", \"Blue\", \"Green\", \"Red\", \"Blue\", \"Green\", \"Red\", \"Yellow\", \"Green\", \"Yellow\"],\n",
    "    \"Category_B\": [\"Small\", \"Medium\", \"Large\", \"Small\", \"Large\", \"Medium\", \"Small\", \"Large\", \"Medium\", \"Small\"],\n",
    "    \"Feature_1\": [10.5, 20.3, 15.8, 18.2, 11.7, 22.1, 13.4, 17.6, 19.8, 12.5],\n",
    "    \"Feature_2\": [100, 200, 150, 180, 110, 220, 130, 170, 190, 120],\n",
    "    \"Feature_3\": [5.5, 7.8, 6.3, 8.0, 5.9, 7.5, 6.1, 7.2, 7.0, 5.8]\n",
    "})\n",
    "\n",
    "print(\"\\nOriginal Dataset:\")\n",
    "print(data)"
   ]
  },
  {
   "cell_type": "code",
   "execution_count": 8,
   "metadata": {},
   "outputs": [
    {
     "name": "stdout",
     "output_type": "stream",
     "text": [
      "\n",
      "Dataset After One-Hot Encoding:\n",
      "   Feature_1  Feature_2  Feature_3  Category_A_Green  Category_A_Red  \\\n",
      "0       10.5        100        5.5               0.0             1.0   \n",
      "1       20.3        200        7.8               0.0             0.0   \n",
      "2       15.8        150        6.3               1.0             0.0   \n",
      "3       18.2        180        8.0               0.0             1.0   \n",
      "4       11.7        110        5.9               0.0             0.0   \n",
      "5       22.1        220        7.5               1.0             0.0   \n",
      "6       13.4        130        6.1               0.0             1.0   \n",
      "7       17.6        170        7.2               0.0             0.0   \n",
      "8       19.8        190        7.0               1.0             0.0   \n",
      "9       12.5        120        5.8               0.0             0.0   \n",
      "\n",
      "   Category_A_Yellow  Category_B_Medium  Category_B_Small  \n",
      "0                0.0                0.0               1.0  \n",
      "1                0.0                1.0               0.0  \n",
      "2                0.0                0.0               0.0  \n",
      "3                0.0                0.0               1.0  \n",
      "4                0.0                0.0               0.0  \n",
      "5                0.0                1.0               0.0  \n",
      "6                0.0                0.0               1.0  \n",
      "7                1.0                0.0               0.0  \n",
      "8                0.0                1.0               0.0  \n",
      "9                1.0                0.0               1.0  \n",
      "\n",
      "Dataset After Label Encoding:\n",
      "   Feature_1  Feature_2  Feature_3  Category_A_Label  Category_B_Label\n",
      "0       10.5        100        5.5                 2                 2\n",
      "1       20.3        200        7.8                 0                 1\n",
      "2       15.8        150        6.3                 1                 0\n",
      "3       18.2        180        8.0                 2                 2\n",
      "4       11.7        110        5.9                 0                 0\n",
      "5       22.1        220        7.5                 1                 1\n",
      "6       13.4        130        6.1                 2                 2\n",
      "7       17.6        170        7.2                 3                 0\n",
      "8       19.8        190        7.0                 1                 1\n",
      "9       12.5        120        5.8                 3                 2\n"
     ]
    }
   ],
   "source": [
    "# OPTION 1: One-Hot Encoding\n",
    "\n",
    "# Step 2: Apply One-Hot Encoding\n",
    "ohe = OneHotEncoder(drop=\"first\", sparse_output=False)  # Drop first to avoid dummy variable trap (optional)\n",
    "encoded_ohe = ohe.fit_transform(data[[\"Category_A\", \"Category_B\"]])\n",
    "\n",
    "# Convert OHE result to a DataFrame with proper column names\n",
    "ohe_columns = ohe.get_feature_names_out([\"Category_A\", \"Category_B\"])\n",
    "encoded_df_ohe = pd.DataFrame(encoded_ohe, columns=ohe_columns)\n",
    "\n",
    "# Step 3: Concatenate with the original dataset (dropping original categorical columns)\n",
    "final_data_ohe = pd.concat([data.drop(columns=[\"Category_A\", \"Category_B\"]), encoded_df_ohe], axis=1)\n",
    "\n",
    "print(\"\\nDataset After One-Hot Encoding:\")\n",
    "print(final_data_ohe)\n",
    "\n",
    "# OPTION 2: Label Encoding\n",
    "\n",
    "# Step 4: Apply Label Encoding\n",
    "label_encoder_A = LabelEncoder()\n",
    "label_encoder_B = LabelEncoder()\n",
    "\n",
    "data[\"Category_A_Label\"] = label_encoder_A.fit_transform(data[\"Category_A\"])\n",
    "data[\"Category_B_Label\"] = label_encoder_B.fit_transform(data[\"Category_B\"])\n",
    "\n",
    "print(\"\\nDataset After Label Encoding:\")\n",
    "print(data.drop(columns=[\"Category_A\", \"Category_B\"]))  # Drop original categorical columns"
   ]
  },
  {
   "cell_type": "markdown",
   "metadata": {},
   "source": [
    "---"
   ]
  },
  {
   "cell_type": "markdown",
   "metadata": {},
   "source": [
    "#### Q6. You are working with a dataset containing information about different types of animals, including their species, habitat, and diet. Which encoding technique would you use to transform the categorical data into a format suitable for machine learning algorithms? Justify your answer."
   ]
  },
  {
   "cell_type": "markdown",
   "metadata": {},
   "source": [
    "Ans."
   ]
  },
  {
   "cell_type": "markdown",
   "metadata": {},
   "source": [
    "**1. One-Hot Encoding (OHE):**  \n",
    "- Use when: The categorical variables are nominal (no inherent order), which is likely the case for species, habitat, and diet.\n",
    "- Why OHE?\n",
    "  - It creates binary columns for each category, ensuring that the algorithm doesn’t assume any ordinal relationship.\n",
    "  - Works well with most machine learning algorithms (e.g., linear regression, decision trees, random forests).\n",
    "- Downside: Can lead to a high-dimensional feature space if there are many unique categories (e.g., many species)."
   ]
  },
  {
   "cell_type": "markdown",
   "metadata": {},
   "source": [
    "**2. Label Encoding:**  \n",
    "- Use when: The categorical variables are ordinal (with a meaningful order).\n",
    "- Why not here?\n",
    "  - For non-ordinal categories like species or habitat, label encoding can introduce a false sense of order, potentially misleading algorithms that assume numerical order is meaningful."
   ]
  },
  {
   "cell_type": "markdown",
   "metadata": {},
   "source": [
    "---"
   ]
  },
  {
   "cell_type": "markdown",
   "metadata": {},
   "source": [
    "#### Q7.You are working on a project that involves predicting customer churn for a telecommunications company. You have a dataset with 5 features, including the customer's gender, age, contract type, monthly charges, and tenure. Which encoding technique(s) would you use to transform the categorical data into numerical data? Provide a step-by-step explanation of how you would implement the encoding."
   ]
  },
  {
   "cell_type": "markdown",
   "metadata": {},
   "source": [
    "Ans."
   ]
  },
  {
   "cell_type": "markdown",
   "metadata": {},
   "source": [
    "**1. Gender (Binary Category):**  \n",
    "- Encoding Method: Label Encoding\n",
    "- Why: Since gender has only two categories (Male/Female), label encoding will assign 0 and 1 without introducing any unintended ordinal relationships.\n"
   ]
  },
  {
   "cell_type": "markdown",
   "metadata": {},
   "source": [
    "**2. Contract Type (Multiple Categories, No Order):**  \n",
    "- Encoding Method: One-Hot Encoding\n",
    "- Why: The contract type has multiple nominal categories without any natural order. One-hot encoding prevents the model from assuming any ordinal relationship between them."
   ]
  },
  {
   "cell_type": "code",
   "execution_count": 9,
   "metadata": {},
   "outputs": [
    {
     "data": {
      "text/html": [
       "<div>\n",
       "<style scoped>\n",
       "    .dataframe tbody tr th:only-of-type {\n",
       "        vertical-align: middle;\n",
       "    }\n",
       "\n",
       "    .dataframe tbody tr th {\n",
       "        vertical-align: top;\n",
       "    }\n",
       "\n",
       "    .dataframe thead th {\n",
       "        text-align: right;\n",
       "    }\n",
       "</style>\n",
       "<table border=\"1\" class=\"dataframe\">\n",
       "  <thead>\n",
       "    <tr style=\"text-align: right;\">\n",
       "      <th></th>\n",
       "      <th>gender</th>\n",
       "      <th>age</th>\n",
       "      <th>contract_type</th>\n",
       "      <th>monthly_charges</th>\n",
       "      <th>tenure</th>\n",
       "    </tr>\n",
       "  </thead>\n",
       "  <tbody>\n",
       "    <tr>\n",
       "      <th>0</th>\n",
       "      <td>Male</td>\n",
       "      <td>34</td>\n",
       "      <td>Month-to-month</td>\n",
       "      <td>70.5</td>\n",
       "      <td>5</td>\n",
       "    </tr>\n",
       "    <tr>\n",
       "      <th>1</th>\n",
       "      <td>Female</td>\n",
       "      <td>45</td>\n",
       "      <td>Two year</td>\n",
       "      <td>89.2</td>\n",
       "      <td>24</td>\n",
       "    </tr>\n",
       "    <tr>\n",
       "      <th>2</th>\n",
       "      <td>Female</td>\n",
       "      <td>23</td>\n",
       "      <td>One year</td>\n",
       "      <td>55.3</td>\n",
       "      <td>12</td>\n",
       "    </tr>\n",
       "    <tr>\n",
       "      <th>3</th>\n",
       "      <td>Male</td>\n",
       "      <td>56</td>\n",
       "      <td>Month-to-month</td>\n",
       "      <td>99.8</td>\n",
       "      <td>2</td>\n",
       "    </tr>\n",
       "  </tbody>\n",
       "</table>\n",
       "</div>"
      ],
      "text/plain": [
       "   gender  age   contract_type  monthly_charges  tenure\n",
       "0    Male   34  Month-to-month             70.5       5\n",
       "1  Female   45        Two year             89.2      24\n",
       "2  Female   23        One year             55.3      12\n",
       "3    Male   56  Month-to-month             99.8       2"
      ]
     },
     "execution_count": 9,
     "metadata": {},
     "output_type": "execute_result"
    }
   ],
   "source": [
    "import pandas as pd\n",
    "from sklearn.preprocessing import LabelEncoder, OneHotEncoder\n",
    "from sklearn.compose import ColumnTransformer\n",
    "\n",
    "data = {\n",
    "    'gender': ['Male', 'Female', 'Female', 'Male'],\n",
    "    'age': [34, 45, 23, 56],\n",
    "    'contract_type': ['Month-to-month', 'Two year', 'One year', 'Month-to-month'],\n",
    "    'monthly_charges': [70.5, 89.2, 55.3, 99.8],\n",
    "    'tenure': [5, 24, 12, 2]\n",
    "}\n",
    "\n",
    "df = pd.DataFrame(data)\n",
    "df"
   ]
  },
  {
   "cell_type": "code",
   "execution_count": 10,
   "metadata": {},
   "outputs": [
    {
     "data": {
      "text/html": [
       "<div>\n",
       "<style scoped>\n",
       "    .dataframe tbody tr th:only-of-type {\n",
       "        vertical-align: middle;\n",
       "    }\n",
       "\n",
       "    .dataframe tbody tr th {\n",
       "        vertical-align: top;\n",
       "    }\n",
       "\n",
       "    .dataframe thead th {\n",
       "        text-align: right;\n",
       "    }\n",
       "</style>\n",
       "<table border=\"1\" class=\"dataframe\">\n",
       "  <thead>\n",
       "    <tr style=\"text-align: right;\">\n",
       "      <th></th>\n",
       "      <th>gender</th>\n",
       "      <th>age</th>\n",
       "      <th>contract_type</th>\n",
       "      <th>monthly_charges</th>\n",
       "      <th>tenure</th>\n",
       "    </tr>\n",
       "  </thead>\n",
       "  <tbody>\n",
       "    <tr>\n",
       "      <th>0</th>\n",
       "      <td>1</td>\n",
       "      <td>34</td>\n",
       "      <td>Month-to-month</td>\n",
       "      <td>70.5</td>\n",
       "      <td>5</td>\n",
       "    </tr>\n",
       "    <tr>\n",
       "      <th>1</th>\n",
       "      <td>0</td>\n",
       "      <td>45</td>\n",
       "      <td>Two year</td>\n",
       "      <td>89.2</td>\n",
       "      <td>24</td>\n",
       "    </tr>\n",
       "    <tr>\n",
       "      <th>2</th>\n",
       "      <td>0</td>\n",
       "      <td>23</td>\n",
       "      <td>One year</td>\n",
       "      <td>55.3</td>\n",
       "      <td>12</td>\n",
       "    </tr>\n",
       "    <tr>\n",
       "      <th>3</th>\n",
       "      <td>1</td>\n",
       "      <td>56</td>\n",
       "      <td>Month-to-month</td>\n",
       "      <td>99.8</td>\n",
       "      <td>2</td>\n",
       "    </tr>\n",
       "  </tbody>\n",
       "</table>\n",
       "</div>"
      ],
      "text/plain": [
       "   gender  age   contract_type  monthly_charges  tenure\n",
       "0       1   34  Month-to-month             70.5       5\n",
       "1       0   45        Two year             89.2      24\n",
       "2       0   23        One year             55.3      12\n",
       "3       1   56  Month-to-month             99.8       2"
      ]
     },
     "execution_count": 10,
     "metadata": {},
     "output_type": "execute_result"
    }
   ],
   "source": [
    "label_encoder = LabelEncoder()\n",
    "df['gender'] = label_encoder.fit_transform(df['gender'])  # Male:1, Female:0\n",
    "df"
   ]
  },
  {
   "cell_type": "code",
   "execution_count": 11,
   "metadata": {},
   "outputs": [
    {
     "data": {
      "text/html": [
       "<div>\n",
       "<style scoped>\n",
       "    .dataframe tbody tr th:only-of-type {\n",
       "        vertical-align: middle;\n",
       "    }\n",
       "\n",
       "    .dataframe tbody tr th {\n",
       "        vertical-align: top;\n",
       "    }\n",
       "\n",
       "    .dataframe thead th {\n",
       "        text-align: right;\n",
       "    }\n",
       "</style>\n",
       "<table border=\"1\" class=\"dataframe\">\n",
       "  <thead>\n",
       "    <tr style=\"text-align: right;\">\n",
       "      <th></th>\n",
       "      <th>gender</th>\n",
       "      <th>age</th>\n",
       "      <th>monthly_charges</th>\n",
       "      <th>tenure</th>\n",
       "      <th>contract_Month-to-month</th>\n",
       "      <th>contract_One year</th>\n",
       "      <th>contract_Two year</th>\n",
       "    </tr>\n",
       "  </thead>\n",
       "  <tbody>\n",
       "    <tr>\n",
       "      <th>0</th>\n",
       "      <td>1</td>\n",
       "      <td>34</td>\n",
       "      <td>70.5</td>\n",
       "      <td>5</td>\n",
       "      <td>True</td>\n",
       "      <td>False</td>\n",
       "      <td>False</td>\n",
       "    </tr>\n",
       "    <tr>\n",
       "      <th>1</th>\n",
       "      <td>0</td>\n",
       "      <td>45</td>\n",
       "      <td>89.2</td>\n",
       "      <td>24</td>\n",
       "      <td>False</td>\n",
       "      <td>False</td>\n",
       "      <td>True</td>\n",
       "    </tr>\n",
       "    <tr>\n",
       "      <th>2</th>\n",
       "      <td>0</td>\n",
       "      <td>23</td>\n",
       "      <td>55.3</td>\n",
       "      <td>12</td>\n",
       "      <td>False</td>\n",
       "      <td>True</td>\n",
       "      <td>False</td>\n",
       "    </tr>\n",
       "    <tr>\n",
       "      <th>3</th>\n",
       "      <td>1</td>\n",
       "      <td>56</td>\n",
       "      <td>99.8</td>\n",
       "      <td>2</td>\n",
       "      <td>True</td>\n",
       "      <td>False</td>\n",
       "      <td>False</td>\n",
       "    </tr>\n",
       "  </tbody>\n",
       "</table>\n",
       "</div>"
      ],
      "text/plain": [
       "   gender  age  monthly_charges  tenure  contract_Month-to-month  \\\n",
       "0       1   34             70.5       5                     True   \n",
       "1       0   45             89.2      24                    False   \n",
       "2       0   23             55.3      12                    False   \n",
       "3       1   56             99.8       2                     True   \n",
       "\n",
       "   contract_One year  contract_Two year  \n",
       "0              False              False  \n",
       "1              False               True  \n",
       "2               True              False  \n",
       "3              False              False  "
      ]
     },
     "execution_count": 11,
     "metadata": {},
     "output_type": "execute_result"
    }
   ],
   "source": [
    "contract_ohe = pd.get_dummies(df['contract_type'], prefix='contract', drop_first=False)\n",
    "df = pd.concat([df.drop('contract_type', axis=1), contract_ohe], axis=1)\n",
    "df"
   ]
  },
  {
   "cell_type": "code",
   "execution_count": null,
   "metadata": {},
   "outputs": [],
   "source": []
  }
 ],
 "metadata": {
  "kernelspec": {
   "display_name": "Python 3",
   "language": "python",
   "name": "python3"
  },
  "language_info": {
   "codemirror_mode": {
    "name": "ipython",
    "version": 3
   },
   "file_extension": ".py",
   "mimetype": "text/x-python",
   "name": "python",
   "nbconvert_exporter": "python",
   "pygments_lexer": "ipython3",
   "version": "3.11.5"
  }
 },
 "nbformat": 4,
 "nbformat_minor": 2
}
