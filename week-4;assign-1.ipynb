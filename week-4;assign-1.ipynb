{
 "cells": [
  {
   "cell_type": "markdown",
   "id": "d1f8944c-aecd-4ef9-a3da-2201d8e1747e",
   "metadata": {},
   "source": [
    "Q1. Explain Class and Object with respect to Object-Oriented Programming. Give a suitable example."
   ]
  },
  {
   "cell_type": "markdown",
   "id": "e20a4ca8-2ddb-4344-82e5-8e14a6b6e71f",
   "metadata": {},
   "source": [
    "Ans."
   ]
  },
  {
   "cell_type": "markdown",
   "id": "9ab7d0bb-37b9-4f3d-a949-8034c3beb548",
   "metadata": {},
   "source": [
    "In object-oriented programming (OOP), classes and objects are fundamental concepts that allows to model and organize code in a more modular and structured way.\n",
    "\n",
    "\n",
    "Class:    \n",
    "A class is a blueprint or template for creating objects. It defines a set of attributes (also known as properties or fields) and methods (functions) that the objects created from that class will possess. Classes provide a way to encapsulate data and behavior into a single unit.\n",
    " \n",
    "\n",
    "Object:   \n",
    "An object is a specific instance created from a class. It represents a real-world entity or concept and encapsulates its data and the methods that operate on that data. Each object created from a class has its own set of values for the attributes defined in the class. Objects allows to work with individual instances of a certain type and provide a way to manage and manipulate data in a more organized manner.   \n",
    "Example:"
   ]
  },
  {
   "cell_type": "code",
   "execution_count": 1,
   "id": "00ee543d-48ed-4af3-a9a7-4a9cc6f91c31",
   "metadata": {},
   "outputs": [],
   "source": [
    "class Vehicle:\n",
    "\n",
    "    def __init__(self, vehicle_name, max_speed, average_of_vehicle):\n",
    "        self.name_of_vehicle = vehicle_name\n",
    "        self.max_speed = max_speed\n",
    "        self.average_of_vehicle = average_of_vehicle\n",
    "\n",
    "    def get_name_of_vehicle(self):\n",
    "        return self.name_of_vehicle\n",
    "\n",
    "    def set_name_of_vehicle(self, vehicle_name):\n",
    "        self.name_of_vehicle = vehicle_name\n",
    "\n",
    "    def get_max_speed(self):\n",
    "        return self.max_speed\n",
    "\n",
    "    def set_max_speed(self, max_speed):\n",
    "        self.max_speed = max_speed\n",
    "\n",
    "    def get_average_of_vehicle(self):\n",
    "        return self.average_of_vehicle\n",
    "\n",
    "    def set_average_of_vehicle(self, average_of_vehicle):\n",
    "        self.average_of_vehicle = average_of_vehicle"
   ]
  },
  {
   "cell_type": "code",
   "execution_count": 2,
   "id": "e03b73a4-c8ec-4df0-8714-9df9670362d0",
   "metadata": {},
   "outputs": [],
   "source": [
    "kanishk= Vehicle(\"toyota Supraa\",250,175)"
   ]
  },
  {
   "cell_type": "code",
   "execution_count": 3,
   "id": "919fb31e-fb4f-4067-add8-36fa96089591",
   "metadata": {},
   "outputs": [
    {
     "data": {
      "text/plain": [
       "45"
      ]
     },
     "execution_count": 3,
     "metadata": {},
     "output_type": "execute_result"
    }
   ],
   "source": [
    "kanishk.set_max_speed(45)\n",
    "kanishk.get_max_speed()"
   ]
  },
  {
   "cell_type": "markdown",
   "id": "eb09985e-b1ba-4a84-8568-99dc362dbd32",
   "metadata": {},
   "source": [
    "---"
   ]
  },
  {
   "cell_type": "markdown",
   "id": "5d779dd8-e1ed-4efa-a168-c498e1baf918",
   "metadata": {},
   "source": [
    "Q2. Name the four pillars of OOPs."
   ]
  },
  {
   "cell_type": "markdown",
   "id": "8153e9f7-943c-4450-ad76-80becd86ff53",
   "metadata": {},
   "source": [
    "Ans."
   ]
  },
  {
   "cell_type": "markdown",
   "id": "bbe2243e-0a86-4970-a4ee-b4fe0093e0bf",
   "metadata": {},
   "source": [
    "The four pillars of object-oriented programming (OOP) are abstraction, encapsulation, inheritance, and polymorphism."
   ]
  },
  {
   "cell_type": "markdown",
   "id": "a37d60d8-b0c0-4bdf-9d94-b405e2358b66",
   "metadata": {},
   "source": [
    "---"
   ]
  },
  {
   "cell_type": "markdown",
   "id": "1ab703da-90c0-49be-8e46-1fdafa45bb24",
   "metadata": {},
   "source": [
    "Q3. Explain why the _ _ init _ _() function is used. Give a suitable example."
   ]
  },
  {
   "cell_type": "markdown",
   "id": "2ae668c5-5152-40bf-80db-3b82daa08fda",
   "metadata": {},
   "source": [
    "Ans."
   ]
  },
  {
   "cell_type": "markdown",
   "id": "11ddfac6-004b-4363-9bae-0ac7b1e9be3c",
   "metadata": {},
   "source": [
    "The _ _ init _ _() function is used to initialize the attributes of an object when it is created. It is a special method that is automatically called when a new object is created from a class.  \n",
    "Example:"
   ]
  },
  {
   "cell_type": "code",
   "execution_count": 4,
   "id": "d604fda7-85db-49d8-920d-894f03668375",
   "metadata": {},
   "outputs": [],
   "source": [
    "class car:\n",
    "\n",
    "    def __init__(self, car_name, max_speed, average_of_vehicle):\n",
    "        self.name_of_car = car_name\n",
    "        self.max_speed = max_speed\n",
    "        self.average_of_vehicle = average_of_vehicle"
   ]
  },
  {
   "cell_type": "code",
   "execution_count": 5,
   "id": "b99b8559-417b-43fa-99f0-a0293c267c99",
   "metadata": {},
   "outputs": [],
   "source": [
    "c=car(\"toyota\",23,56)"
   ]
  },
  {
   "cell_type": "code",
   "execution_count": 6,
   "id": "b41202c7-929d-48e6-a557-eae28e9a748c",
   "metadata": {},
   "outputs": [
    {
     "data": {
      "text/plain": [
       "'toyota'"
      ]
     },
     "execution_count": 6,
     "metadata": {},
     "output_type": "execute_result"
    }
   ],
   "source": [
    "c.name_of_car"
   ]
  },
  {
   "cell_type": "markdown",
   "id": "87d43bdd-52de-49ae-9a8a-95fc4b206b67",
   "metadata": {},
   "source": [
    "---"
   ]
  },
  {
   "cell_type": "markdown",
   "id": "1a5f672b-b36d-4127-9f80-61d0a4d6b625",
   "metadata": {},
   "source": [
    "Q4. Why self is used in OOPs?"
   ]
  },
  {
   "cell_type": "markdown",
   "id": "5250a08b-8fc7-4ad7-ae66-39bbef68688a",
   "metadata": {},
   "source": [
    "Ans."
   ]
  },
  {
   "cell_type": "markdown",
   "id": "2859786b-4d82-4aff-a71d-c8fe872d23d0",
   "metadata": {},
   "source": [
    "The 'self' keyword is used in object-oriented programming (OOP) to refer to the current instance of the class. It is used in methods to access the attributes and methods of the current object.  "
   ]
  },
  {
   "cell_type": "markdown",
   "id": "257be0f6-5cdc-46d3-aee1-f6c5a90e9d99",
   "metadata": {},
   "source": [
    "---"
   ]
  },
  {
   "cell_type": "markdown",
   "id": "163b1de3-9ea9-4423-a7e6-322ed9630d46",
   "metadata": {},
   "source": [
    "Q5. What is inheritance? Give an example for each type of inheritance."
   ]
  },
  {
   "cell_type": "markdown",
   "id": "b7785e9d-d4fa-475a-ad67-eb1ca8dc994f",
   "metadata": {},
   "source": [
    "Ans."
   ]
  },
  {
   "cell_type": "markdown",
   "id": "55cf8b8e-a81d-44e4-afb3-3190703a3d67",
   "metadata": {},
   "source": [
    "Inheritance is a fundamental concept in object-oriented programming (OOP). It allows a new class to inherit the attributes and methods of an existing class.  \n",
    "There are two types of inheritance in OOP:  \n",
    "1. Single inheritance: A class can inherit from only one other class. This is the most common type of inheritance.  \n",
    "2. Multilevel inheritance: A class can inherit from multiple classes in a hierarchy."
   ]
  },
  {
   "cell_type": "code",
   "execution_count": null,
   "id": "1a125ed8-4ff5-4eec-9438-6b4b39d17e63",
   "metadata": {},
   "outputs": [],
   "source": []
  }
 ],
 "metadata": {
  "kernelspec": {
   "display_name": "Python 3 (ipykernel)",
   "language": "python",
   "name": "python3"
  },
  "language_info": {
   "codemirror_mode": {
    "name": "ipython",
    "version": 3
   },
   "file_extension": ".py",
   "mimetype": "text/x-python",
   "name": "python",
   "nbconvert_exporter": "python",
   "pygments_lexer": "ipython3",
   "version": "3.10.8"
  }
 },
 "nbformat": 4,
 "nbformat_minor": 5
}
