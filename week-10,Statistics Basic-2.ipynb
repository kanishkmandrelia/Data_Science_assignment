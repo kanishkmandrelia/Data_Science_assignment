{
 "cells": [
  {
   "cell_type": "markdown",
   "metadata": {},
   "source": [
    "#### Q1. What are the three measures of central tendency?"
   ]
  },
  {
   "cell_type": "markdown",
   "metadata": {},
   "source": [
    "Ans."
   ]
  },
  {
   "cell_type": "markdown",
   "metadata": {},
   "source": [
    "1. Mean.\n",
    "2. Median.\n",
    "3. Mode"
   ]
  },
  {
   "cell_type": "markdown",
   "metadata": {},
   "source": [
    "---"
   ]
  },
  {
   "cell_type": "markdown",
   "metadata": {},
   "source": [
    "#### Q2. What is the difference between the mean, median, and mode? How are they used to measure the central tendency of a dataset?"
   ]
  },
  {
   "cell_type": "markdown",
   "metadata": {},
   "source": [
    "Ans."
   ]
  },
  {
   "cell_type": "markdown",
   "metadata": {},
   "source": [
    "1.Mean (Arithmetic Average)\n",
    "- Definition:\n",
    "  - The mean is the sum of all data points divided by the number of data points.\n",
    "  - Formula:\n",
    "                        Mean =   (Sum of all data points / Number of data points)\n",
    " \n",
    "- Key Features:\n",
    "  - Sensitive to Outliers: Outliers can skew the mean, making it unrepresentative of the dataset's central value.\n",
    "  - Usage:\n",
    "    - Best for symmetrically distributed data without extreme values.\n",
    "    - Common in fields like finance, economics, and education.\n",
    "  - Example: For {10,15,20} the mean is:\n",
    "                        Mean = ((10 + 15 + 20) / 3) = 15.\n",
    "\n",
    "2.Median\n",
    "- Definition:\n",
    "  - The median is the middle value of a dataset when arranged in ascending order. For even-numbered datasets, it's the average of the two middle values.\n",
    "- Key Features:\n",
    "  - Resistant to Outliers: The median is unaffected by extreme values, making it a robust measure of central tendency for skewed data.\n",
    "  - Usage:\n",
    "    - Suitable for skewed distributions or datasets with outliers.\n",
    "    - Frequently used in income, property prices, and other data with a long tail.\n",
    "  - Example: For {10, 15, 100} the median is 15, not influenced by the outlier 100.\n",
    "\n",
    "3.Mode\n",
    "- Definition:\n",
    "  - The mode is the most frequently occurring value(s) in a dataset. A dataset can have:\n",
    "    - No mode (if all values are unique).\n",
    "    - One mode (unimodal).\n",
    "    - More than one mode (bimodal or multimodal).\n",
    "- Key Features:\n",
    "  - Resistant to Outliers: Outliers do not affect the mode.\n",
    "  - Usage:\n",
    "    - Most useful for categorical data to identify the most common category or preference.\n",
    "    - In numerical data, it highlights the most frequent value(s).\n",
    "  - Example: For {10,15,15,20}, the mode is 15."
   ]
  },
  {
   "cell_type": "markdown",
   "metadata": {},
   "source": [
    "---"
   ]
  },
  {
   "cell_type": "markdown",
   "metadata": {},
   "source": [
    "#### Q3. Measure the three measures of central tendency for the given height data:\n",
    "[178,177,176,177,178.2,178,175,179,180,175,178.9,176.2,177,172.5,178,176.5]"
   ]
  },
  {
   "cell_type": "markdown",
   "metadata": {},
   "source": [
    "Ans."
   ]
  },
  {
   "cell_type": "code",
   "execution_count": 1,
   "metadata": {},
   "outputs": [],
   "source": [
    "data = [178,177,176,177,178.2,178,175,179,180,175,178.9,176.2,177,172.5,178,176.5]\n",
    "\n",
    "import numpy as np\n",
    "from scipy import stats"
   ]
  },
  {
   "cell_type": "code",
   "execution_count": 2,
   "metadata": {},
   "outputs": [],
   "source": [
    "mean_height = np.mean(data)\n",
    "median_height = np.median(data)\n",
    "mode_height = stats.mode(data)"
   ]
  },
  {
   "cell_type": "code",
   "execution_count": 3,
   "metadata": {},
   "outputs": [
    {
     "name": "stdout",
     "output_type": "stream",
     "text": [
      "Mean: 177.01875\n",
      "Median: 177.0\n",
      "Mode: ModeResult(mode=177.0, count=3)\n"
     ]
    }
   ],
   "source": [
    "print(\"Mean:\", mean_height)\n",
    "print(\"Median:\", median_height)\n",
    "print(\"Mode:\", mode_height)"
   ]
  },
  {
   "cell_type": "markdown",
   "metadata": {},
   "source": [
    "---"
   ]
  },
  {
   "cell_type": "markdown",
   "metadata": {},
   "source": [
    "#### Q4. Find the standard deviation for the given data:\n",
    "[178,177,176,177,178.2,178,175,179,180,175,178.9,176.2,177,172.5,178,176.5]"
   ]
  },
  {
   "cell_type": "markdown",
   "metadata": {},
   "source": [
    "Ans."
   ]
  },
  {
   "cell_type": "code",
   "execution_count": 4,
   "metadata": {},
   "outputs": [
    {
     "name": "stdout",
     "output_type": "stream",
     "text": [
      "Standard Deviation: 1.7885814036548633\n"
     ]
    }
   ],
   "source": [
    "data = [178, 177, 176, 177, 178.2, 178, 175, 179, 180, 175, 178.9, 176.2, 177, 172.5, 178, 176.5]\n",
    "\n",
    "import numpy as np\n",
    "\n",
    "std_dev = np.std(data)\n",
    "print(\"Standard Deviation:\", std_dev)\n"
   ]
  },
  {
   "cell_type": "markdown",
   "metadata": {},
   "source": [
    "---"
   ]
  },
  {
   "cell_type": "markdown",
   "metadata": {},
   "source": [
    "#### Q5. How are measures of dispersion such as range, variance, and standard deviation used to describe the spread of a dataset? Provide an example."
   ]
  },
  {
   "cell_type": "markdown",
   "metadata": {},
   "source": [
    "Ans."
   ]
  },
  {
   "cell_type": "markdown",
   "metadata": {},
   "source": [
    "1.Range\n",
    "- Definition:\n",
    "  - The range is the difference between the maximum and minimum values in the dataset.\n",
    "  - Formula: Range = Max value − Min value\n",
    "- Use:\n",
    "  - Describes the overall spread of the data.\n",
    "  - Limitation: Sensitive to outliers, as it only considers the extreme values.\n",
    "\n",
    "2.Variance\n",
    "- Definition:\n",
    "  - Variance measures the average of the squared differences from the mean. It gives a sense of how much the data points deviate from the mean, but it is expressed in squared units of the original data, making it harder to interpret directly.\n",
    "- Use:\n",
    "  - Describes how spread out the data is from the mean.\n",
    "  - Limitation: Since variance is expressed in squared units, it is not directly interpretable in the context of the original data.\n",
    "\n",
    "3. Stamdard Deviation\n",
    "- Definition:\n",
    "  - Standard deviation is the square root of the variance, which brings the measure of spread back to the same units as the original data, making it more interpretable.\n",
    "  - formula:\n",
    "  Standard Deviation= (Variance)^1/2.\n",
    "- Use:\n",
    "  - Describes the typical deviation from the mean.\n",
    "  - Interpretability: More intuitive than variance because it uses the same units as the data.\n",
    "\n",
    "**Example:**​"
   ]
  },
  {
   "cell_type": "code",
   "execution_count": 5,
   "metadata": {},
   "outputs": [
    {
     "name": "stdout",
     "output_type": "stream",
     "text": [
      "Range: 7.5\n",
      "Variance: 3.199023437500001\n",
      "Standard Deviation: 1.7885814036548633\n"
     ]
    }
   ],
   "source": [
    "data = [178, 177, 176, 177, 178.2, 178, 175, 179, 180, 175, 178.9, 176.2, 177, 172.5, 178, 176.5]\n",
    "\n",
    "range_data = np.max(data) - np.min(data)\n",
    "variance_data = np.var(data) \n",
    "std_deviation_data = np.std(data) \n",
    "\n",
    "print(f\"Range: {range_data}\")\n",
    "print(f\"Variance: {variance_data}\")\n",
    "print(f\"Standard Deviation: {std_deviation_data}\")\n"
   ]
  },
  {
   "cell_type": "markdown",
   "metadata": {},
   "source": [
    "---"
   ]
  },
  {
   "cell_type": "markdown",
   "metadata": {},
   "source": [
    "#### Q6. What is a Venn diagram?"
   ]
  },
  {
   "cell_type": "markdown",
   "metadata": {},
   "source": [
    "Ans."
   ]
  },
  {
   "cell_type": "markdown",
   "metadata": {},
   "source": [
    "A Venn diagram is a graphical representation used to show the relationships between different sets or groups of items. It visually illustrates how sets intersect, overlap, or remain distinct. The diagram typically consists of overlapping circles (or other shapes), where each circle represents a set, and the area where circles overlap represents the elements that are common to those sets.\n",
    "\n",
    "Key Features of a Venn Diagram:\n",
    "- Sets: Each circle or shape in the diagram represents a set or category.\n",
    "- Overlap: The region where sets overlap indicates elements that are common to both sets.\n",
    "- Non-overlapping regions: The parts of the circles that do not overlap represent elements that belong exclusively to one set.\n",
    "- Universal Set: Sometimes, a rectangle surrounding the circles represents the universal set, which contains all possible elements under consideration."
   ]
  },
  {
   "cell_type": "markdown",
   "metadata": {},
   "source": [
    "---"
   ]
  },
  {
   "cell_type": "markdown",
   "metadata": {},
   "source": [
    "#### Q7. For the two given sets A = (2,3,4,5,6,7) & B = (0,2,6,8,10). Find:\n",
    "(i) A (intersect) B  \n",
    "(ii) A (union)⋃ B"
   ]
  },
  {
   "cell_type": "markdown",
   "metadata": {},
   "source": [
    "Ans."
   ]
  },
  {
   "cell_type": "markdown",
   "metadata": {},
   "source": [
    "(i) => (2, 6).  \n",
    "(ii) => (0, 2, 3, 4, 5, 6, 7, 8, 10)."
   ]
  },
  {
   "cell_type": "markdown",
   "metadata": {},
   "source": [
    "---"
   ]
  },
  {
   "cell_type": "markdown",
   "metadata": {},
   "source": [
    "#### Q8. What do you understand about skewness in data?"
   ]
  },
  {
   "cell_type": "markdown",
   "metadata": {},
   "source": [
    "Ans."
   ]
  },
  {
   "cell_type": "markdown",
   "metadata": {},
   "source": [
    "Skewness in data refers to the asymmetry in the distribution of data values. It provides insight into the shape of the dataset and indicates whether the data is symmetrical or if it is skewed to one side. Skewness helps us understand the direction in which the data is stretched or compressed.\n",
    "\n",
    "**- Types of Skewness:**\n",
    "1. Right Skew-\n",
    "- Definition: A distribution is positively skewed if the right tail (larger values) is longer or fatter than the left tail (smaller values).\n",
    "- Characteristics:\n",
    "  - The mean is greater than the median.\n",
    "  - Most of the data is clustered on the left side, and the tail on the right side stretches out.\n",
    "  - Positive skew often occurs with data that has a natural lower bound but no upper bound (e.g., income).\n",
    "- Example: The income distribution in a population where a few people earn extremely high amounts.  \n",
    "\n",
    "2. Left Skew-\n",
    "- Definition: A distribution is negatively skewed if the left tail (smaller values) is longer or fatter than the right tail (larger values).\n",
    "- Characteristics:\n",
    "  - The mean is less than the median.\n",
    "  - Most of the data is clustered on the right side, and the tail on the left side stretches out.\n",
    "  - Negative skew can happen when there is a natural upper bound but no lower bound (e.g., age at retirement).\n",
    "- Example: Age at retirement where most people retire around 60 but a few retire much later."
   ]
  },
  {
   "cell_type": "markdown",
   "metadata": {},
   "source": [
    "---"
   ]
  },
  {
   "cell_type": "markdown",
   "metadata": {},
   "source": [
    "#### Q9. If a data is right skewed then what will be the position of median with respect to mean?"
   ]
  },
  {
   "cell_type": "markdown",
   "metadata": {},
   "source": [
    "Ans."
   ]
  },
  {
   "cell_type": "markdown",
   "metadata": {},
   "source": [
    "If the data is right-skewed (positively skewed), the mean will be greater than the median.\n",
    "\n",
    "- Explanation:\n",
    "In a right-skewed distribution, the tail on the right side of the distribution is longer or fatter than the left side. This causes the mean to be pulled in the direction of the larger values (i.e., toward the tail on the right), which makes the mean greater than the median.\n",
    "\n",
    "- General Relationship:\n",
    "                    Mean > Median in a right-skewed distribution.\n",
    "This is because the mean is more sensitive to extreme values (outliers) in the tail, while the median is less affected by them, as it is the middle value in the ordered dataset. Therefore, in a right-skewed distribution, the median will be positioned to the left of the mean.\n",
    "\n",
    "- Example:\n",
    "Consider the dataset of exam scores:\n",
    "                    Scores={20,25,30,35,40,45,100}\n",
    "  - Mean: 39.29\n",
    "  - Median: 35  \n",
    "\n",
    "Here, the mean (39.29) is greater than the median (35), which reflects the right skewness in the data caused by the extreme value (100)."
   ]
  },
  {
   "cell_type": "markdown",
   "metadata": {},
   "source": [
    "---"
   ]
  },
  {
   "cell_type": "markdown",
   "metadata": {},
   "source": [
    "#### Q10. Explain the difference between covariance and correlation. How are these measures used in statistical analysis?"
   ]
  },
  {
   "cell_type": "markdown",
   "metadata": {},
   "source": [
    "Ans."
   ]
  },
  {
   "cell_type": "markdown",
   "metadata": {},
   "source": [
    "Covariance and correlation are both measures used to describe the relationship between two variables. However, they differ in terms of scale, interpretation, and use."
   ]
  },
  {
   "cell_type": "markdown",
   "metadata": {},
   "source": [
    "**Covariance:**\n",
    "- Definition: Covariance measures the degree to which two variables change together. It provides information about the direction of the relationship.\n",
    "- Range: No fixed range. The value can be positive, negative, or zero.\n",
    "  - Positive covariance: Variables tend to increase or decrease together.\n",
    "  - Negative covariance: One variable increases as the other decreases.\n",
    "  - Zero covariance: No linear relationship.\n",
    "- Units: Depends on the units of the variables; it's not standardized."
   ]
  },
  {
   "cell_type": "markdown",
   "metadata": {},
   "source": [
    "**Correlation:**\n",
    "- Definition: Correlation standardizes covariance to provide a dimensionless measure of the strength and direction of the linear relationship between two variables.\n",
    "- Range: Always between \n",
    "  - 1: Perfect positive linear relationship.\n",
    "  - 0: No linear relationship.\n",
    "  - −1: Perfect negative linear relationship.\n",
    "- Units: None; it is standardized and dimensionless."
   ]
  },
  {
   "cell_type": "markdown",
   "metadata": {},
   "source": [
    "---"
   ]
  },
  {
   "cell_type": "markdown",
   "metadata": {},
   "source": [
    "#### Q11. What is the formula for calculating the sample mean? Provide an example calculation for a dataset."
   ]
  },
  {
   "cell_type": "markdown",
   "metadata": {},
   "source": [
    "Ans."
   ]
  },
  {
   "cell_type": "markdown",
   "metadata": {},
   "source": [
    "Formula of sample mean:  \n",
    "                (sum of all values) / (number of obervation)"
   ]
  },
  {
   "cell_type": "code",
   "execution_count": 6,
   "metadata": {},
   "outputs": [
    {
     "name": "stdout",
     "output_type": "stream",
     "text": [
      "The sample mean is: 67.0\n"
     ]
    }
   ],
   "source": [
    "d = [60, 72, 65, 70, 68]\n",
    "\n",
    "sample_mean = sum(d)/len(d)\n",
    "print(f\"The sample mean is: {sample_mean}\")"
   ]
  },
  {
   "cell_type": "markdown",
   "metadata": {},
   "source": [
    "---"
   ]
  },
  {
   "cell_type": "markdown",
   "metadata": {},
   "source": [
    "#### Q12. For a normal distribution data what is the relationship between its measure of central tendency?"
   ]
  },
  {
   "cell_type": "markdown",
   "metadata": {},
   "source": [
    "Ans."
   ]
  },
  {
   "cell_type": "markdown",
   "metadata": {},
   "source": [
    "For a normal distribution, the three measures of central tendency — mean, median, and mode — are equal. This relationship occurs because the normal distribution is symmetric about its center.  \n",
    "\n",
    "**Key Points:**  \n",
    "1.Mean:\n",
    "The arithmetic average of the data.\n",
    "In a normal distribution, the mean lies at the center of symmetry.\n",
    "\n",
    "2.Median:\n",
    "The middle value when the data is arranged in ascending order.\n",
    "In a symmetric distribution like the normal distribution, the median divides the data into two equal halves.\n",
    "\n",
    "3.Mode:\n",
    "The value that appears most frequently in the dataset.\n",
    "For a normal distribution, the mode corresponds to the peak of the curve, which aligns with the mean and median.\n",
    "\n",
    "**Relationship:**\n",
    "For a normal distribution: Mean = Median = Mode\n"
   ]
  },
  {
   "cell_type": "markdown",
   "metadata": {},
   "source": [
    "---"
   ]
  },
  {
   "cell_type": "markdown",
   "metadata": {},
   "source": [
    "#### Q13. How is covariance different from correlation?"
   ]
  },
  {
   "cell_type": "markdown",
   "metadata": {},
   "source": [
    "Ans."
   ]
  },
  {
   "cell_type": "markdown",
   "metadata": {},
   "source": [
    "1.Covariance:  \n",
    "- Positive covariance: Variables tend to move in the same direction.\n",
    "- Negative covariance: Variables tend to move in opposite directions.\n",
    "- Magnitude depends on the scale of the variables.\n",
    "\n",
    "2.Correlation:  \n",
    "- A standardized version of covariance, making it easier to compare relationships across different datasets.\n",
    "- Values close to 1 or −1: Strong linear relationship.\n",
    "- Value close to 0: Weak or no linear relationship."
   ]
  },
  {
   "cell_type": "markdown",
   "metadata": {},
   "source": [
    "---"
   ]
  },
  {
   "cell_type": "markdown",
   "metadata": {},
   "source": [
    "#### Q14. How do outliers affect measures of central tendency and dispersion? Provide an example."
   ]
  },
  {
   "cell_type": "markdown",
   "metadata": {},
   "source": [
    "Ans."
   ]
  },
  {
   "cell_type": "markdown",
   "metadata": {},
   "source": [
    "**Effects on Measures of Central Tendency:**  \n",
    "1.Mean:  \n",
    "  - The mean is highly affected by outliers since it involves all data points. An outlier can skew the mean towards the extreme value.  \n",
    "\n",
    "2.Median:  \n",
    "  - The median is resistant to outliers because it depends only on the middle value(s) and not on the magnitude of the data.  \n",
    "\n",
    "3.Mode:  \n",
    "  - The mode is typically unaffected by outliers unless the outlier value is repeated frequently.  "
   ]
  },
  {
   "cell_type": "markdown",
   "metadata": {},
   "source": [
    "**Effects on Measures of Dispersion:**  \n",
    "1.Range:  \n",
    "  - The range is highly sensitive to outliers as it is determined by the minimum and maximum values in the dataset.\n",
    "\n",
    "2.Variance and Standard Deviation:  \n",
    "  - Both are significantly affected by outliers since they depend on squared deviations from the mean, amplifying the impact of extreme values.\n",
    "\n",
    "3.Interquartile Range (IQR):  \n",
    "  - IQR is resistant to outliers because it considers only the middle 50% of the data."
   ]
  },
  {
   "cell_type": "markdown",
   "metadata": {},
   "source": []
  }
 ],
 "metadata": {
  "kernelspec": {
   "display_name": "Python 3",
   "language": "python",
   "name": "python3"
  },
  "language_info": {
   "codemirror_mode": {
    "name": "ipython",
    "version": 3
   },
   "file_extension": ".py",
   "mimetype": "text/x-python",
   "name": "python",
   "nbconvert_exporter": "python",
   "pygments_lexer": "ipython3",
   "version": "3.11.5"
  }
 },
 "nbformat": 4,
 "nbformat_minor": 2
}
