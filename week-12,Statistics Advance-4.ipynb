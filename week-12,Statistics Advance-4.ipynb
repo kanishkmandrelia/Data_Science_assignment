{
 "cells": [
  {
   "cell_type": "markdown",
   "metadata": {},
   "source": [
    "#### Q1: What is the difference between a t-test and a z-test? Provide an example scenario where you would use each type of test."
   ]
  },
  {
   "cell_type": "markdown",
   "metadata": {},
   "source": [
    "Ans."
   ]
  },
  {
   "cell_type": "markdown",
   "metadata": {},
   "source": [
    "**t-test:**  \n",
    "- Use Case: Used when the sample size is small (n<30) and/or population standard deviation (σ) is unknown.  \n",
    "- Distribution: Follows a t-distribution, which has heavier tails, making it more adaptable to small sample sizes.  \n",
    "- Standard Deviation: Uses the sample standard deviation (s) as an estimate of σ.  \n",
    "- Applicability: More suitable when dealing with small sample sizes or unknown variance."
   ]
  },
  {
   "cell_type": "markdown",
   "metadata": {},
   "source": [
    "**z-test:**  \n",
    "- Use Case: Used when the sample size is large (n>30) and population standard deviation (σ) is known.  \n",
    "- Distribution: Follows a normal distribution (z-distribution), assuming the Central Limit Theorem holds.  \n",
    "- Standard Deviation: Uses the known population standard deviation (σ).  \n",
    "- Applicability: More suitable when dealing with large sample sizes or known variance."
   ]
  },
  {
   "cell_type": "markdown",
   "metadata": {},
   "source": [
    "**Example Scenario:**  \n",
    "1. t-Test Example (Small Sample, Unknown σ)  \n",
    "Scenario: A pharmaceutical company wants to test whether a new drug reduces blood pressure. They randomly select 20 patients and measure their blood pressure before and after taking the drug.  \n",
    "- Here, the sample size is small (n=20), and the population standard deviation (σ) is unknown.\n",
    "- A paired t-test would be used to compare pre- and post-treatment blood pressure.\n",
    "\n",
    "2. z-Test Example (Large Sample, Known σ)  \n",
    "Scenario: A shoe manufacturer wants to verify if the average shoe size of men has changed from the known industry standard of size 10. They collect a random sample of 200 men's shoe sizes from different stores.  \n",
    "- The sample size is large (n=200), and the population standard deviation (σ) is known from historical data.\n",
    "- A one-sample z-test would be used to compare the sample mean shoe size to the population mean."
   ]
  },
  {
   "cell_type": "markdown",
   "metadata": {},
   "source": [
    "---"
   ]
  },
  {
   "cell_type": "markdown",
   "metadata": {},
   "source": [
    "#### Q2: Differentiate between one-tailed and two-tailed tests."
   ]
  },
  {
   "cell_type": "markdown",
   "metadata": {},
   "source": [
    "Ans."
   ]
  },
  {
   "cell_type": "markdown",
   "metadata": {},
   "source": [
    "One-Tailed Test (Directional Test)  \n",
    "- A one-tailed test checks for an effect in only one direction (either greater or smaller).\n",
    "- The alternative hypothesis (H1) specifies whether the sample mean is either greater than or less than the population mean.\n",
    "- The rejection region is only on one side of the distribution."
   ]
  },
  {
   "cell_type": "markdown",
   "metadata": {},
   "source": [
    "Two-Tailed Test (Non-Directional Test)  \n",
    "- A two-tailed test checks for an effect in both directions (greater or smaller).\n",
    "- The alternative hypothesis (H1) states that the sample mean is different from the population mean, but does not specify the direction.\n",
    "- The rejection region is split into two tails of the distribution."
   ]
  },
  {
   "cell_type": "markdown",
   "metadata": {},
   "source": [
    "---"
   ]
  },
  {
   "cell_type": "markdown",
   "metadata": {},
   "source": [
    "#### Q3: Explain the concept of Type 1 and Type 2 errors in hypothesis testing. Provide an example scenario for each type of error."
   ]
  },
  {
   "cell_type": "markdown",
   "metadata": {},
   "source": [
    "Ans."
   ]
  },
  {
   "cell_type": "markdown",
   "metadata": {},
   "source": [
    "1.Type 1 Error (False Positive)  \n",
    "- Definition: Rejecting the null hypothesis (H0) when it is actually true.\n",
    "- Cause: A random sample might show a significant effect purely by chance.\n",
    "- Symbol: α (Significance level) – the probability of making a Type 1 error.\n",
    "- Example Scenario:\n",
    "  - A company tests a new drug for reducing cholesterol and sets up the following hypotheses: \n",
    "    - H0: The drug has no effect on cholesterol levels.\n",
    "    - H1: The drug lowers cholesterol levels.  \n",
    "\n",
    "If the test incorrectly concludes that the drug works when it actually does not, this is a Type 1 error. This could lead to the approval of an ineffective drug, potentially wasting resources and harming patients."
   ]
  },
  {
   "cell_type": "markdown",
   "metadata": {},
   "source": [
    "2.Type 2 Error (False Negative)  \n",
    "- Definition: Failing to reject the null hypothesis (H0) when it is actually false.\n",
    "- Cause: The test might lack enough power (e.g., small sample size) to detect a real effect.\n",
    "- Symbol: β – the probability of making a Type 2 error.\n",
    "- Example Scenario:\n",
    "  - A quality control team at a manufacturing plant checks if a machine produces defective products:\n",
    "    - 𝐻0: The machine produces acceptable products.\n",
    "    - 𝐻1: The machine produces defective products.  \n",
    "\n",
    "If the test fails to detect defects when the machine is actually faulty, this is a Type 2 error. This could lead to defective products being sold to customers, causing reputational damage and financial loss."
   ]
  },
  {
   "cell_type": "markdown",
   "metadata": {},
   "source": [
    "---"
   ]
  },
  {
   "cell_type": "markdown",
   "metadata": {},
   "source": [
    "#### Q4: Explain Bayes's theorem with an example."
   ]
  },
  {
   "cell_type": "markdown",
   "metadata": {},
   "source": [
    "Ans."
   ]
  },
  {
   "cell_type": "markdown",
   "metadata": {},
   "source": [
    "Bayes's Theorem: Concept & Example:  \n",
    "- Bayes’s theorem is a fundamental concept in probability theory that describes how to update our beliefs (probabilities) in light of new evidence. It is widely used in fields like machine learning, statistics, medical diagnosis, and spam filtering."
   ]
  },
  {
   "cell_type": "markdown",
   "metadata": {},
   "source": [
    "Bayes’s Theorem Formula:  \n",
    "P(A|B) = (P(B|A).P(A)) / (P(B)])  \n",
    "\n",
    "where,\n",
    "- P(A∣B) = Posterior probability (Probability of event 𝐴 given that B has occurred)  \n",
    "- P(B∣A) = Likelihood (Probability of observing B given that A is true)  \n",
    "- P(A) = Prior probability (Initial probability of A, before observing B)  \n",
    "- P(B) = Marginal probability (Total probability of event B occurring)  "
   ]
  },
  {
   "cell_type": "markdown",
   "metadata": {},
   "source": [
    "---"
   ]
  },
  {
   "cell_type": "markdown",
   "metadata": {},
   "source": [
    "#### Q5: What is a confidence interval? How to calculate the confidence interval, explain with an example."
   ]
  },
  {
   "cell_type": "markdown",
   "metadata": {},
   "source": [
    "Ans."
   ]
  },
  {
   "cell_type": "markdown",
   "metadata": {},
   "source": [
    "**Confidence Interval (CI):**  \n",
    "- A confidence interval (CI) is a range of values used to estimate an unknown population parameter (such as a mean or proportion). It provides a measure of uncertainty around a sample estimate.  \n",
    "- For example, a 95% confidence interval means that if we were to repeat the experiment many times, approximately 95% of the intervals would contain the true population parameter."
   ]
  },
  {
   "cell_type": "code",
   "execution_count": 1,
   "metadata": {},
   "outputs": [
    {
     "name": "stdout",
     "output_type": "stream",
     "text": [
      "Sample Mean: 172.54 cm\n",
      "95% Confidence Interval: (170.55 cm, 174.53 cm)\n"
     ]
    }
   ],
   "source": [
    "import numpy as np\n",
    "import scipy.stats as st\n",
    "\n",
    "data = np.array([165, 170, 172, 168, 175, 160, 178, 185, 169, 172,\n",
    "                 166, 174, 180, 177, 168, 181, 179, 163, 167, 171,\n",
    "                 173, 176, 162, 159, 182, 170, 175, 178, 185, 169,\n",
    "                 172, 166, 174, 180, 177, 168, 181, 179, 163, 167,\n",
    "                 171, 173, 176, 162, 159, 182, 170, 175, 178, 185])\n",
    "\n",
    "mean = np.mean(data)\n",
    "std_dev = np.std(data, ddof=1)  # Use sample standard deviation (ddof=1)\n",
    "n = len(data)\n",
    "\n",
    "confidence = 0.95\n",
    "alpha = 1 - confidence\n",
    "\n",
    "t_critical = st.t.ppf(1 - alpha/2, df=n-1)\n",
    "\n",
    "margin_of_error = t_critical * (std_dev / np.sqrt(n))\n",
    "\n",
    "lower_bound = mean - margin_of_error\n",
    "upper_bound = mean + margin_of_error\n",
    "\n",
    "print(f\"Sample Mean: {mean:.2f} cm\")\n",
    "print(f\"95% Confidence Interval: ({lower_bound:.2f} cm, {upper_bound:.2f} cm)\")\n"
   ]
  },
  {
   "cell_type": "markdown",
   "metadata": {},
   "source": [
    "---"
   ]
  },
  {
   "cell_type": "markdown",
   "metadata": {},
   "source": [
    "#### Q6. Use Bayes' Theorem to calculate the probability of an event occurring given prior knowledge of the event's probability and new evidence. Provide a sample problem and solution."
   ]
  },
  {
   "cell_type": "markdown",
   "metadata": {},
   "source": [
    "Ans."
   ]
  },
  {
   "cell_type": "markdown",
   "metadata": {},
   "source": [
    "Bayes's Theorem: Concept & Example:  \n",
    "- Bayes’s theorem is a fundamental concept in probability theory that describes how to update our beliefs (probabilities) in light of new evidence. It is widely used in fields like machine learning, statistics, medical diagnosis, and spam filtering."
   ]
  },
  {
   "cell_type": "markdown",
   "metadata": {},
   "source": [
    "Bayes’s Theorem Formula:  \n",
    "P(A|B) = (P(B|A).P(A)) / (P(B)])  \n",
    "\n",
    "where,\n",
    "- P(A∣B) = Posterior probability (Probability of event 𝐴 given that B has occurred)  \n",
    "- P(B∣A) = Likelihood (Probability of observing B given that A is true)  \n",
    "- P(A) = Prior probability (Initial probability of A, before observing B)  \n",
    "- P(B) = Marginal probability (Total probability of event B occurring)  "
   ]
  },
  {
   "cell_type": "code",
   "execution_count": 2,
   "metadata": {},
   "outputs": [
    {
     "name": "stdout",
     "output_type": "stream",
     "text": [
      "Probability of having the disease given a positive test result: 0.1538\n"
     ]
    }
   ],
   "source": [
    "# Given probabilities\n",
    "P_D = 0.01  # Prior probability of disease\n",
    "P_not_D = 1 - P_D  # Probability of not having disease\n",
    "P_T_given_D = 0.90  # True Positive Rate\n",
    "P_T_given_not_D = 0.05  # False Positive Rate\n",
    "\n",
    "# Total probability of positive test\n",
    "P_T = (P_T_given_D * P_D) + (P_T_given_not_D * P_not_D)\n",
    "\n",
    "# Bayes' Theorem\n",
    "P_D_given_T = (P_T_given_D * P_D) / P_T\n",
    "\n",
    "print(f\"Probability of having the disease given a positive test result: {P_D_given_T:.4f}\")\n"
   ]
  },
  {
   "cell_type": "markdown",
   "metadata": {},
   "source": [
    "---"
   ]
  },
  {
   "cell_type": "markdown",
   "metadata": {},
   "source": [
    "#### Q7. Calculate the 95% confidence interval for a sample of data with a mean of 50 and a standard deviation of 5. Interpret the results."
   ]
  },
  {
   "cell_type": "markdown",
   "metadata": {},
   "source": [
    "Ans."
   ]
  },
  {
   "cell_type": "code",
   "execution_count": 3,
   "metadata": {},
   "outputs": [
    {
     "name": "stdout",
     "output_type": "stream",
     "text": [
      "95% Confidence Interval: (48.13, 51.87)\n"
     ]
    }
   ],
   "source": [
    "import scipy.stats as st\n",
    "import numpy as np\n",
    "\n",
    "sample_mean = 50\n",
    "sample_std = 5\n",
    "n = 30  # Assumption\n",
    "confidence = 0.95\n",
    "\n",
    "t_critical = st.t.ppf(1 - (1 - confidence) / 2, df=n-1)\n",
    "\n",
    "margin_of_error = t_critical * (sample_std / np.sqrt(n))\n",
    "\n",
    "lower_bound = sample_mean - margin_of_error\n",
    "upper_bound = sample_mean + margin_of_error\n",
    "\n",
    "print(f\"95% Confidence Interval: ({lower_bound:.2f}, {upper_bound:.2f})\")\n"
   ]
  },
  {
   "cell_type": "markdown",
   "metadata": {},
   "source": [
    "---"
   ]
  },
  {
   "cell_type": "markdown",
   "metadata": {},
   "source": [
    "#### Q8. What is the margin of error in a confidence interval? How does sample size affect the margin of error? Provide an example of a scenario where a larger sample size would result in a smaller margin of error."
   ]
  },
  {
   "cell_type": "markdown",
   "metadata": {},
   "source": [
    "Ans."
   ]
  },
  {
   "cell_type": "markdown",
   "metadata": {},
   "source": [
    "**Margin of Error (MOE):**  \n",
    "- The margin of error (MOE) is the range of uncertainty around a sample estimate. It quantifies how much the sample mean (x bar) is expected to vary from the true population mean (μ) due to random sampling."
   ]
  },
  {
   "cell_type": "markdown",
   "metadata": {},
   "source": [
    "The margin of error is inversely proportional to the square root of the sample size:  \n",
    "- Larger sample size (n) → Smaller MOE (More precision).\n",
    "- Smaller sample size (n) → Larger MOE (Less precision)."
   ]
  },
  {
   "cell_type": "markdown",
   "metadata": {},
   "source": [
    "---"
   ]
  },
  {
   "cell_type": "markdown",
   "metadata": {},
   "source": [
    "#### Q9. Calculate the z-score for a data point with a value of 75, a population mean of 70, and a population standard deviation of 5. Interpret the results."
   ]
  },
  {
   "cell_type": "markdown",
   "metadata": {},
   "source": [
    "Ans."
   ]
  },
  {
   "cell_type": "code",
   "execution_count": 4,
   "metadata": {},
   "outputs": [
    {
     "name": "stdout",
     "output_type": "stream",
     "text": [
      "Z-score: 1.00\n",
      "Percentile Rank: 84.13%\n"
     ]
    }
   ],
   "source": [
    "import scipy.stats as st\n",
    "\n",
    "X = 75\n",
    "m = 70\n",
    "std = 5\n",
    "\n",
    "z_score = (X - m) / std\n",
    "\n",
    "percentile = st.norm.cdf(z_score) * 100\n",
    "\n",
    "print(f\"Z-score: {z_score:.2f}\")\n",
    "print(f\"Percentile Rank: {percentile:.2f}%\")\n"
   ]
  },
  {
   "cell_type": "markdown",
   "metadata": {},
   "source": [
    "---"
   ]
  },
  {
   "cell_type": "markdown",
   "metadata": {},
   "source": [
    "#### Q10. In a study of the effectiveness of a new weight loss drug, a sample of 50 participants lost an average of 6 pounds with a standard deviation of 2.5 pounds. Conduct a hypothesis test to determine if the drug is significantly effective at a 95% confidence level using a t-test."
   ]
  },
  {
   "cell_type": "markdown",
   "metadata": {},
   "source": [
    "Ans."
   ]
  },
  {
   "cell_type": "code",
   "execution_count": 5,
   "metadata": {},
   "outputs": [
    {
     "data": {
      "text/plain": [
       "(16.970562748477143, 0.0)"
      ]
     },
     "execution_count": 5,
     "metadata": {},
     "output_type": "execute_result"
    }
   ],
   "source": [
    "import scipy.stats as st\n",
    "import numpy as np\n",
    "\n",
    "sample_mean = 6\n",
    "null_mean = 0\n",
    "sample_std = 2.5\n",
    "n = 50\n",
    "alpha = 0.05\n",
    "\n",
    "t_statistic = (sample_mean - null_mean) / (sample_std / np.sqrt(n))\n",
    "\n",
    "df = n - 1\n",
    "\n",
    "p_value = 2 * (1 - st.t.cdf(abs(t_statistic), df=df))\n",
    "\n",
    "t_statistic, p_value\n"
   ]
  },
  {
   "cell_type": "markdown",
   "metadata": {},
   "source": [
    "---"
   ]
  },
  {
   "cell_type": "markdown",
   "metadata": {},
   "source": [
    "#### Q11. In a survey of 500 people, 65% reported being satisfied with their current job. Calculate the 95% confidence interval for the true proportion of people who are satisfied with their job."
   ]
  },
  {
   "cell_type": "markdown",
   "metadata": {},
   "source": [
    "Ans."
   ]
  },
  {
   "cell_type": "code",
   "execution_count": 6,
   "metadata": {},
   "outputs": [
    {
     "data": {
      "text/plain": [
       "(0.608191771144905, 0.6918082288550951)"
      ]
     },
     "execution_count": 6,
     "metadata": {},
     "output_type": "execute_result"
    }
   ],
   "source": [
    "import math\n",
    "\n",
    "p = 0.65\n",
    "n = 500\n",
    "Z = 1.96  # Z-critical value for 95% confidence level\n",
    "\n",
    "SE = math.sqrt((p * (1 - p)) / n)\n",
    "\n",
    "ME = Z * SE\n",
    "\n",
    "lower_bound = p - ME\n",
    "upper_bound = p + ME\n",
    "\n",
    "lower_bound, upper_bound\n"
   ]
  },
  {
   "cell_type": "markdown",
   "metadata": {},
   "source": [
    "---"
   ]
  },
  {
   "cell_type": "markdown",
   "metadata": {},
   "source": [
    "#### Q12. A researcher is testing the effectiveness of two different teaching methods on student performance. Sample A has a mean score of 85 with a standard deviation of 6, while sample B has a mean score of 82 with a standard deviation of 5. Conduct a hypothesis test to determine if the two teaching methods have a significant difference in student performance using a t-test with a significance level of 0.01."
   ]
  },
  {
   "cell_type": "markdown",
   "metadata": {},
   "source": [
    "Ans."
   ]
  },
  {
   "cell_type": "code",
   "execution_count": 7,
   "metadata": {},
   "outputs": [
    {
     "data": {
      "text/plain": [
       "(2.1038606199548298, 0.03987998118234137)"
      ]
     },
     "execution_count": 7,
     "metadata": {},
     "output_type": "execute_result"
    }
   ],
   "source": [
    "import scipy.stats as st\n",
    "import numpy as np\n",
    "\n",
    "mean_A = 85\n",
    "mean_B = 82\n",
    "std_A = 6\n",
    "std_B = 5\n",
    "n_A = 30  # assumption for sample A\n",
    "n_B = 30  # assumption for sample B\n",
    "alpha = 0.01  # significance level\n",
    "\n",
    "t_statistic = (mean_A - mean_B) / np.sqrt((std_A**2 / n_A) + (std_B**2 / n_B))\n",
    "\n",
    "df = ((std_A**2 / n_A + std_B**2 / n_B)**2) / (((std_A**2 / n_A)**2) / (n_A - 1) + ((std_B**2 / n_B)**2) / (n_B - 1))\n",
    "\n",
    "p_value = 2 * (1 - st.t.cdf(abs(t_statistic), df=df))\n",
    "\n",
    "t_statistic, p_value\n"
   ]
  },
  {
   "cell_type": "markdown",
   "metadata": {},
   "source": [
    "---"
   ]
  },
  {
   "cell_type": "markdown",
   "metadata": {},
   "source": [
    "#### Q13. A population has a mean of 60 and a standard deviation of 8. A sample of 50 observations has a mean of 65. Calculate the 90% confidence interval for the true population mean."
   ]
  },
  {
   "cell_type": "markdown",
   "metadata": {},
   "source": [
    "Ans."
   ]
  },
  {
   "cell_type": "code",
   "execution_count": 8,
   "metadata": {},
   "outputs": [
    {
     "name": "stdout",
     "output_type": "stream",
     "text": [
      "63.13889495191701 \t 66.86110504808299\n"
     ]
    }
   ],
   "source": [
    "import math\n",
    "\n",
    "sample_mean, sigma, n = 65, 8, 50\n",
    "Z = 1.645  # Z-critical value for 90% confidence level\n",
    "\n",
    "SE = sigma / math.sqrt(n)\n",
    "\n",
    "ME = Z * SE\n",
    "\n",
    "lower_bound = sample_mean - ME\n",
    "upper_bound = sample_mean + ME\n",
    "\n",
    "print(lower_bound, \"\\t\",upper_bound)"
   ]
  },
  {
   "cell_type": "markdown",
   "metadata": {},
   "source": [
    "---"
   ]
  },
  {
   "cell_type": "markdown",
   "metadata": {},
   "source": [
    "#### Q14. In a study of the effects of caffeine on reaction time, a sample of 30 participants had an average reaction time of 0.25 seconds with a standard deviation of 0.05 seconds. Conduct a hypothesis test to determine if the caffeine has a significant effect on reaction time at a 90% confidence level using a t-test."
   ]
  },
  {
   "cell_type": "markdown",
   "metadata": {},
   "source": [
    "Ans."
   ]
  },
  {
   "cell_type": "code",
   "execution_count": 9,
   "metadata": {},
   "outputs": [
    {
     "data": {
      "text/plain": [
       "(-5.47722557505166, 6.7391453468790274e-06)"
      ]
     },
     "execution_count": 9,
     "metadata": {},
     "output_type": "execute_result"
    }
   ],
   "source": [
    "import scipy.stats as st\n",
    "import numpy as np\n",
    "\n",
    "sample_mean, mu_0, sample_std, n = 0.25, 0.3, 0.05, 30\n",
    "alpha = 0.10  # significance level for 90% confidence\n",
    "\n",
    "t_statistic = (sample_mean - mu_0) / (sample_std / np.sqrt(n))\n",
    "\n",
    "dof = n - 1\n",
    "\n",
    "p_value = 2 * (1 - st.t.cdf(abs(t_statistic), df=dof))\n",
    "\n",
    "# Results\n",
    "t_statistic, p_value\n"
   ]
  },
  {
   "cell_type": "code",
   "execution_count": null,
   "metadata": {},
   "outputs": [],
   "source": []
  }
 ],
 "metadata": {
  "kernelspec": {
   "display_name": "Python 3",
   "language": "python",
   "name": "python3"
  },
  "language_info": {
   "codemirror_mode": {
    "name": "ipython",
    "version": 3
   },
   "file_extension": ".py",
   "mimetype": "text/x-python",
   "name": "python",
   "nbconvert_exporter": "python",
   "pygments_lexer": "ipython3",
   "version": "3.11.5"
  }
 },
 "nbformat": 4,
 "nbformat_minor": 2
}
