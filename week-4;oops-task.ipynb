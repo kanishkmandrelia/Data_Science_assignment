{
 "cells": [
  {
   "cell_type": "markdown",
   "id": "6901da38-9e0c-4533-9cb6-8185c2a29fd9",
   "metadata": {},
   "source": [
    "Q1. Create a vehicle class with an init method having instance variables as name_of_vehicle, max_speed and average_of_vehicle."
   ]
  },
  {
   "cell_type": "markdown",
   "id": "edbd5c7c-d885-4368-bcf3-57d8a2fe4d00",
   "metadata": {},
   "source": [
    "Ans."
   ]
  },
  {
   "cell_type": "code",
   "execution_count": 1,
   "id": "3022515c-e623-46d0-ba22-6a260a8aa290",
   "metadata": {},
   "outputs": [],
   "source": [
    "class Vehicle:\n",
    "\n",
    "    def __init__(self, vehicle_name, max_speed, average_of_vehicle):\n",
    "        self.name_of_vehicle = vehicle_name\n",
    "        self.max_speed = max_speed\n",
    "        self.average_of_vehicle = average_of_vehicle\n",
    "\n",
    "    def get_name_of_vehicle(self):\n",
    "        return self.name_of_vehicle\n",
    "\n",
    "    def set_name_of_vehicle(self, vehicle_name):\n",
    "        self.name_of_vehicle = vehicle_name\n",
    "\n",
    "    def get_max_speed(self):\n",
    "        return self.max_speed\n",
    "\n",
    "    def set_max_speed(self, max_speed):\n",
    "        self.max_speed = max_speed\n",
    "\n",
    "    def get_average_of_vehicle(self):\n",
    "        return self.average_of_vehicle\n",
    "\n",
    "    def set_average_of_vehicle(self, average_of_vehicle):\n",
    "        self.average_of_vehicle = average_of_vehicle"
   ]
  },
  {
   "cell_type": "code",
   "execution_count": 2,
   "id": "e585465b-3503-43ad-aa03-4b211769518c",
   "metadata": {},
   "outputs": [],
   "source": [
    "kanishk= Vehicle(\"toyota Supraa\",250,175)"
   ]
  },
  {
   "cell_type": "code",
   "execution_count": 3,
   "id": "6ba374d6-8f3d-4491-a8ff-addb19e8c9b7",
   "metadata": {},
   "outputs": [],
   "source": [
    "kanishk.set_max_speed(45)"
   ]
  },
  {
   "cell_type": "code",
   "execution_count": 4,
   "id": "c429368b-d3e6-4a4a-bf67-d280463fa3d5",
   "metadata": {},
   "outputs": [
    {
     "data": {
      "text/plain": [
       "45"
      ]
     },
     "execution_count": 4,
     "metadata": {},
     "output_type": "execute_result"
    }
   ],
   "source": [
    "kanishk.get_max_speed()"
   ]
  },
  {
   "cell_type": "markdown",
   "id": "a7006049-d086-4b83-93b8-19643e757116",
   "metadata": {},
   "source": [
    "---"
   ]
  },
  {
   "cell_type": "markdown",
   "id": "ad722116-c5da-418e-bc93-d398224def67",
   "metadata": {},
   "source": [
    "Q2. Create a child class car from the vehicle class created in Que 1, which will inherit the vehicle class. Ceate a method named seating_capacity which takes capacity as an argument and returns the name of the vehicle and its seating capacity."
   ]
  },
  {
   "cell_type": "markdown",
   "id": "57a45917-d84b-4ff7-b73d-5aae6205ea3f",
   "metadata": {},
   "source": [
    "Ans."
   ]
  },
  {
   "cell_type": "code",
   "execution_count": 5,
   "id": "11d9d4c9-740a-4d95-9400-5e4838ae28cc",
   "metadata": {},
   "outputs": [],
   "source": [
    "class Car(Vehicle):\n",
    "\n",
    "    def __init__(self, vehicle_name, max_speed, average_of_vehicle, seating_capacity):\n",
    "        super().__init__(vehicle_name, max_speed, average_of_vehicle)\n",
    "        self.seating_capacity = seating_capacity\n",
    "\n",
    "    def get_seating_capacity(self):\n",
    "        return \"This car has a seating capacity of '{}' passengers.\".format(self.seating_capacity)\n",
    "    \n",
    "    def set_seating_capacity(self, seating_capacity):\n",
    "        self.seating_capacity = seating_capacity"
   ]
  },
  {
   "cell_type": "code",
   "execution_count": 6,
   "id": "f4b287e2-d294-420e-b4c1-069394d50134",
   "metadata": {},
   "outputs": [],
   "source": [
    "car = Car(\"Toyota\", 200, 60, 5)"
   ]
  },
  {
   "cell_type": "code",
   "execution_count": 7,
   "id": "c1927df8-2ded-4c09-bd99-322d75ab191d",
   "metadata": {},
   "outputs": [
    {
     "data": {
      "text/plain": [
       "\"This car has a seating capacity of '5' passengers.\""
      ]
     },
     "execution_count": 7,
     "metadata": {},
     "output_type": "execute_result"
    }
   ],
   "source": [
    "car.get_seating_capacity()"
   ]
  },
  {
   "cell_type": "code",
   "execution_count": 8,
   "id": "3d92d196-0cb5-4d22-886e-9d01b6239cf9",
   "metadata": {},
   "outputs": [],
   "source": [
    "car.set_seating_capacity(8)"
   ]
  },
  {
   "cell_type": "code",
   "execution_count": 9,
   "id": "eb5f16dc-b9f0-49a7-b86c-c7bdc75c65c8",
   "metadata": {},
   "outputs": [
    {
     "data": {
      "text/plain": [
       "\"This car has a seating capacity of '8' passengers.\""
      ]
     },
     "execution_count": 9,
     "metadata": {},
     "output_type": "execute_result"
    }
   ],
   "source": [
    "car.get_seating_capacity()"
   ]
  },
  {
   "cell_type": "markdown",
   "id": "0cad8a28-ce96-41e0-97f2-20ce480d4264",
   "metadata": {},
   "source": [
    "---"
   ]
  },
  {
   "cell_type": "markdown",
   "id": "49e474a7-d279-4766-a1cc-91193aa91ee7",
   "metadata": {},
   "source": [
    "Q3. What is multiple inheritance? Write a python code to demonstrate multiple inheritance."
   ]
  },
  {
   "cell_type": "markdown",
   "id": "bf772c85-90ed-4600-b20a-7978bda3f67d",
   "metadata": {},
   "source": [
    "Ans."
   ]
  },
  {
   "cell_type": "markdown",
   "id": "20cfed0a-59f4-4459-882c-4a9b990c52fc",
   "metadata": {},
   "source": [
    "Multiple inheritance is a feature of object-oriented programming (OOP) that allows a class to inherit from multiple base classes. This means that the child class can inherit the properties and methods of all of its base classes.  \n",
    "Example:"
   ]
  },
  {
   "cell_type": "code",
   "execution_count": 10,
   "id": "9fbf309f-1f0d-4ecc-b59e-873aeeeb3a5e",
   "metadata": {},
   "outputs": [],
   "source": [
    "class class1:\n",
    "    def test_class1(self):\n",
    "        return \"This is multiple inheritance class 1\"\n",
    "\n",
    "class class2:\n",
    "    def test_class2(self):\n",
    "        return \"This is multiple inheritance class 2\"\n",
    "\n",
    "class class3(class1, class2):\n",
    "    pass"
   ]
  },
  {
   "cell_type": "code",
   "execution_count": 11,
   "id": "db945866-c896-4d7b-a0b0-0e1c8aafd7a6",
   "metadata": {},
   "outputs": [],
   "source": [
    "obj= class3()"
   ]
  },
  {
   "cell_type": "code",
   "execution_count": 12,
   "id": "912d2520-5f6e-46f6-8ae8-c6b9cc20c054",
   "metadata": {},
   "outputs": [
    {
     "data": {
      "text/plain": [
       "'This is multiple inheritance class 1'"
      ]
     },
     "execution_count": 12,
     "metadata": {},
     "output_type": "execute_result"
    }
   ],
   "source": [
    "obj.test_class1()"
   ]
  },
  {
   "cell_type": "markdown",
   "id": "819e3509-831d-4c9e-9281-78800026f158",
   "metadata": {},
   "source": [
    "---"
   ]
  },
  {
   "cell_type": "markdown",
   "id": "eecccfa1-4541-4fe6-a3d8-34cee9b93f2f",
   "metadata": {},
   "source": [
    "Q4. What are getter and setter in python? Create a class and create a getter and a setter method in this class."
   ]
  },
  {
   "cell_type": "markdown",
   "id": "4bc94e95-d66e-4707-b51e-aebb97d00276",
   "metadata": {},
   "source": [
    "Ans."
   ]
  },
  {
   "cell_type": "markdown",
   "id": "29a7d6d8-ed93-4737-b5f9-dafe5ce55ce6",
   "metadata": {},
   "source": [
    "Getters and setters are special methods in Python that are used to get and set the value of an object's attribute. Getters are typically used to get the value of an attribute, while setters are typically used to set the value of an attribute.   \n",
    "Example"
   ]
  },
  {
   "cell_type": "code",
   "execution_count": 13,
   "id": "c1252a05-bc3e-49d4-b849-d83bd2d9d324",
   "metadata": {},
   "outputs": [],
   "source": [
    "class pwskill:\n",
    "    def __init__(self, course_price, course_name):\n",
    "        self.__course_price= course_price\n",
    "        self.course_name= course_name\n",
    "        \n",
    "    @property\n",
    "    def course_price_access(self):\n",
    "        return self.__course_price\n",
    "    \n",
    "    @course_price_access.setter\n",
    "    def course_price_set(self, price):\n",
    "        if price<=3500:\n",
    "            pass\n",
    "        else :\n",
    "            self.__course_price = price"
   ]
  },
  {
   "cell_type": "code",
   "execution_count": 14,
   "id": "63150f6d-3a30-4c5a-a926-1f100c36dd32",
   "metadata": {},
   "outputs": [],
   "source": [
    "kushal= pwskill(3500,\"Data Science Masters\")"
   ]
  },
  {
   "cell_type": "code",
   "execution_count": 15,
   "id": "57b5d99a-06ca-457e-9769-5f9ff96565c7",
   "metadata": {},
   "outputs": [
    {
     "data": {
      "text/plain": [
       "3500"
      ]
     },
     "execution_count": 15,
     "metadata": {},
     "output_type": "execute_result"
    }
   ],
   "source": [
    "kushal.course_price_access"
   ]
  },
  {
   "cell_type": "code",
   "execution_count": 16,
   "id": "b0e04fab-c5e9-4c8a-8fda-c51e01d35ae9",
   "metadata": {},
   "outputs": [
    {
     "data": {
      "text/plain": [
       "'Data Science Masters'"
      ]
     },
     "execution_count": 16,
     "metadata": {},
     "output_type": "execute_result"
    }
   ],
   "source": [
    "kushal.course_name"
   ]
  },
  {
   "cell_type": "markdown",
   "id": "7ea267fa-8262-431a-a21a-5c1d2948e7af",
   "metadata": {},
   "source": [
    "---"
   ]
  },
  {
   "cell_type": "markdown",
   "id": "f1356ec5-49a2-4523-bfd1-463be1b43c0a",
   "metadata": {},
   "source": [
    "Q5. What is method overriding in python? Write a python code to demonstrate method overriding."
   ]
  },
  {
   "cell_type": "markdown",
   "id": "1f7a2229-01be-426b-99f8-f2a13b1bf1e3",
   "metadata": {},
   "source": [
    "Method overriding is a feature of object-oriented programming (OOP) that allows a child class to provide a different implementation of a method that is already defined in its parent class."
   ]
  },
  {
   "cell_type": "code",
   "execution_count": 17,
   "id": "be03bb99-5b65-450d-b657-cd717548e959",
   "metadata": {},
   "outputs": [
    {
     "name": "stdout",
     "output_type": "stream",
     "text": [
      "I am an animal!\n"
     ]
    }
   ],
   "source": [
    "class Animal:\n",
    "\n",
    "    def make_sound(self):\n",
    "        print(\"I am an animal!\")\n",
    "\n",
    "\n",
    "class Dog:\n",
    "\n",
    "    def make_sound(self):\n",
    "        print(\"Woof!\")\n",
    "\n",
    "\n",
    "dog = Animal()\n",
    "dog.make_sound()\n"
   ]
  },
  {
   "cell_type": "code",
   "execution_count": null,
   "id": "ae34613f-8930-442f-b366-0776cdb2ed87",
   "metadata": {},
   "outputs": [],
   "source": []
  }
 ],
 "metadata": {
  "kernelspec": {
   "display_name": "Python 3 (ipykernel)",
   "language": "python",
   "name": "python3"
  },
  "language_info": {
   "codemirror_mode": {
    "name": "ipython",
    "version": 3
   },
   "file_extension": ".py",
   "mimetype": "text/x-python",
   "name": "python",
   "nbconvert_exporter": "python",
   "pygments_lexer": "ipython3",
   "version": "3.10.8"
  }
 },
 "nbformat": 4,
 "nbformat_minor": 5
}
