{
 "cells": [
  {
   "cell_type": "markdown",
   "metadata": {},
   "source": [
    "### Q1. What is MongoDB? Explain non-relational databases in short. In which scenarios it is preferred to use MongoDB over SQL databases?"
   ]
  },
  {
   "cell_type": "markdown",
   "metadata": {},
   "source": [
    "Ans."
   ]
  },
  {
   "cell_type": "markdown",
   "metadata": {},
   "source": [
    "**MongoDB** is a popular NoSQL (non-relational) database that stores data in a flexible, document-based format known as BSON (Binary JSON). MongoDB allows for the storage and retrieval of data in key-value pairs, arrays, and nested documents, making it highly flexible and scalable. It is schema-less, meaning you can store data without defining a strict schema upfront, which contrasts with traditional SQL databases where the schema must be pre-defined.  \n",
    "\n",
    "**Non-relational databases (NoSQL databases)** are databases that do not rely on the traditional table-based relational database model. Instead, they store data in various formats such as: Key value pairs, Documents, Graph databases. These databases are designed to handle unstructured, semi-structured, or dynamically changing data and offer high scalability and flexibility.  \n",
    "\n",
    "**Scenarios Where MongoDB is Preferred Over SQL Databases:**  \n",
    "1. Handling Unstructured or Semi-Structured Data  \n",
    "2. High Scalability and Distributed Systems  \n",
    "3. Big Data and Real-Time Analytics  \n",
    "4. Geographically Distributed Data  "
   ]
  },
  {
   "cell_type": "markdown",
   "metadata": {},
   "source": [
    "---"
   ]
  },
  {
   "cell_type": "markdown",
   "metadata": {},
   "source": [
    "### Q2. State and Explain the features of MongoDB."
   ]
  },
  {
   "cell_type": "markdown",
   "metadata": {},
   "source": [
    "Ans."
   ]
  },
  {
   "cell_type": "markdown",
   "metadata": {},
   "source": [
    "**Features of MongoDB**:  \n",
    "1. Document-Oriented Storage\n",
    "- Explanation: MongoDB stores data in a flexible, JSON-like format called BSON (Binary JSON), where each document is a set of key-value pairs. Documents are similar to objects in programming languages like Python or JavaScript, making it intuitive for developers to interact with.\n",
    "- Benefit: Allows storage of complex data types like arrays and nested documents, providing flexibility in data modeling without the need for a predefined schema.  \n",
    "\n",
    "2. Schema-less Structure\n",
    "- Explanation: MongoDB does not enforce a rigid schema for the documents in a collection, meaning each document can have different structures. Fields can be added, removed, or modified without needing to update the schema across all documents.\n",
    "- Benefit: Flexibility to evolve the database structure over time without impacting existing data or applications, making it ideal for applications that grow or change rapidly.  \n",
    "\n",
    "3. Scalability\n",
    "- Explanation: MongoDB supports horizontal scaling through a technique called sharding. Sharding distributes data across multiple machines (shards), ensuring the system can handle increased loads without performance degradation.\n",
    "- Benefit: Enables scaling out to handle massive amounts of data and traffic by distributing data across multiple servers, which is ideal for high-traffic applications like e-commerce or social media platforms.  \n",
    "\n",
    "4. Geospatial Queries\n",
    "- Explanation: MongoDB natively supports geospatial data and provides operators to run location-based queries. You can store location coordinates and query for documents near a specific location using geospatial indexes.\n",
    "- Benefit: Useful for applications like ride-sharing, delivery services, or social apps that need location-based features.  \n",
    "\n",
    "5. JSON-Like Storage Format (BSON)\n",
    "- Explanation: MongoDB stores data in BSON format, which is a binary representation of JSON-like documents. BSON supports more data types than JSON (e.g., dates, binary data).\n",
    "- Benefit: The JSON-like structure is intuitive for developers, and BSON allows for fast encoding and decoding of data during storage and retrieval."
   ]
  },
  {
   "cell_type": "markdown",
   "metadata": {},
   "source": [
    "---"
   ]
  },
  {
   "cell_type": "markdown",
   "metadata": {},
   "source": [
    "### Q3. Write a code to connect MongoDB to Python. Also, create a database and a collection in MongoDB."
   ]
  },
  {
   "cell_type": "markdown",
   "metadata": {},
   "source": [
    "Ans."
   ]
  },
  {
   "cell_type": "code",
   "execution_count": 1,
   "metadata": {},
   "outputs": [
    {
     "name": "stdout",
     "output_type": "stream",
     "text": [
      "Document inserted successfully!\n",
      "Retrieved Document:  {'_id': ObjectId('66ecf91f52ca90772553c9a7'), 'name': 'Kanishk Mandrelia', 'age': 21, 'email': 'kanishkmandrelia@gmail.com', 'address': {'street': 'C-103, Rahul Dream, R.S Complex, Rahul Park', 'city': 'Bhayandar East, Thane, Maharastra', 'zipcode': '401105'}}\n"
     ]
    }
   ],
   "source": [
    "from pymongo import MongoClient\n",
    "\n",
    "client = MongoClient(\"mongodb://localhost:27017/\")\n",
    "\n",
    "db = client[\"my_database\"]\n",
    "\n",
    "collection = db[\"my_collection\"]\n",
    "\n",
    "sample_document = {\n",
    "    \"name\": \"Kanishk Mandrelia\",\n",
    "    \"age\": 21,\n",
    "    \"email\": \"kanishkmandrelia@gmail.com\",\n",
    "    \"address\": {\n",
    "        \"street\": \"C-103, Rahul Dream, R.S Complex, Rahul Park\",\n",
    "        \"city\": \"Bhayandar East, Thane, Maharastra\",\n",
    "        \"zipcode\": \"401105\"\n",
    "    }\n",
    "}\n",
    "\n",
    "collection.insert_one(sample_document)\n",
    "\n",
    "print(\"Document inserted successfully!\")\n",
    "\n",
    "result = collection.find_one({\"name\": \"Kanishk Mandrelia\"})\n",
    "print(\"Retrieved Document: \", result)\n",
    "\n",
    "client.close()\n"
   ]
  },
  {
   "cell_type": "markdown",
   "metadata": {},
   "source": [
    "---"
   ]
  },
  {
   "cell_type": "markdown",
   "metadata": {},
   "source": [
    "### Q4. Using the database and the collection created in question number 3, write a code to insert one record, and insert many records. Use the find() and find_one() methods to print the inserted record."
   ]
  },
  {
   "cell_type": "markdown",
   "metadata": {},
   "source": [
    "Ans."
   ]
  },
  {
   "cell_type": "code",
   "execution_count": 2,
   "metadata": {},
   "outputs": [
    {
     "name": "stdout",
     "output_type": "stream",
     "text": [
      "Inserted one record successfully!\n",
      "Inserted many records successfully!\n",
      "Single Record (find_one): {'_id': ObjectId('66ecf91f52ca90772553c9aa'), 'name': 'Ram', 'age': 35, 'email': 'Ram@gmail.com', 'address': {'street': '789 Broadway', 'city': 'San Francisco', 'zipcode': '94101'}}\n",
      "All Records (find):\n",
      "{'_id': ObjectId('66ecf91f52ca90772553c9a7'), 'name': 'Kanishk Mandrelia', 'age': 21, 'email': 'kanishkmandrelia@gmail.com', 'address': {'street': 'C-103, Rahul Dream, R.S Complex, Rahul Park', 'city': 'Bhayandar East, Thane, Maharastra', 'zipcode': '401105'}}\n",
      "{'_id': ObjectId('66ecf91f52ca90772553c9a9'), 'name': 'Kanishk Mandrelia', 'age': 21, 'email': 'kanishkmandrelia@gmail.com', 'address': {'street': 'C-103, Rahul Dream, R.S Complex, Rahul Park', 'city': 'Bhayandar East, Thane, Maharastra', 'zipcode': '401105'}}\n",
      "{'_id': ObjectId('66ecf91f52ca90772553c9aa'), 'name': 'Ram', 'age': 35, 'email': 'Ram@gmail.com', 'address': {'street': '789 Broadway', 'city': 'San Francisco', 'zipcode': '94101'}}\n",
      "{'_id': ObjectId('66ecf91f52ca90772553c9ab'), 'name': 'shyam', 'age': 40, 'email': 'shyam@yahoo.com', 'address': {'street': '321 Ocean Dr', 'city': 'Miami', 'zipcode': '33101'}}\n"
     ]
    }
   ],
   "source": [
    "from pymongo import MongoClient\n",
    "\n",
    "client = MongoClient(\"mongodb://localhost:27017/\")  \n",
    "\n",
    "db = client[\"my_database\"]         \n",
    "collection = db[\"my_collection\"]   \n",
    "\n",
    "record_one = {\n",
    "    \"name\": \"Kanishk Mandrelia\",\n",
    "    \"age\": 21,\n",
    "    \"email\": \"kanishkmandrelia@gmail.com\",\n",
    "    \"address\": {\n",
    "        \"street\": \"C-103, Rahul Dream, R.S Complex, Rahul Park\",\n",
    "        \"city\": \"Bhayandar East, Thane, Maharastra\",\n",
    "        \"zipcode\": \"401105\"\n",
    "    }\n",
    "}\n",
    "\n",
    "collection.insert_one(record_one)\n",
    "print(\"Inserted one record successfully!\")\n",
    "\n",
    "records_many = [\n",
    "    {\n",
    "        \"name\": \"Ram\",\n",
    "        \"age\": 35,\n",
    "        \"email\": \"Ram@gmail.com\",\n",
    "        \"address\": {\n",
    "            \"street\": \"789 Broadway\",\n",
    "            \"city\": \"San Francisco\",\n",
    "            \"zipcode\": \"94101\"\n",
    "        }\n",
    "    },\n",
    "    {\n",
    "        \"name\": \"shyam\",\n",
    "        \"age\": 40,\n",
    "        \"email\": \"shyam@yahoo.com\",\n",
    "        \"address\": {\n",
    "            \"street\": \"321 Ocean Dr\",\n",
    "            \"city\": \"Miami\",\n",
    "            \"zipcode\": \"33101\"\n",
    "        }\n",
    "    }\n",
    "]\n",
    "collection.insert_many(records_many)\n",
    "print(\"Inserted many records successfully!\")\n",
    "\n",
    "single_record = collection.find_one({\"name\": \"Ram\"})\n",
    "print(\"Single Record (find_one):\", single_record)\n",
    "\n",
    "print(\"All Records (find):\")\n",
    "all_records = collection.find()\n",
    "for record in all_records:\n",
    "    print(record)\n",
    "\n",
    "client.close()\n"
   ]
  },
  {
   "cell_type": "markdown",
   "metadata": {},
   "source": [
    "---"
   ]
  },
  {
   "cell_type": "markdown",
   "metadata": {},
   "source": [
    "### Q5. Explain how you can use the find() method to query the MongoDB database. Write a simple code to demonstrate this."
   ]
  },
  {
   "cell_type": "markdown",
   "metadata": {},
   "source": [
    "Ans."
   ]
  },
  {
   "cell_type": "markdown",
   "metadata": {},
   "source": [
    "The **find()** method in MongoDB is used to retrieve multiple documents from a collection. It allows you to query the database and fetch documents that match specific criteria. Unlike find_one(), which returns only the first matched document, find() can return all matching documents.\n"
   ]
  },
  {
   "cell_type": "markdown",
   "metadata": {},
   "source": [
    "---"
   ]
  },
  {
   "cell_type": "markdown",
   "metadata": {},
   "source": [
    "### Q6. Explain the sort() method. Give an example to demonstrate sorting in MongoDB."
   ]
  },
  {
   "cell_type": "markdown",
   "metadata": {},
   "source": [
    "Ans."
   ]
  },
  {
   "cell_type": "markdown",
   "metadata": {},
   "source": [
    "In MongoDB, the **sort()** method is used to sort the documents returned by the find() query, based on one or more fields. Sorting can be done in ascending or descending order.  \n",
    "1 for ascending order (lowest to highest). -1 for descending order (highest to lowest)."
   ]
  },
  {
   "cell_type": "code",
   "execution_count": 3,
   "metadata": {},
   "outputs": [
    {
     "name": "stdout",
     "output_type": "stream",
     "text": [
      "Documents sorted by age in ascending order:\n",
      "{'_id': ObjectId('66ed02bb52ca90772553c9b1'), 'name': 'Eve', 'age': 22, 'city': 'Chicago'}\n",
      "{'_id': ObjectId('66ed02bb52ca90772553c9ad'), 'name': 'Alice', 'age': 25, 'city': 'New York'}\n",
      "{'_id': ObjectId('66ed02bb52ca90772553c9ae'), 'name': 'Bob', 'age': 30, 'city': 'Los Angeles'}\n",
      "{'_id': ObjectId('66ed02bb52ca90772553c9af'), 'name': 'Charlie', 'age': 35, 'city': 'San Francisco'}\n",
      "{'_id': ObjectId('66ed02bb52ca90772553c9b0'), 'name': 'David', 'age': 40, 'city': 'Miami'}\n",
      "\n",
      "Documents sorted by age in descending order:\n",
      "{'_id': ObjectId('66ed02bb52ca90772553c9b0'), 'name': 'David', 'age': 40, 'city': 'Miami'}\n",
      "{'_id': ObjectId('66ed02bb52ca90772553c9af'), 'name': 'Charlie', 'age': 35, 'city': 'San Francisco'}\n",
      "{'_id': ObjectId('66ed02bb52ca90772553c9ae'), 'name': 'Bob', 'age': 30, 'city': 'Los Angeles'}\n",
      "{'_id': ObjectId('66ed02bb52ca90772553c9ad'), 'name': 'Alice', 'age': 25, 'city': 'New York'}\n",
      "{'_id': ObjectId('66ed02bb52ca90772553c9b1'), 'name': 'Eve', 'age': 22, 'city': 'Chicago'}\n",
      "\n",
      "Documents sorted by city in alphabetical order:\n",
      "{'_id': ObjectId('66ed02bb52ca90772553c9b1'), 'name': 'Eve', 'age': 22, 'city': 'Chicago'}\n",
      "{'_id': ObjectId('66ed02bb52ca90772553c9ae'), 'name': 'Bob', 'age': 30, 'city': 'Los Angeles'}\n",
      "{'_id': ObjectId('66ed02bb52ca90772553c9b0'), 'name': 'David', 'age': 40, 'city': 'Miami'}\n",
      "{'_id': ObjectId('66ed02bb52ca90772553c9ad'), 'name': 'Alice', 'age': 25, 'city': 'New York'}\n",
      "{'_id': ObjectId('66ed02bb52ca90772553c9af'), 'name': 'Charlie', 'age': 35, 'city': 'San Francisco'}\n"
     ]
    }
   ],
   "source": [
    "from pymongo import MongoClient\n",
    "\n",
    "client = MongoClient(\"mongodb://localhost:27017/\")  # Connect to local MongoDB server\n",
    "\n",
    "db = client[\"my_database\"]        \n",
    "collection = db[\"my_collection_2\"]  \n",
    "\n",
    "records = [\n",
    "    {\"name\": \"Alice\", \"age\": 25, \"city\": \"New York\"},\n",
    "    {\"name\": \"Bob\", \"age\": 30, \"city\": \"Los Angeles\"},\n",
    "    {\"name\": \"Charlie\", \"age\": 35, \"city\": \"San Francisco\"},\n",
    "    {\"name\": \"David\", \"age\": 40, \"city\": \"Miami\"},\n",
    "    {\"name\": \"Eve\", \"age\": 22, \"city\": \"Chicago\"}\n",
    "]\n",
    "collection.insert_many(records)\n",
    "\n",
    "print(\"Documents sorted by age in ascending order:\")\n",
    "for doc in collection.find().sort(\"age\", 1):  # 1 => ascending order\n",
    "    print(doc)\n",
    "\n",
    "print(\"\\nDocuments sorted by age in descending order:\")\n",
    "for doc in collection.find().sort(\"age\", -1):  # -1 => descending order\n",
    "    print(doc)\n",
    "\n",
    "print(\"\\nDocuments sorted by city in alphabetical order:\")\n",
    "for doc in collection.find().sort(\"city\", 1):  # Sorting by city in ascending order (alphabetical)\n",
    "    print(doc)\n",
    "\n",
    "client.close()\n"
   ]
  },
  {
   "cell_type": "markdown",
   "metadata": {},
   "source": [
    "---"
   ]
  },
  {
   "cell_type": "markdown",
   "metadata": {},
   "source": [
    "### Q7. Explain why delete_one(), delete_many(), and drop() is used."
   ]
  },
  {
   "cell_type": "markdown",
   "metadata": {},
   "source": [
    "Ans."
   ]
  },
  {
   "cell_type": "markdown",
   "metadata": {},
   "source": [
    "**1. delete_one() Method:**  \n",
    "- Purpose: This method **deletes a single document** from a collection **that matches a specified filter**.  \n",
    "- Use case: Use delete_one() when want to **delete only one document based on some condition**.  \n",
    "\n",
    "**2. delete_many() Method:**\n",
    "- Purpose: This method **deletes all documents that match a specified filter**.\n",
    "- Use case: Use delete_many() when want to **delete multiple documents based on certain criteria**.  \n",
    "\n",
    "**3. drop() Method:**  \n",
    "- Purpose: This method **drops (removes) an entire collection**, including all its documents and indexes.  \n",
    "- Use case: Use drop() when want to **completely remove a collection and its data from the database**."
   ]
  },
  {
   "cell_type": "markdown",
   "metadata": {},
   "source": []
  }
 ],
 "metadata": {
  "kernelspec": {
   "display_name": "Python 3",
   "language": "python",
   "name": "python3"
  },
  "language_info": {
   "codemirror_mode": {
    "name": "ipython",
    "version": 3
   },
   "file_extension": ".py",
   "mimetype": "text/x-python",
   "name": "python",
   "nbconvert_exporter": "python",
   "pygments_lexer": "ipython3",
   "version": "3.11.5"
  }
 },
 "nbformat": 4,
 "nbformat_minor": 2
}
