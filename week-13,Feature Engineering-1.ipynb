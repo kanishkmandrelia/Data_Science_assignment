{
 "cells": [
  {
   "cell_type": "markdown",
   "metadata": {},
   "source": [
    "#### Q1. What is the Filter method in feature selection, and how does it work?"
   ]
  },
  {
   "cell_type": "markdown",
   "metadata": {},
   "source": [
    "Ans."
   ]
  },
  {
   "cell_type": "markdown",
   "metadata": {},
   "source": [
    "The Filter method in feature selection is a technique that selects relevant features based on their intrinsic properties, without involving any machine learning model. It evaluates the importance of each feature independently of any predictive model, using statistical techniques."
   ]
  },
  {
   "cell_type": "markdown",
   "metadata": {},
   "source": [
    "**How It Works:**  \n",
    "- Statistical Score Calculation: The filter method applies statistical tests or ranking criteria to each feature to measure its correlation with the target variable.\n",
    "- Threshold-Based Selection: Features that exceed a predefined threshold (or a fixed number of top-ranked features) are retained.\n",
    "- Model Independence: This method does not depend on any specific machine learning algorithm, making it computationally efficient and suitable for high-dimensional datasets."
   ]
  },
  {
   "cell_type": "markdown",
   "metadata": {},
   "source": [
    "**Common Techniques in the Filter Method:**  \n",
    "- Correlation Coefficient (Pearson, Spearman, Kendall's Tau): Measures the linear or monotonic relationship between features and the target variable.\n",
    "- Chi-Square Test: Evaluates the independence between categorical features and the target variable.\n",
    "- ANOVA (Analysis of Variance): Determines the significance of numerical features in classification tasks."
   ]
  },
  {
   "cell_type": "markdown",
   "metadata": {},
   "source": [
    "---"
   ]
  },
  {
   "cell_type": "markdown",
   "metadata": {},
   "source": [
    "#### Q2. How does the Wrapper method differ from the Filter method in feature selection?"
   ]
  },
  {
   "cell_type": "markdown",
   "metadata": {},
   "source": [
    "Ans."
   ]
  },
  {
   "cell_type": "markdown",
   "metadata": {},
   "source": [
    "**Filter Method:**  \n",
    "- Approach: Uses statistical measures to evaluate feature relevance independently of any model.  \n",
    "- Dependency on ML model: Model-independent; does not involve training a model.  \n",
    "- Feature Evaluation: Assesses individual features based on statistical criteria (e.g., correlation, chi-square, mutual information).  \n",
    "- Overfitting: Less likely, as it does not involve model training."
   ]
  },
  {
   "cell_type": "markdown",
   "metadata": {},
   "source": [
    "**Wrapper Method:**  \n",
    "- Approach: Uses a machine learning model to evaluate feature subsets iteratively.  \n",
    "- Dependency on ML model: Model-dependent; requires training a model multiple times.  \n",
    "- Feature Evaluation: Evaluates subsets of features by training a model and selecting the best-performing set.  \n",
    "- Overfitting: More likely, especially on small datasets, as it optimizes features for a specific model."
   ]
  },
  {
   "cell_type": "markdown",
   "metadata": {},
   "source": [
    "---"
   ]
  },
  {
   "cell_type": "markdown",
   "metadata": {},
   "source": [
    "#### Q3. What are some common techniques used in Embedded feature selection methods?"
   ]
  },
  {
   "cell_type": "markdown",
   "metadata": {},
   "source": [
    "Ans."
   ]
  },
  {
   "cell_type": "markdown",
   "metadata": {},
   "source": [
    "**Common Embedded Feature Selection Techniques:**  \n",
    "\n",
    "1️.Lasso (L1 Regularization)\n",
    "- Lasso regression adds an L1 penalty to the model's loss function, which encourages sparsity by shrinking less important feature weights to zero.\n",
    "- Features with zero coefficients are removed automatically.\n",
    "- Works well when many features are irrelevant."
   ]
  },
  {
   "cell_type": "markdown",
   "metadata": {},
   "source": [
    "2️.Ridge (L2 Regularization)\n",
    "- Ridge regression applies an L2 penalty, which discourages large coefficients but does not shrink them to zero.\n",
    "- Unlike Lasso, Ridge keeps all features but reduces their importance.\n",
    "- Best for preventing overfitting in high-dimensional data."
   ]
  },
  {
   "cell_type": "markdown",
   "metadata": {},
   "source": [
    "3️.Elastic Net (L1 + L2 Regularization)\n",
    "- Combines Lasso (L1) and Ridge (L2) regularization to select features while maintaining stability.\n",
    "- Useful when features are correlated (Lasso alone may randomly drop one feature from a correlated set)."
   ]
  },
  {
   "cell_type": "markdown",
   "metadata": {},
   "source": [
    "4.Recursive Feature Elimination (RFE)\n",
    "- Recursively removes the least important features based on a model’s performance.\n",
    "- Works well with algorithms like Logistic Regression and Support Vector Machines (SVM)."
   ]
  },
  {
   "cell_type": "markdown",
   "metadata": {},
   "source": [
    "---"
   ]
  },
  {
   "cell_type": "markdown",
   "metadata": {},
   "source": [
    "#### Q4. What are some drawbacks of using the Filter method for feature selection?"
   ]
  },
  {
   "cell_type": "markdown",
   "metadata": {},
   "source": [
    "Ans."
   ]
  },
  {
   "cell_type": "markdown",
   "metadata": {},
   "source": [
    "**1️. Ignores Feature Interactions**  \n",
    "- The filter method evaluates each feature independently of others.\n",
    "- It does not consider how multiple features together might be more predictive than individual ones.\n",
    "- Example: If two weakly correlated features jointly provide strong predictive power, the filter method might discard them."
   ]
  },
  {
   "cell_type": "markdown",
   "metadata": {},
   "source": [
    "**2. May Miss Non-Linear Relationships:**  \n",
    "- Many filter techniques (e.g., Pearson correlation, ANOVA) assume a linear relationship between features and the target variable.\n",
    "- If the relationship is non-linear, important features might be ignored.\n",
    "- Example: In classification tasks where decision boundaries are non-linear, simple correlation-based filtering may not work well."
   ]
  },
  {
   "cell_type": "markdown",
   "metadata": {},
   "source": [
    "**3️. Fixed Selection Criteria Might Not Generalize Well:**  \n",
    "- The method uses predefined statistical thresholds to remove features.\n",
    "- These thresholds might not work well across different datasets.\n",
    "- Example: Setting a correlation threshold of 0.1 might work for one dataset but remove useful features in another."
   ]
  },
  {
   "cell_type": "markdown",
   "metadata": {},
   "source": [
    "**4. Can Retain Redundant Features:**\n",
    "- Features that are highly correlated with each other might still be selected.\n",
    "- Retaining redundant features can lead to overfitting and increase computational cost.\n",
    "- Example: Two almost identical features (e.g., \"total_sales\" and \"revenue\") might both be selected, even though one is enough."
   ]
  },
  {
   "cell_type": "markdown",
   "metadata": {},
   "source": [
    "---"
   ]
  },
  {
   "cell_type": "markdown",
   "metadata": {},
   "source": [
    "#### Q5. In which situations would you prefer using the Filter method over the Wrapper method for feature selection?"
   ]
  },
  {
   "cell_type": "markdown",
   "metadata": {},
   "source": [
    "Ans."
   ]
  },
  {
   "cell_type": "markdown",
   "metadata": {},
   "source": [
    "**When have a large dataset with high dimensionality:**\n",
    "- Why? The Filter method is computationally efficient and quickly removes irrelevant features without training a model.\n",
    "- Example: In genomics or NLP, where datasets have thousands of features (e.g., genes, words in a document)."
   ]
  },
  {
   "cell_type": "markdown",
   "metadata": {},
   "source": [
    "**When need a quick preprocessing step before model training**  \n",
    "- Why? The Filter method helps reduce dimensionality before applying more complex methods like Wrapper or Embedded approaches.\n",
    "- Example: If you have 1000 features, filtering out low-variance or uncorrelated features can improve training speed and model performance."
   ]
  },
  {
   "cell_type": "markdown",
   "metadata": {},
   "source": [
    "**When want to avoid overfitting in small datasets**  \n",
    "- Why? The Wrapper method can lead to overfitting, especially in small datasets, as it optimizes features for a specific model.\n",
    "- Example: In a medical diagnosis dataset with only 500 samples, using the Wrapper method might overfit to the training data."
   ]
  },
  {
   "cell_type": "markdown",
   "metadata": {},
   "source": [
    "---"
   ]
  },
  {
   "cell_type": "markdown",
   "metadata": {},
   "source": [
    "#### Q6. In a telecom company, you are working on a project to develop a predictive model for customer churn. You are unsure of which features to include in the model because the dataset contains several different ones. Describe how you would choose the most pertinent attributes for the model using the Filter Method."
   ]
  },
  {
   "cell_type": "markdown",
   "metadata": {},
   "source": [
    "Ans."
   ]
  },
  {
   "cell_type": "markdown",
   "metadata": {},
   "source": [
    "**Step 1: Understanding the Dataset**  \n",
    "A typical telecom churn dataset includes:\n",
    "- Customer Demographics: Age, gender, location.\n",
    "- Account Information: Contract type, tenure, payment method.\n",
    "- Service Usage: Call minutes, data usage, number of complaints.\n",
    "- Billing & Charges: Monthly charges, total charges, late payments.\n",
    "- Target Variable: Churn (Yes/No) indicating whether the customer left."
   ]
  },
  {
   "cell_type": "markdown",
   "metadata": {},
   "source": [
    "**Step 2: Remove Irrelevant and Constant Features**  \n",
    "- Use the variance threshold technique to eliminate features with little or no variance.\n",
    "- Example: If the payment_method column has 99% \"Credit Card\", it provides little useful information and can be removed."
   ]
  },
  {
   "cell_type": "markdown",
   "metadata": {},
   "source": [
    "**Step 3: Identify Redundant Features Using Correlation Analysis**  \n",
    "- Compute the Pearson correlation coefficient between numerical features and Churn.\n",
    "- Remove highly correlated features (correlation > 0.9) to avoid redundancy."
   ]
  },
  {
   "cell_type": "markdown",
   "metadata": {},
   "source": [
    "**Step 4: Use Chi-Square Test for Categorical Features**  \n",
    "- For categorical variables (e.g., contract_type, internet_service), use the Chi-Square test to measure their dependency on Churn.\n",
    "- Features with low Chi-Square scores contribute little information and can be removed."
   ]
  },
  {
   "cell_type": "markdown",
   "metadata": {},
   "source": [
    "**Step 6: Finalizing the Feature Set**  \n",
    "After applying the Filter method, the dataset is now reduced to the most relevant features. Some possible selected features might include:\n",
    "- Contract Type (Long-term contracts reduce churn)\n",
    "- Monthly Charges (High charges may lead to churn)\n",
    "- Customer Tenure (Loyal customers are less likely to leave)\n",
    "- Number of Complaints (More complaints lead to higher churn)"
   ]
  },
  {
   "cell_type": "markdown",
   "metadata": {},
   "source": [
    "---"
   ]
  },
  {
   "cell_type": "markdown",
   "metadata": {},
   "source": [
    "#### Q7. You are working on a project to predict the outcome of a soccer match. You have a large dataset with many features, including player statistics and team rankings. Explain how you would use the Embedded method to select the most relevant features for the model."
   ]
  },
  {
   "cell_type": "markdown",
   "metadata": {},
   "source": [
    "Ans."
   ]
  },
  {
   "cell_type": "code",
   "execution_count": 1,
   "metadata": {},
   "outputs": [
    {
     "name": "stdout",
     "output_type": "stream",
     "text": [
      "   Team_Ranking  Goals_per_Game  Pass_Accuracy  Shots_on_Target  \\\n",
      "0             7        1.397100      92.395365         8.466204   \n",
      "1            20        1.442511      78.055388         4.030569   \n",
      "2            15        2.755364      73.130839         3.966460   \n",
      "3            11        1.761205      81.858403         5.222115   \n",
      "4             8        0.098540      72.848916         9.157142   \n",
      "\n",
      "   Defensive_Errors  Recent_Performance  Match_Result  \n",
      "0                 4            0.636848             2  \n",
      "1                 2            1.771271             2  \n",
      "2                 4            0.051396             0  \n",
      "3                 4            4.454095             1  \n",
      "4                 2            0.842554             2  \n",
      "\n",
      "✅ Data preprocessing completed!\n",
      "\n",
      "\n",
      "🔹 Selected Features using Lasso Regression:\n",
      " Index(['Goals_per_Game', 'Pass_Accuracy', 'Shots_on_Target',\n",
      "       'Defensive_Errors', 'Recent_Performance'],\n",
      "      dtype='object')\n"
     ]
    },
    {
     "data": {
      "image/png": "[encoded data removed]",
      "text/plain": [
       "<Figure size 1000x500 with 1 Axes>"
      ]
     },
     "metadata": {},
     "output_type": "display_data"
    },
    {
     "name": "stdout",
     "output_type": "stream",
     "text": [
      "\n",
      "🔹 Selected Features using Random Forest:\n",
      " Index(['Team_Ranking', 'Goals_per_Game', 'Pass_Accuracy', 'Shots_on_Target',\n",
      "       'Defensive_Errors', 'Recent_Performance'],\n",
      "      dtype='object')\n"
     ]
    },
    {
     "name": "stderr",
     "output_type": "stream",
     "text": [
      "C:\\Users\\Hp\\AppData\\Roaming\\Python\\Python311\\site-packages\\xgboost\\core.py:158: UserWarning: [20:00:15] WARNING: C:\\buildkite-agent\\builds\\buildkite-windows-cpu-autoscaling-group-i-0015a694724fa8361-1\\xgboost\\xgboost-ci-windows\\src\\learner.cc:740: \n",
      "Parameters: { \"use_label_encoder\" } are not used.\n",
      "\n",
      "  warnings.warn(smsg, UserWarning)\n"
     ]
    },
    {
     "data": {
      "image/png": "[encoded data removed]",
      "text/plain": [
       "<Figure size 1000x500 with 1 Axes>"
      ]
     },
     "metadata": {},
     "output_type": "display_data"
    },
    {
     "name": "stdout",
     "output_type": "stream",
     "text": [
      "\n",
      "🔹 Selected Features using XGBoost:\n",
      " Index(['Team_Ranking', 'Goals_per_Game', 'Pass_Accuracy', 'Shots_on_Target',\n",
      "       'Defensive_Errors', 'Recent_Performance'],\n",
      "      dtype='object')\n",
      "\n",
      "🔹 Selected Features using Recursive Feature Elimination (RFE):\n",
      " Index(['Goals_per_Game', 'Defensive_Errors', 'Recent_Performance'], dtype='object')\n",
      "\n",
      "✅ Final Selected Features for Model Training:\n",
      " {'Pass_Accuracy', 'Goals_per_Game', 'Recent_Performance', 'Shots_on_Target', 'Defensive_Errors', 'Team_Ranking'}\n"
     ]
    }
   ],
   "source": [
    "import pandas as pd\n",
    "import numpy as np\n",
    "import matplotlib.pyplot as plt\n",
    "import seaborn as sns\n",
    "\n",
    "from sklearn.model_selection import train_test_split\n",
    "from sklearn.preprocessing import StandardScaler, LabelEncoder\n",
    "from sklearn.linear_model import LogisticRegression\n",
    "from sklearn.ensemble import RandomForestClassifier\n",
    "from xgboost import XGBClassifier\n",
    "from sklearn.feature_selection import SelectFromModel, RFE\n",
    "\n",
    "# ==========================\n",
    "# 📌 Step 1: Generate a Dummy Soccer Dataset\n",
    "# ==========================\n",
    "\n",
    "np.random.seed(42)\n",
    "\n",
    "# Number of samples\n",
    "num_samples = 1000\n",
    "\n",
    "# Generate realistic soccer match features\n",
    "data = {\n",
    "    \"Team_Ranking\": np.random.randint(1, 21, num_samples),  # Team ranks between 1-20\n",
    "    \"Goals_per_Game\": np.random.uniform(0, 3, num_samples),  # Avg. goals per game\n",
    "    \"Pass_Accuracy\": np.random.uniform(70, 95, num_samples),  # Pass accuracy percentage\n",
    "    \"Shots_on_Target\": np.random.uniform(2, 10, num_samples),  # Shots on target per game\n",
    "    \"Defensive_Errors\": np.random.randint(0, 5, num_samples),  # Defensive errors per game\n",
    "    \"Recent_Performance\": np.random.uniform(0, 10, num_samples),  # Performance index (last 5 matches)\n",
    "}\n",
    "\n",
    "# Create match outcomes (Win = 2, Draw = 1, Loss = 0) based on team ranking & performance\n",
    "prob_win = data[\"Team_Ranking\"] / 20 + data[\"Recent_Performance\"] / 10  # Higher rank & performance → higher win probability\n",
    "match_result = np.random.choice([0, 1, 2], size=num_samples, p=[0.3, 0.3, 0.4])  # Win (40%), Draw (30%), Loss (30%)\n",
    "\n",
    "# Add target variable\n",
    "data[\"Match_Result\"] = match_result\n",
    "\n",
    "# Convert dictionary to pandas DataFrame\n",
    "df = pd.DataFrame(data)\n",
    "\n",
    "# Display first few rows\n",
    "print(df.head())\n",
    "\n",
    "# ==========================\n",
    "# 📌 Step 2: Data Preprocessing\n",
    "# ==========================\n",
    "\n",
    "# Encode categorical target variable\n",
    "label_encoder = LabelEncoder()\n",
    "df[\"Match_Result\"] = label_encoder.fit_transform(df[\"Match_Result\"])  # 0: Loss, 1: Draw, 2: Win\n",
    "\n",
    "# Separate features (X) and target variable (y)\n",
    "X = df.drop(columns=[\"Match_Result\"])  # Drop target column\n",
    "y = df[\"Match_Result\"]  # Target variable\n",
    "\n",
    "# Split dataset into training and test sets (80-20 split)\n",
    "X_train, X_test, y_train, y_test = train_test_split(X, y, test_size=0.2, random_state=42)\n",
    "\n",
    "# Standardize numerical features\n",
    "scaler = StandardScaler()\n",
    "X_train = scaler.fit_transform(X_train)\n",
    "X_test = scaler.transform(X_test)\n",
    "\n",
    "print(\"\\n✅ Data preprocessing completed!\\n\")\n",
    "\n",
    "# ==========================\n",
    "# 📌 Step 3: Feature Selection Using Lasso Regression (L1 Regularization)\n",
    "# ==========================\n",
    "\n",
    "# Apply Lasso regression for feature selection\n",
    "lasso = LogisticRegression(penalty=\"l1\", solver=\"liblinear\", C=0.1)\n",
    "lasso.fit(X_train, y_train)\n",
    "\n",
    "# Select important features\n",
    "selector = SelectFromModel(lasso, prefit=True)\n",
    "X_train_lasso = selector.transform(X_train)\n",
    "X_test_lasso = selector.transform(X_test)\n",
    "\n",
    "# Get selected feature names\n",
    "selected_features_lasso = X.columns[selector.get_support()]\n",
    "print(\"\\n🔹 Selected Features using Lasso Regression:\\n\", selected_features_lasso)\n",
    "\n",
    "# ==========================\n",
    "# 📌 Step 4: Feature Selection Using Random Forest Feature Importance\n",
    "# ==========================\n",
    "\n",
    "# Train a Random Forest model\n",
    "rf = RandomForestClassifier(n_estimators=100, random_state=42)\n",
    "rf.fit(X_train, y_train)\n",
    "\n",
    "# Get feature importance\n",
    "feature_importance_rf = rf.feature_importances_\n",
    "\n",
    "# Plot feature importance\n",
    "plt.figure(figsize=(10, 5))\n",
    "sns.barplot(x=X.columns, y=feature_importance_rf)\n",
    "plt.xticks(rotation=90)\n",
    "plt.title(\"Feature Importance (Random Forest)\")\n",
    "plt.show()\n",
    "\n",
    "# Select top features based on threshold\n",
    "selected_features_rf = X.columns[feature_importance_rf > 0.01]\n",
    "print(\"\\n🔹 Selected Features using Random Forest:\\n\", selected_features_rf)\n",
    "\n",
    "# ==========================\n",
    "# 📌 Step 5: Feature Selection Using XGBoost Feature Importance\n",
    "# ==========================\n",
    "\n",
    "# Train an XGBoost model\n",
    "xgb = XGBClassifier(use_label_encoder=False, eval_metric=\"mlogloss\")\n",
    "xgb.fit(X_train, y_train)\n",
    "\n",
    "# Get feature importance\n",
    "feature_importance_xgb = xgb.feature_importances_\n",
    "\n",
    "# Plot feature importance\n",
    "plt.figure(figsize=(10, 5))\n",
    "sns.barplot(x=X.columns, y=feature_importance_xgb)\n",
    "plt.xticks(rotation=90)\n",
    "plt.title(\"Feature Importance (XGBoost)\")\n",
    "plt.show()\n",
    "\n",
    "# Select top features based on threshold\n",
    "selected_features_xgb = X.columns[feature_importance_xgb > 0.01]\n",
    "print(\"\\n🔹 Selected Features using XGBoost:\\n\", selected_features_xgb)\n",
    "\n",
    "# ==========================\n",
    "# 📌 Step 6: Feature Selection Using Recursive Feature Elimination (RFE)\n",
    "# ==========================\n",
    "\n",
    "# Use Logistic Regression for RFE\n",
    "model = LogisticRegression()\n",
    "rfe = RFE(model, n_features_to_select=3)  # Select top 3 features\n",
    "X_train_rfe = rfe.fit_transform(X_train, y_train)\n",
    "X_test_rfe = rfe.transform(X_test)\n",
    "\n",
    "# Get selected feature names\n",
    "selected_features_rfe = X.columns[rfe.support_]\n",
    "print(\"\\n🔹 Selected Features using Recursive Feature Elimination (RFE):\\n\", selected_features_rfe)\n",
    "\n",
    "# ==========================\n",
    "# 📌 Step 7: Final Feature Selection Summary\n",
    "# ==========================\n",
    "\n",
    "# Combine selected features from different methods\n",
    "final_selected_features = set(selected_features_lasso) | set(selected_features_rf) | set(selected_features_xgb) | set(selected_features_rfe)\n",
    "print(\"\\n✅ Final Selected Features for Model Training:\\n\", final_selected_features)\n"
   ]
  },
  {
   "cell_type": "markdown",
   "metadata": {},
   "source": [
    "---"
   ]
  },
  {
   "cell_type": "markdown",
   "metadata": {},
   "source": [
    "#### Q8. You are working on a project to predict the price of a house based on its features, such as size, location, and age. You have a limited number of features, and you want to ensure that you select the most important ones for the model. Explain how you would use the Wrapper method to select the best set of features for the predictor."
   ]
  },
  {
   "cell_type": "markdown",
   "metadata": {},
   "source": [
    "Ans."
   ]
  },
  {
   "cell_type": "code",
   "execution_count": 2,
   "metadata": {},
   "outputs": [],
   "source": [
    "import pandas as pd\n",
    "import numpy as np\n",
    "import matplotlib.pyplot as plt\n",
    "import seaborn as sns\n",
    "\n",
    "from sklearn.model_selection import train_test_split\n",
    "from sklearn.preprocessing import StandardScaler\n",
    "from sklearn.linear_model import LinearRegression\n",
    "from sklearn.ensemble import RandomForestRegressor\n",
    "from sklearn.feature_selection import RFE"
   ]
  },
  {
   "cell_type": "code",
   "execution_count": 3,
   "metadata": {},
   "outputs": [
    {
     "name": "stdout",
     "output_type": "stream",
     "text": [
      "   Size_in_sqft  Location_Rating  Age_of_House  Bedrooms  Bathrooms  \\\n",
      "0          1360         3.596841            35         4          3   \n",
      "1          4272         3.984180            25         1          2   \n",
      "2          3592         3.333475            28         3          1   \n",
      "3           966         4.848690            20         3          2   \n",
      "4          4926         2.499482            10         1          3   \n",
      "\n",
      "   Nearby_Schools  Crime_Rate          Price  \n",
      "0               9    0.339769   70431.476661  \n",
      "1               8    0.517239  180513.137142  \n",
      "2               5    0.378910  468954.486898  \n",
      "3               8    0.006710  226320.783478  \n",
      "4               3    0.385875  296015.234251  \n"
     ]
    }
   ],
   "source": [
    "import pandas as pd\n",
    "import numpy as np\n",
    "import matplotlib.pyplot as plt\n",
    "import seaborn as sns\n",
    "\n",
    "from sklearn.model_selection import train_test_split\n",
    "from sklearn.preprocessing import StandardScaler\n",
    "from sklearn.linear_model import LinearRegression\n",
    "from sklearn.ensemble import RandomForestRegressor\n",
    "from sklearn.feature_selection import RFE\n",
    "\n",
    "# ==========================\n",
    "# 📌 Step 1: Generate a Dummy Housing Dataset\n",
    "# ==========================\n",
    "\n",
    "np.random.seed(42)\n",
    "\n",
    "# Number of samples\n",
    "num_samples = 500\n",
    "\n",
    "# Generate realistic house features\n",
    "data = {\n",
    "    \"Size_in_sqft\": np.random.randint(500, 5000, num_samples),  # House size in sqft\n",
    "    \"Location_Rating\": np.random.uniform(1, 5, num_samples),  # Location rating (1 to 5)\n",
    "    \"Age_of_House\": np.random.randint(0, 100, num_samples),  # Age of the house\n",
    "    \"Bedrooms\": np.random.randint(1, 6, num_samples),  # Number of bedrooms\n",
    "    \"Bathrooms\": np.random.randint(1, 4, num_samples),  # Number of bathrooms\n",
    "    \"Nearby_Schools\": np.random.randint(0, 10, num_samples),  # Count of nearby schools\n",
    "    \"Crime_Rate\": np.random.uniform(0, 1, num_samples),  # Crime rate in area\n",
    "    \"Price\": np.random.uniform(50000, 500000, num_samples)  # House price\n",
    "}\n",
    "\n",
    "# Convert dictionary to pandas DataFrame\n",
    "df = pd.DataFrame(data)\n",
    "\n",
    "# Display first few rows\n",
    "print(df.head())"
   ]
  },
  {
   "cell_type": "code",
   "execution_count": 4,
   "metadata": {},
   "outputs": [
    {
     "name": "stdout",
     "output_type": "stream",
     "text": [
      "\n",
      "✅ Data preprocessing completed!\n",
      "\n"
     ]
    }
   ],
   "source": [
    "\n",
    "# ==========================\n",
    "# 📌 Step 2: Data Preprocessing\n",
    "# ==========================\n",
    "\n",
    "# Separate features (X) and target variable (y)\n",
    "X = df.drop(columns=[\"Price\"])  # Drop target column\n",
    "y = df[\"Price\"]  # Target variable\n",
    "\n",
    "# Split dataset into training and test sets (80-20 split)\n",
    "X_train, X_test, y_train, y_test = train_test_split(X, y, test_size=0.2, random_state=42)\n",
    "\n",
    "# Standardize numerical features\n",
    "scaler = StandardScaler()\n",
    "X_train = scaler.fit_transform(X_train)\n",
    "X_test = scaler.transform(X_test)\n",
    "\n",
    "print(\"\\n✅ Data preprocessing completed!\\n\")"
   ]
  },
  {
   "cell_type": "code",
   "execution_count": 5,
   "metadata": {},
   "outputs": [
    {
     "name": "stdout",
     "output_type": "stream",
     "text": [
      "\n",
      "🔹 Selected Features using RFE (Wrapper Method):\n",
      " Index(['Size_in_sqft', 'Location_Rating', 'Age_of_House', 'Crime_Rate'], dtype='object')\n"
     ]
    }
   ],
   "source": [
    "# ==========================\n",
    "# 📌 Step 3: Apply Recursive Feature Elimination (RFE) - Wrapper Method\n",
    "# ==========================\n",
    "\n",
    "# Choose a base model (Random Forest Regressor for feature selection)\n",
    "model = RandomForestRegressor(n_estimators=100, random_state=42)\n",
    "\n",
    "# Use Recursive Feature Elimination (RFE) to select top features\n",
    "rfe = RFE(model, n_features_to_select=4)  # Select top 4 features\n",
    "X_train_rfe = rfe.fit_transform(X_train, y_train)\n",
    "X_test_rfe = rfe.transform(X_test)\n",
    "\n",
    "# Get selected feature names\n",
    "selected_features_rfe = X.columns[rfe.support_]\n",
    "print(\"\\n🔹 Selected Features using RFE (Wrapper Method):\\n\", selected_features_rfe)"
   ]
  },
  {
   "cell_type": "code",
   "execution_count": 6,
   "metadata": {},
   "outputs": [
    {
     "name": "stdout",
     "output_type": "stream",
     "text": [
      "\n",
      "✅ Model trained using selected features!\n",
      "🔹 Training R² Score: 0.8341\n",
      "🔹 Testing R² Score: -0.1091\n"
     ]
    }
   ],
   "source": [
    "# ==========================\n",
    "# 📌 Step 4: Train Final Model Using Selected Features\n",
    "# ==========================\n",
    "\n",
    "# Train model on selected features\n",
    "final_model = RandomForestRegressor(n_estimators=100, random_state=42)\n",
    "final_model.fit(X_train_rfe, y_train)\n",
    "\n",
    "# Model performance evaluation\n",
    "train_score = final_model.score(X_train_rfe, y_train)\n",
    "test_score = final_model.score(X_test_rfe, y_test)\n",
    "\n",
    "print(\"\\n✅ Model trained using selected features!\")\n",
    "print(f\"🔹 Training R² Score: {train_score:.4f}\")\n",
    "print(f\"🔹 Testing R² Score: {test_score:.4f}\")\n"
   ]
  },
  {
   "cell_type": "code",
   "execution_count": null,
   "metadata": {},
   "outputs": [],
   "source": []
  }
 ],
 "metadata": {
  "kernelspec": {
   "display_name": "Python 3",
   "language": "python",
   "name": "python3"
  },
  "language_info": {
   "codemirror_mode": {
    "name": "ipython",
    "version": 3
   },
   "file_extension": ".py",
   "mimetype": "text/x-python",
   "name": "python",
   "nbconvert_exporter": "python",
   "pygments_lexer": "ipython3",
   "version": "3.11.5"
  }
 },
 "nbformat": 4,
 "nbformat_minor": 2
}
