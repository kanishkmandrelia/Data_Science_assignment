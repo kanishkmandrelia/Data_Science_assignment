{
 "cells": [
  {
   "cell_type": "markdown",
   "metadata": {},
   "source": [
    "#### Q1. Explain the assumptions required to use ANOVA and provide examples of violations that could impact the validity of the results."
   ]
  },
  {
   "cell_type": "markdown",
   "metadata": {},
   "source": [
    "Ans."
   ]
  },
  {
   "cell_type": "markdown",
   "metadata": {},
   "source": [
    "ANOVA (Analysis of Variance) is a statistical method used to compare means across multiple groups. It comes with a few assumptions to ensure valid results. Here are the key assumptions and examples of violations that can impact the validity of the results:  \n",
    "\n",
    "1. Independence of Observations\n",
    "- Assumption: The observations within each group must be independent of each other.\n",
    "- Violation Example: If the data are collected from a set of related samples, such as measurements from the same participants at different times, the independence assumption is violated, leading to incorrect conclusions.\n",
    "- Impact of Violation: If observations aren't independent, the test may produce inflated Type I or Type II error rates.\n",
    "2. Normality\n",
    "- Assumption: The residuals (or errors) within each group are approximately normally distributed.\n",
    "- Violation Example: If the data has a strong skew, heavy tails, or is bimodal, the normality assumption is violated.\n",
    "- Impact of Violation: Severe departures from normality can lead to inaccurate p-values and incorrect decisions about statistical significance. For small sample sizes, normality is crucial; however, for large sample sizes, the Central Limit Theorem may mitigate the effects.\n",
    "3. Homogeneity of Variances (Homoscedasticity)\n",
    "- Assumption: The variance within each group should be approximately equal.\n",
    "- Violation Example: If one group has much higher or lower variance than others, this assumption is violated (heteroscedasticity).\n",
    "- Impact of Violation: If the variances are unequal, the F-statistic may be distorted, leading to invalid results. This can increase the likelihood of Type I and Type II errors.\n",
    "4. Scale of Measurement\n",
    "- Assumption: The dependent variable should be measured on an interval or ratio scale (i.e., continuous).\n",
    "- Violation Example: If the dependent variable is ordinal (e.g., a Likert scale), ANOVA is not appropriate.\n",
    "- Impact of Violation: Using ANOVA with ordinal or categorical data violates this assumption and can lead to incorrect conclusions.\n",
    "5. Additivity and Linearity\n",
    "- Assumption: The relationship between the dependent variable and the independent variable is linear.\n",
    "- Violation Example: If the data show a non-linear relationship or interactions between variables that are not captured in the model.\n",
    "- Impact of Violation: If the relationship isn't linear or the model fails to account for interactions, ANOVA might not correctly capture the variance, leading to misleading results."
   ]
  },
  {
   "cell_type": "markdown",
   "metadata": {},
   "source": [
    "When These Assumptions Are Violated:\n",
    "- Type I Error: Incorrectly rejecting a true null hypothesis (false positive).\n",
    "- Type II Error: Failing to reject a false null hypothesis (false negative).\n",
    "- Reduced Power: The test may have a lower chance of detecting a real effect.\n",
    "- Misleading Conclusions: Violations can lead to incorrect interpretations, such as finding significant effects when there are none, or missing real effects."
   ]
  },
  {
   "cell_type": "markdown",
   "metadata": {},
   "source": [
    "---"
   ]
  },
  {
   "cell_type": "markdown",
   "metadata": {},
   "source": [
    "#### Q2. What are the three types of ANOVA, and in what situations would each be used?"
   ]
  },
  {
   "cell_type": "markdown",
   "metadata": {},
   "source": [
    "Ans."
   ]
  },
  {
   "cell_type": "markdown",
   "metadata": {},
   "source": [
    "1. One-Way ANOVA  \n",
    "- Purpose: Compares the means of three or more independent (unrelated) groups based on a single independent variable.\n",
    "- Use Case: When you want to determine if there is a significant difference in the average test scores of students across three different teaching methods.\n",
    "\n",
    "2. Two-Way ANOVA\n",
    "- Purpose: Examines the effect of two independent variables on a dependent variable, including their interaction effect.\n",
    "- Use Case: When analyzing how both \"teaching method\" and \"gender\" affect student test scores, and whether there is an interaction between them.\n",
    "\n",
    "3. Repeated Measures ANOVA\n",
    "- Purpose: Used when the same subjects are measured multiple times under different conditions or at different time points.\n",
    "- Use Case: When assessing the effectiveness of a drug by measuring blood pressure in the same group of patients before, during, and after treatment."
   ]
  },
  {
   "cell_type": "markdown",
   "metadata": {},
   "source": [
    "---"
   ]
  },
  {
   "cell_type": "markdown",
   "metadata": {},
   "source": [
    "#### Q3. What is the partitioning of variance in ANOVA, and why is it important to understand this concept?"
   ]
  },
  {
   "cell_type": "markdown",
   "metadata": {},
   "source": [
    "Ans."
   ]
  },
  {
   "cell_type": "markdown",
   "metadata": {},
   "source": [
    "Partitioning of Variance in ANOVA:  \n",
    "In ANOVA, the total variance in the data is divided (or partitioned) into different components to determine whether the group means differ significantly. The partitioning of variance helps in understanding the sources of variability in the data."
   ]
  },
  {
   "cell_type": "markdown",
   "metadata": {},
   "source": [
    "**Importance of Understanding Variance Partitioning**  \n",
    "1.Helps in Hypothesis Testing:  \n",
    "- The F-statistic in ANOVA is calculated as:\n",
    "𝐹 = (Variance Between Groups) / (Variance Within Groups)\n",
    "- A high F-value suggests a significant difference between groups.\n",
    "\n",
    "2.Distinguishes True Effects from Random Variability:  \n",
    "- If between-group variance is significantly larger than within-group variance, it suggests a real effect rather than random variation.\n",
    "\n",
    "3.Influences Statistical Power:  \n",
    "- If within-group variance is high, it can reduce the power of ANOVA to detect real differences."
   ]
  },
  {
   "cell_type": "markdown",
   "metadata": {},
   "source": [
    "---"
   ]
  },
  {
   "cell_type": "markdown",
   "metadata": {},
   "source": [
    "#### Q4. How would you calculate the total sum of squares (SST), explained sum of squares (SSE), and residual sum of squares (SSR) in a one-way ANOVA using Python?"
   ]
  },
  {
   "cell_type": "markdown",
   "metadata": {},
   "source": [
    "Ans."
   ]
  },
  {
   "cell_type": "code",
   "execution_count": 1,
   "metadata": {},
   "outputs": [
    {
     "name": "stdout",
     "output_type": "stream",
     "text": [
      "SST (Total Sum of Squares): 80.00\n",
      "SSE (Explained Sum of Squares): 74.00\n",
      "SSR (Residual Sum of Squares): 6.00\n",
      "Verification: SST = SSE + SSR → True\n",
      "ANOVA F-statistic: 37.0000, p-value: 0.0004\n"
     ]
    }
   ],
   "source": [
    "import numpy as np\n",
    "import pandas as pd\n",
    "from scipy.stats import f_oneway\n",
    "\n",
    "data = {\n",
    "    'Group': ['A', 'A', 'A', 'B', 'B', 'B', 'C', 'C', 'C'],\n",
    "    'Values': [5, 6, 7, 8, 9, 10, 12, 13, 14]\n",
    "}\n",
    "\n",
    "df = pd.DataFrame(data)\n",
    "\n",
    "y_bar = df['Values'].mean()\n",
    "\n",
    "sst = np.sum((df['Values'] - y_bar) ** 2)\n",
    "\n",
    "group_means = df.groupby('Group')['Values'].mean()\n",
    "group_counts = df.groupby('Group')['Values'].count()\n",
    "sse = np.sum(group_counts * (group_means - y_bar) ** 2)\n",
    "\n",
    "df = df.merge(group_means.rename('Group_Mean'), on='Group')\n",
    "ssr = np.sum((df['Values'] - df['Group_Mean']) ** 2)\n",
    "\n",
    "print(f\"SST (Total Sum of Squares): {sst:.2f}\")\n",
    "print(f\"SSE (Explained Sum of Squares): {sse:.2f}\")\n",
    "print(f\"SSR (Residual Sum of Squares): {ssr:.2f}\")\n",
    "\n",
    "print(f\"Verification: SST = SSE + SSR → {np.isclose(sst, sse + ssr)}\")\n",
    "\n",
    "anova_result = f_oneway(df[df['Group'] == 'A']['Values'], df[df['Group'] == 'B']['Values'], df[df['Group'] == 'C']['Values'])\n",
    "\n",
    "print(f\"ANOVA F-statistic: {anova_result.statistic:.4f}, p-value: {anova_result.pvalue:.4f}\")"
   ]
  },
  {
   "cell_type": "markdown",
   "metadata": {},
   "source": [
    "---"
   ]
  },
  {
   "cell_type": "markdown",
   "metadata": {},
   "source": [
    "#### Q5. In a two-way ANOVA, how would you calculate the main effects and interaction effects using Python?"
   ]
  },
  {
   "cell_type": "markdown",
   "metadata": {},
   "source": [
    "Ans."
   ]
  },
  {
   "cell_type": "markdown",
   "metadata": {},
   "source": [
    "In a two-way ANOVA, we analyze the effects of two independent variables (factors) on a dependent variable. We calculate:\n",
    "- Main Effects: The impact of each independent variable separately.\n",
    "- Interaction Effect: The combined effect of both independent variables (i.e., whether the effect of one factor depends on the level of the other)."
   ]
  },
  {
   "cell_type": "code",
   "execution_count": 2,
   "metadata": {},
   "outputs": [
    {
     "name": "stdout",
     "output_type": "stream",
     "text": [
      "                         sum_sq   df           F        PR(>F)\n",
      "C(Factor_A)              330.75  1.0  189.000000  7.560184e-07\n",
      "C(Factor_B)               36.75  1.0   21.000000  1.795939e-03\n",
      "C(Factor_A):C(Factor_B)    6.75  1.0    3.857143  8.513507e-02\n",
      "Residual                  14.00  8.0         NaN           NaN\n"
     ]
    }
   ],
   "source": [
    "import numpy as np\n",
    "import pandas as pd\n",
    "import statsmodels.api as sm\n",
    "import statsmodels.formula.api as smf\n",
    "\n",
    "# Sample dataset: Two independent variables (Factor A & Factor B)\n",
    "data = {\n",
    "    'Factor_A': ['Low', 'Low', 'Low', 'High', 'High', 'High', 'Low', 'Low', 'Low', 'High', 'High', 'High'],\n",
    "    'Factor_B': ['A', 'A', 'A', 'A', 'A', 'A', 'B', 'B', 'B', 'B', 'B', 'B'],\n",
    "    'Response': [10, 12, 14, 20, 22, 21, 13, 15, 14, 25, 27, 26]\n",
    "}\n",
    "\n",
    "# Convert to DataFrame\n",
    "df = pd.DataFrame(data)\n",
    "\n",
    "# Define the two-way ANOVA model with interaction term\n",
    "model = smf.ols('Response ~ C(Factor_A) + C(Factor_B) + C(Factor_A):C(Factor_B)', data=df).fit()\n",
    "\n",
    "# Perform ANOVA table\n",
    "anova_table = sm.stats.anova_lm(model, typ=2)\n",
    "\n",
    "# Print ANOVA table\n",
    "print(anova_table)\n"
   ]
  },
  {
   "cell_type": "markdown",
   "metadata": {},
   "source": [
    "---"
   ]
  },
  {
   "cell_type": "markdown",
   "metadata": {},
   "source": [
    "#### Q6. Suppose you conducted a one-way ANOVA and obtained an F-statistic of 5.23 and a p-value of 0.02. What can you conclude about the differences between the groups, and how would you interpret these results?"
   ]
  },
  {
   "cell_type": "markdown",
   "metadata": {},
   "source": [
    "Ans."
   ]
  },
  {
   "cell_type": "markdown",
   "metadata": {},
   "source": [
    "- The F-statistic quantifies the ratio of between-group variance to within-group variance.\n",
    "- A p-value of 0.02 (which is less than the common threshold of 0.05) suggests that at least one group mean significantly differs from the others.\n",
    "- Therefore, we reject the null hypothesis (H0), which states that all group means are equal.\n",
    "- However, ANOVA does not tell us which specific groups are different—for that, we need a post-hoc test (e.g., Tukey's HSD)."
   ]
  },
  {
   "cell_type": "markdown",
   "metadata": {},
   "source": [
    "---"
   ]
  },
  {
   "cell_type": "markdown",
   "metadata": {},
   "source": [
    "#### Q7. In a repeated measures ANOVA, how would you handle missing data, and what are the potential consequences of using different methods to handle missing data?"
   ]
  },
  {
   "cell_type": "markdown",
   "metadata": {},
   "source": [
    "Ans."
   ]
  },
  {
   "cell_type": "markdown",
   "metadata": {},
   "source": [
    "1.Listwise Deletion (Complete Case Analysis) => dataframe.dropna(inplace=True)  \n",
    "- Method: Exclude subjects with any missing data across time points.\n",
    "- Pros: Simple and easy to implement.\n",
    "- Cons: Reduces sample size, which lowers statistical power and can introduce bias if data is not missing completely at random (MCAR)."
   ]
  },
  {
   "cell_type": "markdown",
   "metadata": {},
   "source": [
    "2.Mean/Group Mean Imputation => dataframe.fillna(dataframe.mean(), inplace=True)\n",
    "- Method: Replace missing values with the mean of that variable (overall mean) or the mean of the respective group.\n",
    "- Pros: Maintains sample size.\n",
    "- Cons: Underestimates variability, potentially leading to inflated false positive rates."
   ]
  },
  {
   "cell_type": "markdown",
   "metadata": {},
   "source": [
    "3.Last Observation Carried Forward (LOCF) => dataframe.fillna(method='ffill', inplace=True)\n",
    "- Method: Use the last recorded value of a subject to fill in missing data.\n",
    "- Pros: Preserves within-subject correlation in repeated measures.\n",
    "- Cons: Assumes data remains stable over time, which may not be valid."
   ]
  },
  {
   "cell_type": "markdown",
   "metadata": {},
   "source": [
    "---"
   ]
  },
  {
   "cell_type": "markdown",
   "metadata": {},
   "source": [
    "#### Q8. What are some common post-hoc tests used after ANOVA, and when would you use each one? Provide an example of a situation where a post-hoc test might be necessary."
   ]
  },
  {
   "cell_type": "markdown",
   "metadata": {},
   "source": [
    "Ans."
   ]
  },
  {
   "cell_type": "markdown",
   "metadata": {},
   "source": [
    "**Common Post-Hoc Tests After ANOVA:**\n",
    "- When a one-way or two-way ANOVA detects a significant difference (p < 0.05), it only tells us that at least one group differs from the others—but it does not specify which groups are different. Post-hoc tests are used to determine which specific group differences are significant while controlling for multiple comparisons."
   ]
  },
  {
   "cell_type": "markdown",
   "metadata": {},
   "source": [
    "1.Tukey’s Honestly Significant Difference (Tukey HSD):  \n",
    "- Use:\n",
    "  - Comparing all pairwise group means.\n",
    "  - Equal sample sizes (balanced design) preferred but works with slightly unequal sizes.\n",
    "- Controls for: Familywise error rate (FWER) using the studentized range distribution.\n",
    "- Example: If an ANOVA comparing three plant fertilizers shows a significant effect on plant growth, Tukey HSD can determine which fertilizers differ."
   ]
  },
  {
   "cell_type": "markdown",
   "metadata": {},
   "source": [
    "2.Bonferroni Correction:\n",
    "- Use:\n",
    "  - Comparing a few specific groups rather than all pairwise comparisons.\n",
    "  - Very conservative (controls Type I error well but reduces power).\n",
    "- Controls for: FWER by adjusting the significance threshold (α′ = α/number of tests).\n",
    "- Example: If comparing only two of the three fertilizers (e.g., A vs. B), Bonferroni is better than Tukey."
   ]
  },
  {
   "cell_type": "markdown",
   "metadata": {},
   "source": [
    "3.Holm’s Method:\n",
    "- Use:\n",
    "  - Similar to Bonferroni but more powerful (less conservative).\n",
    "  - Used for sequential rejection testing (ranks p-values and adjusts dynamically).\n",
    "- Controls for: FWER with more statistical power than Bonferroni.\n",
    "- Example: When comparing multiple drugs' effects on cholesterol levels."
   ]
  },
  {
   "cell_type": "markdown",
   "metadata": {},
   "source": [
    "Necessary of Post-Hoc Test:\n",
    "- Suppose you conduct an ANOVA on three teaching methods (A, B, C) and find a significant effect on student performance (p = 0.01, F = 4.5).\n",
    "- This means at least one method is different, but which one?\n",
    "- A Tukey HSD test can tell you whether A differs from B, B differs from C, etc."
   ]
  },
  {
   "cell_type": "markdown",
   "metadata": {},
   "source": [
    "---"
   ]
  },
  {
   "cell_type": "markdown",
   "metadata": {},
   "source": [
    "#### Q9. A researcher wants to compare the mean weight loss of three diets: A, B, and C. They collect data from 50 participants who were randomly assigned to one of the diets. Conduct a one-way ANOVA using Python to determine if there are any significant differences between the mean weight loss of the three diets. Report the F-statistic and p-value, and interpret the results."
   ]
  },
  {
   "cell_type": "markdown",
   "metadata": {},
   "source": [
    "Ans."
   ]
  },
  {
   "cell_type": "code",
   "execution_count": 3,
   "metadata": {},
   "outputs": [
    {
     "name": "stdout",
     "output_type": "stream",
     "text": [
      "F-statistic: 18.44\n",
      "P-value: 0.0000\n",
      "Result: Reject the null hypothesis (At least one diet is significantly different).\n"
     ]
    }
   ],
   "source": [
    "import numpy as np\n",
    "import pandas as pd\n",
    "import scipy.stats as stats\n",
    "\n",
    "np.random.seed(42)  # For reproducibility\n",
    "diet_A = np.random.normal(loc=5.0, scale=1.5, size=50)  # Mean = 5 kg loss\n",
    "diet_B = np.random.normal(loc=6.0, scale=1.5, size=50)  # Mean = 6 kg loss\n",
    "diet_C = np.random.normal(loc=4.5, scale=1.5, size=50)  # Mean = 4.5 kg loss\n",
    "\n",
    "f_stat, p_value = stats.f_oneway(diet_A, diet_B, diet_C)\n",
    "\n",
    "print(f\"F-statistic: {f_stat:.2f}\")\n",
    "print(f\"P-value: {p_value:.4f}\")\n",
    "\n",
    "alpha = 0.05  # Significance level\n",
    "if p_value < alpha:\n",
    "    print(\"Result: Reject the null hypothesis (At least one diet is significantly different).\")\n",
    "else:\n",
    "    print(\"Result: Fail to reject the null hypothesis (No significant difference between diets).\")"
   ]
  },
  {
   "cell_type": "code",
   "execution_count": 4,
   "metadata": {},
   "outputs": [
    {
     "name": "stdout",
     "output_type": "stream",
     "text": [
      "Multiple Comparison of Means - Tukey HSD, FWER=0.05 \n",
      "====================================================\n",
      "group1 group2 meandiff p-adj   lower   upper  reject\n",
      "----------------------------------------------------\n",
      "     A      B   1.3649    0.0  0.6951  2.0346   True\n",
      "     A      C  -0.2207 0.7157 -0.8905   0.449  False\n",
      "     B      C  -1.5856    0.0 -2.2554 -0.9158   True\n",
      "----------------------------------------------------\n"
     ]
    }
   ],
   "source": [
    "from statsmodels.stats.multicomp import pairwise_tukeyhsd\n",
    "\n",
    "df = pd.DataFrame({\n",
    "    'WeightLoss': np.concatenate([diet_A, diet_B, diet_C]),\n",
    "    'Diet': ['A'] * 50 + ['B'] * 50 + ['C'] * 50\n",
    "})\n",
    "\n",
    "tukey = pairwise_tukeyhsd(df['WeightLoss'], df['Diet'], alpha=0.05)\n",
    "print(tukey)"
   ]
  },
  {
   "cell_type": "markdown",
   "metadata": {},
   "source": [
    "---"
   ]
  },
  {
   "cell_type": "markdown",
   "metadata": {},
   "source": [
    "#### Q10. A company wants to know if there are any significant differences in the average time it takes to complete a task using three different software programs: Program A, Program B, and Program C. They randomly assign 30 employees to one of the programs and record the time it takes each employee to complete the task. Conduct a two-way ANOVA using Python to determine if there are any main effects or interaction effects between the software programs and employee experience level (novice vs. experienced). Report the F-statistics and p-values, and interpret the results."
   ]
  },
  {
   "cell_type": "markdown",
   "metadata": {},
   "source": [
    "Ans."
   ]
  },
  {
   "cell_type": "code",
   "execution_count": 5,
   "metadata": {},
   "outputs": [
    {
     "name": "stdout",
     "output_type": "stream",
     "text": [
      "                       df       sum_sq      mean_sq           F        PR(>F)\n",
      "Software              2.0  1082.648271   541.324136   17.391425  1.478244e-06\n",
      "Experience            1.0  4236.940052  4236.940052  136.122558  2.207911e-16\n",
      "Software:Experience   2.0   638.840997   319.420498   10.262202  1.669443e-04\n",
      "Residual             54.0  1680.799761    31.125921         NaN           NaN\n"
     ]
    }
   ],
   "source": [
    "import numpy as np\n",
    "import pandas as pd\n",
    "import scipy.stats as stats\n",
    "import statsmodels.api as sm\n",
    "from statsmodels.formula.api import ols\n",
    "from statsmodels.stats.anova import anova_lm\n",
    "\n",
    "np.random.seed(42)\n",
    "\n",
    "novice_A = np.random.normal(loc=60, scale=10, size=10)  # 10 novice users, mean time 60 minutes\n",
    "novice_B = np.random.normal(loc=55, scale=8, size=10)   # 10 novice users, mean time 55 minutes\n",
    "novice_C = np.random.normal(loc=50, scale=7, size=10)   # 10 novice users, mean time 50 minutes\n",
    "\n",
    "experienced_A = np.random.normal(loc=40, scale=5, size=10)  # 10 experienced users, mean time 40 minutes\n",
    "experienced_B = np.random.normal(loc=38, scale=5, size=10)  # 10 experienced users, mean time 38 minutes\n",
    "experienced_C = np.random.normal(loc=35, scale=5, size=10)  # 10 experienced users, mean time 35 minutes\n",
    "\n",
    "data = pd.DataFrame({\n",
    "    'Time': np.concatenate([novice_A, novice_B, novice_C, experienced_A, experienced_B, experienced_C]),\n",
    "    'Software': ['A']*10 + ['B']*10 + ['C']*10 + ['A']*10 + ['B']*10 + ['C']*10,\n",
    "    'Experience': ['Novice']*30 + ['Experienced']*30\n",
    "})\n",
    "\n",
    "model = ols('Time ~ Software * Experience', data=data).fit()\n",
    "\n",
    "anova_result = anova_lm(model)\n",
    "\n",
    "print(anova_result)"
   ]
  },
  {
   "cell_type": "markdown",
   "metadata": {},
   "source": [
    "---"
   ]
  },
  {
   "cell_type": "markdown",
   "metadata": {},
   "source": [
    "#### Q11. An educational researcher is interested in whether a new teaching method improves student test scores. They randomly assign 100 students to either the control group (traditional teaching method) or the experimental group (new teaching method) and administer a test at the end of the semester. Conduct a two-sample t-test using Python to determine if there are any significant differences in test scores between the two groups. If the results are significant, follow up with a post-hoc test to determine which group(s) differ significantly from each other."
   ]
  },
  {
   "cell_type": "markdown",
   "metadata": {},
   "source": [
    "Ans."
   ]
  },
  {
   "cell_type": "code",
   "execution_count": 6,
   "metadata": {},
   "outputs": [
    {
     "name": "stdout",
     "output_type": "stream",
     "text": [
      "Two-Sample t-test Results:\n",
      "t-statistic: -4.11\n",
      "p-value: 0.0001\n",
      "Result: Reject the null hypothesis (The groups differ significantly).\n",
      "\n",
      "Post-hoc Test (Tukey HSD) Results:\n",
      "   Multiple Comparison of Means - Tukey HSD, FWER=0.05    \n",
      "==========================================================\n",
      " group1    group2    meandiff p-adj  lower   upper  reject\n",
      "----------------------------------------------------------\n",
      "Control Experimental   7.4325 0.0001 3.8427 11.0224   True\n",
      "----------------------------------------------------------\n"
     ]
    }
   ],
   "source": [
    "import numpy as np\n",
    "import pandas as pd\n",
    "import scipy.stats as stats\n",
    "from statsmodels.stats.multicomp import pairwise_tukeyhsd\n",
    "\n",
    "np.random.seed(42)\n",
    "\n",
    "control_scores = np.random.normal(loc=75, scale=10, size=50)  # Mean = 75, SD = 10\n",
    "experimental_scores = np.random.normal(loc=80, scale=10, size=50)  # Mean = 80, SD = 10\n",
    "\n",
    "t_stat, p_value = stats.ttest_ind(control_scores, experimental_scores)\n",
    "\n",
    "print(f\"Two-Sample t-test Results:\")\n",
    "print(f\"t-statistic: {t_stat:.2f}\")\n",
    "print(f\"p-value: {p_value:.4f}\")\n",
    "\n",
    "alpha = 0.05  # Significance level\n",
    "if p_value < alpha:\n",
    "    print(\"Result: Reject the null hypothesis (The groups differ significantly).\")\n",
    "else:\n",
    "    print(\"Result: Fail to reject the null hypothesis (No significant difference between groups).\")\n",
    "\n",
    "df = pd.DataFrame({\n",
    "    'Score': np.concatenate([control_scores, experimental_scores]),\n",
    "    'Group': ['Control'] * 50 + ['Experimental'] * 50\n",
    "})\n",
    "\n",
    "tukey = pairwise_tukeyhsd(df['Score'], df['Group'], alpha=0.05)\n",
    "print(\"\\nPost-hoc Test (Tukey HSD) Results:\")\n",
    "print(tukey)\n"
   ]
  },
  {
   "cell_type": "markdown",
   "metadata": {},
   "source": [
    "---"
   ]
  },
  {
   "cell_type": "markdown",
   "metadata": {},
   "source": [
    "#### Q12. A researcher wants to know if there are any significant differences in the average daily sales of three retail stores: Store A, Store B, and Store C. They randomly select 30 days and record the sales for each store on those days. Conduct a repeated measures ANOVA using Python to determine if there are any significant differences in sales between the three stores. If the results are significant, follow up with a post - hoc test to determine which store(s) differ significantly from each other."
   ]
  },
  {
   "cell_type": "markdown",
   "metadata": {},
   "source": [
    "Ans."
   ]
  },
  {
   "cell_type": "code",
   "execution_count": 7,
   "metadata": {},
   "outputs": [
    {
     "name": "stdout",
     "output_type": "stream",
     "text": [
      "Repeated Measures ANOVA Results:\n",
      "               Anova\n",
      "===================================\n",
      "      F Value Num DF  Den DF Pr > F\n",
      "-----------------------------------\n",
      "Store  1.7276 2.0000 58.0000 0.1867\n",
      "===================================\n",
      "\n",
      "\n",
      "Post-hoc Test (Tukey HSD) Results:\n",
      " Multiple Comparison of Means - Tukey HSD, FWER=0.05 \n",
      "=====================================================\n",
      "group1 group2 meandiff p-adj   lower    upper  reject\n",
      "-----------------------------------------------------\n",
      "     A      B  22.1376 0.2314  -9.8984 54.1736  False\n",
      "     A      C   20.116 0.2972   -11.92  52.152  False\n",
      "     B      C  -2.0216 0.9876 -34.0576 30.0144  False\n",
      "-----------------------------------------------------\n"
     ]
    }
   ],
   "source": [
    "import numpy as np\n",
    "import pandas as pd\n",
    "import scipy.stats as stats\n",
    "from statsmodels.stats.anova import AnovaRM\n",
    "from statsmodels.stats.multicomp import pairwise_tukeyhsd\n",
    "\n",
    "np.random.seed(42)\n",
    "\n",
    "store_A_sales = np.random.normal(loc=500, scale=50, size=30)  # Store A\n",
    "store_B_sales = np.random.normal(loc=520, scale=60, size=30)  # Store B\n",
    "store_C_sales = np.random.normal(loc=510, scale=55, size=30)  # Store C\n",
    "\n",
    "df = pd.DataFrame({\n",
    "    'Sales': np.concatenate([store_A_sales, store_B_sales, store_C_sales]),\n",
    "    'Store': ['A']*30 + ['B']*30 + ['C']*30,\n",
    "    'Day': np.tile(np.arange(1, 31), 3)  # Day 1 to Day 30 for each store\n",
    "})\n",
    "\n",
    "anova = AnovaRM(df, 'Sales', 'Day', within=['Store'])\n",
    "anova_result = anova.fit()\n",
    "\n",
    "print(\"Repeated Measures ANOVA Results:\")\n",
    "print(anova_result)\n",
    "\n",
    "tukey = pairwise_tukeyhsd(df['Sales'], df['Store'], alpha=0.05)\n",
    "print(\"\\nPost-hoc Test (Tukey HSD) Results:\")\n",
    "print(tukey)"
   ]
  },
  {
   "cell_type": "code",
   "execution_count": null,
   "metadata": {},
   "outputs": [],
   "source": []
  }
 ],
 "metadata": {
  "kernelspec": {
   "display_name": "Python 3",
   "language": "python",
   "name": "python3"
  },
  "language_info": {
   "codemirror_mode": {
    "name": "ipython",
    "version": 3
   },
   "file_extension": ".py",
   "mimetype": "text/x-python",
   "name": "python",
   "nbconvert_exporter": "python",
   "pygments_lexer": "ipython3",
   "version": "3.11.5"
  }
 },
 "nbformat": 4,
 "nbformat_minor": 2
}
