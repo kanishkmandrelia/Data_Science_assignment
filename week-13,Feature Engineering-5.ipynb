{
 "cells": [
  {
   "cell_type": "markdown",
   "metadata": {},
   "source": [
    "#### Q1. Pearson correlation coefficient is a measure of the linear relationship between two variables. Suppose you have collected data on the amount of time students spend studying for an exam and their final exam scores. Calculate the Pearson correlation coefficient between these two variables and interpret the result."
   ]
  },
  {
   "cell_type": "markdown",
   "metadata": {},
   "source": [
    "Ans."
   ]
  },
  {
   "cell_type": "code",
   "execution_count": 1,
   "metadata": {},
   "outputs": [
    {
     "data": {
      "text/plain": [
       "0.9692948572674897"
      ]
     },
     "execution_count": 1,
     "metadata": {},
     "output_type": "execute_result"
    }
   ],
   "source": [
    "import numpy as np\n",
    "\n",
    "# Given data: Study Time (X) and Exam Scores (Y)\n",
    "X = np.array([2, 3, 5, 7, 9])\n",
    "Y = np.array([50, 60, 80, 90, 95])\n",
    "\n",
    "# Compute Pearson correlation coefficient\n",
    "r = np.corrcoef(X, Y)[0, 1]\n",
    "r"
   ]
  },
  {
   "cell_type": "markdown",
   "metadata": {},
   "source": [
    "---"
   ]
  },
  {
   "cell_type": "markdown",
   "metadata": {},
   "source": [
    "#### Q2. Spearman's rank correlation is a measure of the monotonic relationship between two variables. Suppose you have collected data on the amount of sleep individuals get each night and their overall job satisfaction level on a scale of 1 to 10. Calculate the Spearman's rank correlation between these two variables and interpret the result."
   ]
  },
  {
   "cell_type": "markdown",
   "metadata": {},
   "source": [
    "Ans."
   ]
  },
  {
   "cell_type": "code",
   "execution_count": 2,
   "metadata": {},
   "outputs": [
    {
     "data": {
      "text/plain": [
       "1.0"
      ]
     },
     "execution_count": 2,
     "metadata": {},
     "output_type": "execute_result"
    }
   ],
   "source": [
    "from scipy.stats import spearmanr\n",
    "\n",
    "# Given data: Sleep Hours (X) and Job Satisfaction (Y)\n",
    "X = np.array([6, 5, 8, 4, 7, 3])\n",
    "Y = np.array([7, 6, 9, 3, 8, 2])\n",
    "\n",
    "# Compute Spearman's rank correlation coefficient\n",
    "rho, _ = spearmanr(X, Y)\n",
    "rho\n"
   ]
  },
  {
   "cell_type": "markdown",
   "metadata": {},
   "source": [
    "---"
   ]
  },
  {
   "cell_type": "markdown",
   "metadata": {},
   "source": [
    "#### Q3. Suppose you are conducting a study to examine the relationship between the number of hours of exercise per week and body mass index (BMI) in a sample of adults. You collected data on both variables for 50 participants. Calculate the Pearson correlation coefficient and the Spearman's rank correlation between these two variables and compare the results."
   ]
  },
  {
   "cell_type": "markdown",
   "metadata": {},
   "source": [
    "Ans."
   ]
  },
  {
   "cell_type": "code",
   "execution_count": 3,
   "metadata": {},
   "outputs": [
    {
     "data": {
      "text/plain": [
       "(-0.7462834887175546, -0.7503001200480192)"
      ]
     },
     "execution_count": 3,
     "metadata": {},
     "output_type": "execute_result"
    }
   ],
   "source": [
    "import numpy as np\n",
    "from scipy.stats import spearmanr\n",
    "\n",
    "# Set random seed for reproducibility\n",
    "np.random.seed(42)\n",
    "\n",
    "# Generate synthetic data: 50 participants\n",
    "exercise_hours = np.random.uniform(0, 10, 50)  # Weekly exercise hours (0 to 10 hours)\n",
    "BMI = 30 - 0.5 * exercise_hours + np.random.normal(0, 1.5, 50)  # BMI inversely related to exercise, with some noise\n",
    "\n",
    "# Compute Pearson and Spearman correlation coefficients\n",
    "pearson_r = np.corrcoef(exercise_hours, BMI)[0, 1]\n",
    "spearman_rho, _ = spearmanr(exercise_hours, BMI)\n",
    "\n",
    "pearson_r, spearman_rho"
   ]
  },
  {
   "cell_type": "markdown",
   "metadata": {},
   "source": [
    "---"
   ]
  },
  {
   "cell_type": "markdown",
   "metadata": {},
   "source": [
    "#### Q4. A researcher is interested in examining the relationship between the number of hours individuals spend watching television per day and their level of physical activity. The researcher collected data on both variables from a sample of 50 participants. Calculate the Pearson correlation coefficient between these two variables."
   ]
  },
  {
   "cell_type": "markdown",
   "metadata": {},
   "source": [
    "Ans."
   ]
  },
  {
   "cell_type": "code",
   "execution_count": 4,
   "metadata": {},
   "outputs": [
    {
     "data": {
      "text/plain": [
       "-0.9195529031742303"
      ]
     },
     "execution_count": 4,
     "metadata": {},
     "output_type": "execute_result"
    }
   ],
   "source": [
    "# Generate synthetic data for TV hours and physical activity (inverse relationship with some noise)\n",
    "np.random.seed(42)\n",
    "tv_hours = np.random.uniform(0, 6, 50)  # TV hours per day (0 to 6 hours)\n",
    "physical_activity = 10 - 1.2 * tv_hours + np.random.normal(0, 1, 50)  # Physical activity decreases with TV hours\n",
    "\n",
    "# Compute Pearson correlation coefficient\n",
    "pearson_tv_activity = np.corrcoef(tv_hours, physical_activity)[0, 1]\n",
    "pearson_tv_activity"
   ]
  },
  {
   "cell_type": "markdown",
   "metadata": {},
   "source": [
    "---"
   ]
  },
  {
   "attachments": {
    "image.png": {
     "image/png": "[encoded data removed]"
    }
   },
   "cell_type": "markdown",
   "metadata": {},
   "source": [
    "#### Q5. A survey was conducted to examine the relationship between age and preference for a particular brand of soft drink. The survey results are shown below:\n",
    "![image.png](attachment:image.png)"
   ]
  },
  {
   "cell_type": "markdown",
   "metadata": {},
   "source": [
    "Ans."
   ]
  },
  {
   "cell_type": "code",
   "execution_count": 5,
   "metadata": {},
   "outputs": [
    {
     "data": {
      "text/plain": [
       "(5.000000000000001, 0.2872974951836456, 3.524390243902438, 0.1631217391539759)"
      ]
     },
     "execution_count": 5,
     "metadata": {},
     "output_type": "execute_result"
    }
   ],
   "source": [
    "import pandas as pd\n",
    "from scipy.stats import chi2_contingency, f_oneway\n",
    "\n",
    "# Creating the dataset from the table\n",
    "data = pd.DataFrame({\n",
    "    \"Age\": [25, 42, 37, 19, 31, 28],\n",
    "    \"Soft Drink\": [\"Coke\", \"Pepsi\", \"Mountain Dew\", \"Coke\", \"Pepsi\", \"Coke\"]\n",
    "})\n",
    "\n",
    "# Defining age groups\n",
    "bins = [18, 25, 35, 45, 55]  # Age group bins\n",
    "labels = [\"18-25\", \"26-35\", \"36-45\", \"46-55\"]\n",
    "data[\"Age Group\"] = pd.cut(data[\"Age\"], bins=bins, labels=labels, right=True)\n",
    "\n",
    "# Creating a contingency table for the Chi-Square Test\n",
    "contingency_table = pd.crosstab(data[\"Age Group\"], data[\"Soft Drink\"])\n",
    "\n",
    "# Performing the Chi-Square Test\n",
    "chi2_stat, p_val, dof, expected = chi2_contingency(contingency_table)\n",
    "\n",
    "# Performing ANOVA to compare age means across drink preferences\n",
    "groups = [data[data[\"Soft Drink\"] == drink][\"Age\"] for drink in data[\"Soft Drink\"].unique()]\n",
    "anova_stat, anova_p = f_oneway(*groups)\n",
    "\n",
    "chi2_stat, p_val, anova_stat, anova_p"
   ]
  },
  {
   "cell_type": "markdown",
   "metadata": {},
   "source": [
    "---"
   ]
  },
  {
   "cell_type": "markdown",
   "metadata": {},
   "source": [
    "#### Q6. A company is interested in examining the relationship between the number of sales calls made per day and the number of sales made per week. The company collected data on both variables from a sample of 30 sales representatives. Calculate the Pearson correlation coefficient between these two variables."
   ]
  },
  {
   "cell_type": "markdown",
   "metadata": {},
   "source": [
    "Ans."
   ]
  },
  {
   "cell_type": "code",
   "execution_count": 6,
   "metadata": {},
   "outputs": [
    {
     "data": {
      "text/plain": [
       "0.9405127666250009"
      ]
     },
     "execution_count": 6,
     "metadata": {},
     "output_type": "execute_result"
    }
   ],
   "source": [
    "# Generate synthetic data for sales calls per day and sales per week\n",
    "np.random.seed(42)\n",
    "sales_calls_per_day = np.random.randint(5, 30, 30)  # Sales calls made per day (5 to 30 calls)\n",
    "sales_per_week = sales_calls_per_day * 2 + np.random.normal(0, 5, 30)  # Sales per week (dependent with some noise)\n",
    "\n",
    "# Compute Pearson correlation coefficient\n",
    "pearson_sales_corr = np.corrcoef(sales_calls_per_day, sales_per_week)[0, 1]\n",
    "pearson_sales_corr"
   ]
  }
 ],
 "metadata": {
  "kernelspec": {
   "display_name": "Python 3",
   "language": "python",
   "name": "python3"
  },
  "language_info": {
   "codemirror_mode": {
    "name": "ipython",
    "version": 3
   },
   "file_extension": ".py",
   "mimetype": "text/x-python",
   "name": "python",
   "nbconvert_exporter": "python",
   "pygments_lexer": "ipython3",
   "version": "3.11.5"
  }
 },
 "nbformat": 4,
 "nbformat_minor": 2
}
