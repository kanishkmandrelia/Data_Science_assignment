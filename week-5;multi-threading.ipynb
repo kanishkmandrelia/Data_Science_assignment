{
 "cells": [
  {
   "cell_type": "markdown",
   "metadata": {},
   "source": [
    "### 1. What is multithreading in python? Why is it used? Name the module used to handle threads in python ?"
   ]
  },
  {
   "cell_type": "markdown",
   "metadata": {},
   "source": [
    "Ans."
   ]
  },
  {
   "cell_type": "markdown",
   "metadata": {},
   "source": [
    "Multithreading in Python refers to the concurrent execution of multiple threads (smaller units of a process) to perform tasks simultaneously.  \n",
    "Python's threading module provides a way to create and manage threads.  \n",
    "For CPU-bound tasks or true parallelism, multiprocessing is often preferred."
   ]
  },
  {
   "cell_type": "markdown",
   "metadata": {},
   "source": [
    "Multithreading in Python is used for several reasons:\n",
    "\n",
    "1. Concurrency: It enables the execution of multiple tasks concurrently, making efficient use of available resources.  \n",
    "2. Responsiveness: In applications with graphical user interfaces (GUIs) or other event-driven systems, multithreading helps maintain responsiveness by allowing certain tasks to run in the background without blocking the main program.  \n",
    "4. Parallelism (limited): Although Python's Global Interpreter Lock (GIL) limits true parallel execution for CPU-bound tasks, multithreading can still be beneficial for parallelizing certain aspects of a program, such as handling multiple independent tasks concurrently.  \n",
    "5. Task Decomposition: Breaking down a complex task into smaller subtasks that can be executed concurrently, improving overall performance."
   ]
  },
  {
   "cell_type": "markdown",
   "metadata": {},
   "source": [
    "The \"threading\" module is commonly used to handle threads. It provides a way to create, manage, and synchronize threads in a Python program."
   ]
  },
  {
   "cell_type": "markdown",
   "metadata": {},
   "source": [
    "---"
   ]
  },
  {
   "cell_type": "markdown",
   "metadata": {},
   "source": [
    "## 2. Why threading module used? Write the use of the following functions:  \n",
    "#### i. activeCount\n",
    "#### ii. currentThread\n",
    "#### iii. enumerate"
   ]
  },
  {
   "cell_type": "markdown",
   "metadata": {},
   "source": [
    "Ans."
   ]
  },
  {
   "cell_type": "markdown",
   "metadata": {},
   "source": [
    "i. The \"activeCount()\" method in the \"threading\" module in Python is used to get the number of Thread objects currently alive.  \n",
    "It returns the number of Thread objects that are currently running, including the main thread."
   ]
  },
  {
   "cell_type": "markdown",
   "metadata": {},
   "source": [
    "ii. To obtain a reference to the current Thread object in Python, can use the \"current_thread()\" function from the threading module."
   ]
  },
  {
   "cell_type": "markdown",
   "metadata": {},
   "source": [
    "iii. While the \"enumerate()\" function itself is not directly related to \"threading\", we can use it in conjunction with the \"threading\" module to iterate over a list of threads and perform actions on them."
   ]
  },
  {
   "cell_type": "markdown",
   "metadata": {},
   "source": [
    "---"
   ]
  },
  {
   "cell_type": "markdown",
   "metadata": {},
   "source": [
    "#### 3.  Explain the following functions:  \n",
    "#### i. run()  \n",
    "#### ii. start()\n",
    "#### iii. join()\n",
    "#### iv. isAlive()"
   ]
  },
  {
   "cell_type": "markdown",
   "metadata": {},
   "source": [
    "Ans."
   ]
  },
  {
   "cell_type": "markdown",
   "metadata": {},
   "source": [
    "i. The run() method is a standard method that can define in custom thread class. When create a thread using the threading.Thread class and provide a target function to execute, the actual execution happens in the run() method."
   ]
  },
  {
   "cell_type": "markdown",
   "metadata": {},
   "source": [
    "ii. The \"start()\" function typically initiates the execution of a program or a specific process. Its specific actions depend on the context of the code it's a part of. In many cases, it serves as the entry point or triggers the main functionality of a program."
   ]
  },
  {
   "cell_type": "markdown",
   "metadata": {},
   "source": [
    "iii. The \"join()\" function is often used in the context of concurrent programming or multi-threading. It is used to wait for a thread or process to complete its execution before allowing the program to proceed. When a program calls \"join()\" on a thread, it pauses and waits for that thread to finish before moving on to the next instructions. This is particularly useful to synchronize and coordinate the execution of different threads or processes in a program."
   ]
  },
  {
   "cell_type": "markdown",
   "metadata": {},
   "source": [
    "iv. The \"is_alive()\" function is typically associated with threads in programming. It is used to check whether a particular thread is currently running or still active. When called on a thread object, \"is_alive()\" returns True if the thread is running and False if it has completed its execution or hasn't started yet. This function is useful for monitoring the status of threads and making decisions based on their execution state within a program."
   ]
  },
  {
   "cell_type": "markdown",
   "metadata": {},
   "source": [
    "---"
   ]
  },
  {
   "cell_type": "markdown",
   "metadata": {},
   "source": [
    "4. Write a python program to create two threads. Thread one must print the list of squares and thread two must print the list of cubes ?"
   ]
  },
  {
   "cell_type": "markdown",
   "metadata": {},
   "source": [
    "Ans."
   ]
  },
  {
   "cell_type": "code",
   "execution_count": 4,
   "metadata": {},
   "outputs": [
    {
     "name": "stdout",
     "output_type": "stream",
     "text": [
      "Square: 1\n",
      "Square: 4\n",
      "Square: 9\n",
      "Square: 16\n",
      "Square: 25\n",
      "Cube: 1\n",
      "Cube: 8\n",
      "Cube: 27\n",
      "Cube: 64\n",
      "Cube: 125\n"
     ]
    }
   ],
   "source": [
    "import threading\n",
    "\n",
    "def print_squares(numbers):\n",
    "    for number in numbers:\n",
    "        print(f\"Square: {number**2}\")\n",
    "\n",
    "def print_cubes(numbers):\n",
    "    for number in numbers:\n",
    "        print(f\"Cube: {number**3}\")\n",
    "\n",
    "def main():\n",
    "    numbers = [1, 2, 3, 4, 5]\n",
    "\n",
    "    thread_squares = threading.Thread(target=print_squares, args=(numbers,))\n",
    "    thread_cubes = threading.Thread(target=print_cubes, args=(numbers,))\n",
    "\n",
    "    thread_squares.start()\n",
    "    thread_cubes.start()\n",
    "\n",
    "    thread_squares.join()\n",
    "    thread_cubes.join()\n",
    "\n",
    "if __name__ == \"__main__\":\n",
    "    main()"
   ]
  },
  {
   "cell_type": "markdown",
   "metadata": {},
   "source": [
    "---"
   ]
  },
  {
   "cell_type": "markdown",
   "metadata": {},
   "source": [
    "### 5. State advantages and disadvantages of multithreading ?"
   ]
  },
  {
   "cell_type": "markdown",
   "metadata": {},
   "source": [
    "Ans."
   ]
  },
  {
   "cell_type": "markdown",
   "metadata": {},
   "source": [
    "Advantages of Multithreading:\n",
    "\n",
    "1. Parallel Execution: Multithreading allows different parts of a program to run concurrently, utilizing multiple CPU cores. This can lead to increased performance and faster execution.\n",
    "\n",
    "2. Responsiveness: Multithreading can enhance the responsiveness of a program by allowing certain tasks to run in the background while others execute in the foreground. This is particularly beneficial in user interfaces and real-time systems.\n",
    "\n",
    "3. Resource Sharing: Threads within the same process share the same resources, such as memory space, which can lead to more efficient resource utilization compared to separate processes.\n",
    "\n",
    "4. Simplified Code Structure: In certain cases, multithreading can simplify the design and structure of a program by dividing complex tasks into smaller, manageable threads.\n",
    "\n",
    "Disadvantages of Multithreading:\n",
    "\n",
    "1. Complexity and Debugging: Multithreaded programs can be more complex and challenging to design, implement, and debug compared to single-threaded programs. Synchronization issues and race conditions can be difficult to identify and fix.\n",
    "\n",
    "2. Resource Competition: Threads within the same process compete for shared resources. Improper synchronization may lead to conflicts and decrease overall performance.\n",
    "\n",
    "3. Increased Overhead: The overhead of managing multiple threads, including context switching and synchronization, can result in increased overhead. In some cases, the benefits of parallelism may be offset by this additional overhead.\n",
    "\n",
    "4. Potential for Deadlocks: When multiple threads are waiting for each other to release resources, a deadlock can occur, where the program comes to a standstill. Avoiding and resolving deadlocks requires careful programming.\n",
    "\n",
    "5. Platform Dependency: Multithreading behavior can be platform-dependent, and certain issues may arise when porting multithreaded programs across different operating systems."
   ]
  },
  {
   "cell_type": "markdown",
   "metadata": {},
   "source": [
    "---\n"
   ]
  },
  {
   "cell_type": "markdown",
   "metadata": {},
   "source": [
    "6. Explain deadlocks and race conditions."
   ]
  },
  {
   "cell_type": "markdown",
   "metadata": {},
   "source": [
    "Ans."
   ]
  },
  {
   "cell_type": "markdown",
   "metadata": {},
   "source": [
    "Deadlock:\n",
    "\n",
    "A deadlock is a situation in concurrent programming where two or more threads or processes are unable to proceed because each is waiting for the other to release a resource. In other words, it's a state where a set of processes are blocked because each process is holding a resource and waiting for another resource acquired by some other process. This results in a standstill, and the processes involved cannot proceed further. Deadlocks can occur in multithreading or multiprocessing environments and are often caused by poor synchronization of resources.\n",
    "\n",
    "To avoid deadlocks, developers need to carefully manage the locking and releasing of resources, use techniques such as timeouts, and implement deadlock detection and recovery mechanisms.\n",
    "\n",
    "Race Condition:\n",
    "\n",
    "A race condition occurs when the behavior of a program depends on the relative timing of events, such as the order in which threads are scheduled to run. In a multithreaded or multiprocessing environment, race conditions arise when multiple threads access shared data concurrently, and at least one of them modifies the data. The final outcome becomes unpredictable and depends on the timing and interleaving of thread execution.\n",
    "\n",
    "Race conditions can lead to unexpected and erroneous results, as multiple threads might interfere with each other's operations on shared data. To prevent race conditions, developers often use synchronization mechanisms like locks, semaphores, or other concurrency control techniques to ensure that only one thread can access or modify shared data at a time."
   ]
  },
  {
   "cell_type": "code",
   "execution_count": null,
   "metadata": {},
   "outputs": [],
   "source": []
  }
 ],
 "metadata": {
  "kernelspec": {
   "display_name": "Python 3",
   "language": "python",
   "name": "python3"
  },
  "language_info": {
   "codemirror_mode": {
    "name": "ipython",
    "version": 3
   },
   "file_extension": ".py",
   "mimetype": "text/x-python",
   "name": "python",
   "nbconvert_exporter": "python",
   "pygments_lexer": "ipython3",
   "version": "3.7.1"
  }
 },
 "nbformat": 4,
 "nbformat_minor": 2
}
