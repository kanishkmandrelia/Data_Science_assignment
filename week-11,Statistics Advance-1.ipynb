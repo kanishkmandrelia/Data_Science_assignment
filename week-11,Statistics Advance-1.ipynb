{
 "cells": [
  {
   "cell_type": "markdown",
   "metadata": {},
   "source": [
    "#### Q1. What is the Probability density function?"
   ]
  },
  {
   "cell_type": "markdown",
   "metadata": {},
   "source": [
    "Ans."
   ]
  },
  {
   "cell_type": "markdown",
   "metadata": {},
   "source": [
    "The Probability Density Function (PDF) is a function that describes the likelihood of a random variable taking on a particular value. For continuous random variables, the PDF represents the relative likelihood of the random variable falling within a specific range of values."
   ]
  },
  {
   "cell_type": "markdown",
   "metadata": {},
   "source": [
    "In Python, the Probability Density Function (PDF) represents the likelihood of a random variable taking on a specific value. It is commonly associated with continuous probability distributions and provides insights into how probabilities are distributed across different values.  \n",
    "\n",
    "Python libraries like SciPy and Matplotlib are often used to compute and visualize PDFs."
   ]
  },
  {
   "cell_type": "markdown",
   "metadata": {},
   "source": [
    "---"
   ]
  },
  {
   "cell_type": "markdown",
   "metadata": {},
   "source": [
    "#### Q2. What are the types of Probability distribution?"
   ]
  },
  {
   "cell_type": "markdown",
   "metadata": {},
   "source": [
    "Ans."
   ]
  },
  {
   "cell_type": "markdown",
   "metadata": {},
   "source": [
    "1.Discrete Probability Distributions\n",
    "- Applicable to random variables that take on a countable number of distinct values.\n",
    "- The probability of each possible value is nonzero, and the sum of probabilities equals 1.\n",
    "\n",
    "Examples of Discrete Distributions:  \n",
    "- Bernoulli Distribution:\n",
    "  - Models binary outcomes (success/failure).\n",
    "  - Example: Tossing a coin.\n",
    "- Binomial Distribution:\n",
    "  - Describes the number of successes in n independent trials.\n",
    "  - Example: Number of heads in 10 coin tosses.\n",
    "- Poisson Distribution:  \n",
    "  - Models the count of events in a fixed interval of time or space.\n",
    "  - Example: Number of phone calls received in an hour."
   ]
  },
  {
   "cell_type": "markdown",
   "metadata": {},
   "source": [
    "2.Continuous Probability Distributions\n",
    "- Applicable to random variables that take on an infinite number of possible values within a range.\n",
    "- Described using a Probability Density Function (PDF) where the area under the curve equals 1.\n",
    "\n",
    "Examples of Continuous Distributions:  \n",
    "- Normal (Gaussian) Distribution:\n",
    "  - Symmetrical bell-shaped curve.\n",
    "  - Example: Heights of people.\n",
    "- Exponential Distribution:\n",
    "  - Describes the time between events in a Poisson process.\n",
    "  - Example: Time until the next bus arrives.\n",
    "- Beta Distribution:\n",
    "  - Models probabilities or proportions.\n",
    "  - Example: Success rates in experiments."
   ]
  },
  {
   "cell_type": "markdown",
   "metadata": {},
   "source": [
    "---"
   ]
  },
  {
   "cell_type": "markdown",
   "metadata": {},
   "source": [
    "#### Q3. Write a Python function to calculate the probability density function of a normal distribution with given mean and standard deviation at a given point."
   ]
  },
  {
   "cell_type": "markdown",
   "metadata": {},
   "source": [
    "Ans."
   ]
  },
  {
   "cell_type": "code",
   "execution_count": 1,
   "metadata": {},
   "outputs": [
    {
     "name": "stdout",
     "output_type": "stream",
     "text": [
      "The PDF value at x = 1 for N(0, 1²) is 0.24197\n"
     ]
    }
   ],
   "source": [
    "import math\n",
    "\n",
    "def normal_pdf(x, mean, std_dev):\n",
    "    coefficient = 1 / (math.sqrt(2 * math.pi) * std_dev)\n",
    "    exponent = math.exp(-((x - mean) ** 2) / (2 * std_dev ** 2))\n",
    "    return coefficient * exponent\n",
    "\n",
    "mean = 0\n",
    "std_dev = 1\n",
    "x = 1\n",
    "\n",
    "pdf_value = normal_pdf(x, mean, std_dev)\n",
    "print(f\"The PDF value at x = {x} for N({mean}, {std_dev}²) is {pdf_value:.5f}\")\n"
   ]
  },
  {
   "cell_type": "markdown",
   "metadata": {},
   "source": [
    "---"
   ]
  },
  {
   "cell_type": "markdown",
   "metadata": {},
   "source": [
    "#### Q4. What are the properties of Binomial distribution? Give two examples of events where binomial distribution can be applied."
   ]
  },
  {
   "cell_type": "markdown",
   "metadata": {},
   "source": [
    "Ans."
   ]
  },
  {
   "cell_type": "markdown",
   "metadata": {},
   "source": [
    "**Properties of the Binomial Distribution:**  \n",
    "The Binomial Distribution is a discrete probability distribution that models the number of successes in a fixed number of independent trials, where each trial has two possible outcomes: success or failure. It has the following key properties:  \n",
    "1.Fixed Number of Trials:  \n",
    "  - The number of trials, denoted as n, is fixed in advance.  \n",
    "\n",
    "2.Binary Outcomes:  \n",
    "  - Each trial results in one of two possible outcomes: success (often denoted as 1) or failure (denoted as 0).  \n",
    "\n",
    "3.Constant Probability of Success:  \n",
    "  - The probability of success, denoted as p, remains constant for each trial. The probability of failure is 1−p.  \n",
    "\n",
    "4.Independence of Trials:  \n",
    "  - The trials are independent, meaning the outcome of one trial does not affect the outcome of another."
   ]
  },
  {
   "cell_type": "markdown",
   "metadata": {},
   "source": [
    "**Two Examples of Events where Binomial Distribution Applies:**  \n",
    "1. Coin Tossing (Binary Outcome).  \n",
    "2. Quality Control in Manufacturing"
   ]
  },
  {
   "cell_type": "markdown",
   "metadata": {},
   "source": [
    "---"
   ]
  },
  {
   "cell_type": "markdown",
   "metadata": {},
   "source": [
    "#### Q5. Generate a random sample of size 1000 from a binomial distribution with probability of success 0.4 and plot a histogram of the results using matplotlib."
   ]
  },
  {
   "cell_type": "markdown",
   "metadata": {},
   "source": [
    "Ans."
   ]
  },
  {
   "cell_type": "code",
   "execution_count": 2,
   "metadata": {},
   "outputs": [
    {
     "data": {
      "image/png": "[encoded data removed]",
      "text/plain": [
       "<Figure size 800x600 with 1 Axes>"
      ]
     },
     "metadata": {},
     "output_type": "display_data"
    }
   ],
   "source": [
    "import numpy as np\n",
    "import matplotlib.pyplot as plt\n",
    "\n",
    "n = 10\n",
    "p = 0.4\n",
    "size = 1000\n",
    "\n",
    "sample = np.random.binomial(n, p, size)\n",
    "\n",
    "plt.figure(figsize=(8, 6))\n",
    "plt.hist(sample, bins=range(n + 2), edgecolor='black', alpha=0.7, rwidth=0.8)\n",
    "plt.title(f'Binomial Distribution Histogram\\nn={n}, p={p}, Sample Size={size}')\n",
    "plt.xlabel('Number of Successes')\n",
    "plt.ylabel('Frequency')\n",
    "plt.grid(True)\n",
    "plt.show()\n"
   ]
  },
  {
   "cell_type": "markdown",
   "metadata": {},
   "source": [
    "---"
   ]
  },
  {
   "cell_type": "markdown",
   "metadata": {},
   "source": [
    "#### Q6. Write a Python function to calculate the cumulative distribution function of a Poisson distribution with given mean at a given point."
   ]
  },
  {
   "cell_type": "markdown",
   "metadata": {},
   "source": [
    "Ans."
   ]
  },
  {
   "cell_type": "code",
   "execution_count": 16,
   "metadata": {},
   "outputs": [
    {
     "name": "stdout",
     "output_type": "stream",
     "text": [
      "CDF of Poisson distribution with mean 2.5 at k = 3 is: 0.7575761331330659\n"
     ]
    }
   ],
   "source": [
    "import math\n",
    "\n",
    "def poisson_cdf(mean, k):\n",
    "  cdf = 0\n",
    "  for i in range(k + 1):\n",
    "    cdf += math.exp(-mean) * (mean ** i) / math.factorial(i)\n",
    "  return cdf\n",
    "\n",
    "mean_value = 2.5\n",
    "k_value = 3\n",
    "cdf_result = poisson_cdf(mean_value, k_value)\n",
    "print(f\"CDF of Poisson distribution with mean {mean_value} at k = {k_value} is: {cdf_result}\")"
   ]
  },
  {
   "cell_type": "markdown",
   "metadata": {},
   "source": [
    "---"
   ]
  },
  {
   "cell_type": "markdown",
   "metadata": {},
   "source": [
    "#### Q7. How Binomial distribution different from Poisson distribution?"
   ]
  },
  {
   "cell_type": "markdown",
   "metadata": {},
   "source": [
    "Ans."
   ]
  },
  {
   "cell_type": "markdown",
   "metadata": {},
   "source": [
    "**Binomial Distribution:**  \n",
    "- Nature of the experiment: Fixed number of independent trials.\n",
    "- Number of trials: Fixed and finite.   \n",
    "- Probability of success: Constant for each trial.   \n",
    "- Possible outcomes: Two (success or failure).   \n",
    "- Example: Flipping a coin 10 times and counting the number of heads.\n",
    "\n",
    "**Poisson Distribution:**  \n",
    "- Nature of the experiment: Events occurring within a fixed interval (time or space).   \n",
    "- Number of trials: Not fixed, can be infinite.   \n",
    "- Probability of success: Extremely small.\n",
    "- Possible outcomes: Unlimited.\n",
    "- Example: The number of cars passing through a toll booth in an hour."
   ]
  },
  {
   "cell_type": "markdown",
   "metadata": {},
   "source": [
    "---"
   ]
  },
  {
   "cell_type": "markdown",
   "metadata": {},
   "source": [
    "#### Q8. Generate a random sample of size 1000 from a Poisson distribution with mean 5 and calculate the sample mean and variance."
   ]
  },
  {
   "cell_type": "markdown",
   "metadata": {},
   "source": [
    "Ans."
   ]
  },
  {
   "cell_type": "code",
   "execution_count": 17,
   "metadata": {},
   "outputs": [
    {
     "name": "stdout",
     "output_type": "stream",
     "text": [
      "Sample Mean: 4.924\n",
      "Sample Variance: 5.138224\n"
     ]
    }
   ],
   "source": [
    "import numpy as np\n",
    "\n",
    "sample = np.random.poisson(lam=5, size=1000)\n",
    "sample_mean = np.mean(sample)\n",
    "sample_variance = np.var(sample)\n",
    "\n",
    "print(\"Sample Mean:\", sample_mean)\n",
    "print(\"Sample Variance:\", sample_variance)"
   ]
  },
  {
   "cell_type": "markdown",
   "metadata": {},
   "source": [
    "---"
   ]
  },
  {
   "cell_type": "markdown",
   "metadata": {},
   "source": [
    "#### Q9. How mean and variance are related in Binomial distribution and Poisson distribution?"
   ]
  },
  {
   "cell_type": "markdown",
   "metadata": {},
   "source": [
    "Ans."
   ]
  },
  {
   "cell_type": "markdown",
   "metadata": {},
   "source": [
    "**Binomial Distribution:**  \n",
    "- Mean: μ=n*p\n",
    "  - n: number of trials   \n",
    "  - p: probability of success in a single trial\n",
    "\n",
    "- Variance: σ²=n*p*(1-p)\n",
    "  - n: number of trials   \n",
    "  - p: probability of success in a single trial   \n",
    "  - (1 - p): probability of failure in a single trial (often denoted as q)"
   ]
  },
  {
   "cell_type": "markdown",
   "metadata": {},
   "source": [
    "**Poisson Distribution:**  \n",
    "- Mean: μ=λ  \n",
    "  - λ: average rate of occurrences   \n",
    "\n",
    "- Variance: σ²=λ  \n",
    "  - λ: average rate of occurrences"
   ]
  },
  {
   "cell_type": "markdown",
   "metadata": {},
   "source": [
    "---"
   ]
  },
  {
   "cell_type": "markdown",
   "metadata": {},
   "source": [
    "#### Q10. In normal distribution with respect to mean position, where does the least frequent data appear?"
   ]
  },
  {
   "cell_type": "markdown",
   "metadata": {},
   "source": [
    "Ans."
   ]
  },
  {
   "cell_type": "markdown",
   "metadata": {},
   "source": [
    "- In a normal distribution, the least frequent data appears furthest from the mean. This is because the normal distribution is symmetrical and bell-shaped, with the highest frequency of data points clustered around the mean.  \n",
    "- As move further away from the mean in either direction, the frequency of data points decreases."
   ]
  },
  {
   "cell_type": "markdown",
   "metadata": {},
   "source": []
  }
 ],
 "metadata": {
  "kernelspec": {
   "display_name": "Python 3",
   "language": "python",
   "name": "python3"
  },
  "language_info": {
   "codemirror_mode": {
    "name": "ipython",
    "version": 3
   },
   "file_extension": ".py",
   "mimetype": "text/x-python",
   "name": "python",
   "nbconvert_exporter": "python",
   "pygments_lexer": "ipython3",
   "version": "3.11.5"
  }
 },
 "nbformat": 4,
 "nbformat_minor": 2
}
