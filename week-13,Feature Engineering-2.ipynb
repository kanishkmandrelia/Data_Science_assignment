{
 "cells": [
  {
   "cell_type": "markdown",
   "metadata": {},
   "source": [
    "#### Q1. What is Min-Max scaling, and how is it used in data preprocessing? Provide an example to illustrate its application."
   ]
  },
  {
   "cell_type": "markdown",
   "metadata": {},
   "source": [
    "Ans."
   ]
  },
  {
   "cell_type": "markdown",
   "metadata": {},
   "source": [
    "Min-Max scaling, also known as Normalization, is a data preprocessing technique that scales features to a specific range, typically between 0 and 1."
   ]
  },
  {
   "cell_type": "markdown",
   "metadata": {},
   "source": [
    "**Use of  Min-Max Scaling**  \n",
    "- Feature Scaling for Machine Learning: Many algorithms, such as k-NN, SVM, and Gradient Descent-based methods, rely on distances between points. If one feature has a much larger range than others, it can dominate the model, leading to poor performance. Min-Max scaling ensures that all features contribute equally.\n",
    "- Preserves Distribution Shape: Unlike Standardization, Min-Max scaling does not alter the shape of the data distribution, it only scales it to a specific range.\n",
    "- Improves Model Convergence: For algorithms like neural networks, scaling can speed up convergence by ensuring features are on the same scale."
   ]
  },
  {
   "cell_type": "code",
   "execution_count": 1,
   "metadata": {},
   "outputs": [
    {
     "name": "stdout",
     "output_type": "stream",
     "text": [
      "Original Age Data: [18 25 32 45 60]\n",
      "Scaled Age Data: [0.         0.16666667 0.33333333 0.64285714 1.        ]\n"
     ]
    }
   ],
   "source": [
    "import numpy as np\n",
    "from sklearn.preprocessing import MinMaxScaler\n",
    "\n",
    "age_data = np.array([18, 25, 32, 45, 60]).reshape(-1, 1)\n",
    "\n",
    "scaler = MinMaxScaler()\n",
    "\n",
    "age_scaled = scaler.fit_transform(age_data)\n",
    "\n",
    "print(\"Original Age Data:\", age_data.flatten())\n",
    "print(\"Scaled Age Data:\", age_scaled.flatten())\n"
   ]
  },
  {
   "cell_type": "markdown",
   "metadata": {},
   "source": [
    "---"
   ]
  },
  {
   "cell_type": "markdown",
   "metadata": {},
   "source": [
    "#### Q2. What is the Unit Vector technique in feature scaling, and how does it differ from Min-Max scaling? Provide an example to illustrate its application."
   ]
  },
  {
   "cell_type": "markdown",
   "metadata": {},
   "source": [
    "Ans."
   ]
  },
  {
   "cell_type": "markdown",
   "metadata": {},
   "source": [
    "The Unit Vector Scaling technique, also known as Vector Normalization, scales a feature vector such that its magnitude (or length) becomes 1. This is done by dividing each feature value by the Euclidean norm (or the length) of the vector."
   ]
  },
  {
   "cell_type": "markdown",
   "metadata": {},
   "source": [
    "**Difference Between Unit Vector Scaling and Min-Max Scaling:**  \n",
    "\n",
    "Min-Max Scaling:\n",
    "- Scales each feature individually to a fixed range (e.g., [0, 1]).\n",
    "- Does not preserve the magnitude of the vector.\n",
    "- It is applied feature-wise, meaning it scales each feature independently based on its minimum and maximum values.\n",
    "\n",
    "Unit Vector Scaling:\n",
    "- Normalizes the entire vector to a unit vector with a magnitude of 1.\n",
    "- Preserves direction, but the actual values of the features are scaled based on the entire feature vector's magnitude.\n",
    "- It is applied vector-wise, meaning it scales the entire row of feature values (the instance) rather than individual features."
   ]
  },
  {
   "cell_type": "code",
   "execution_count": 2,
   "metadata": {},
   "outputs": [
    {
     "name": "stdout",
     "output_type": "stream",
     "text": [
      "Original Data: [[2 3 4]]\n",
      "Unit Vector Scaled Data: [[0.37139068 0.55708601 0.74278135]]\n"
     ]
    }
   ],
   "source": [
    "import numpy as np\n",
    "from sklearn.preprocessing import normalize\n",
    "\n",
    "data = np.array([[2, 3, 4]])\n",
    "\n",
    "normalized_data = normalize(data, norm='l2')\n",
    "\n",
    "print(\"Original Data:\", data)\n",
    "print(\"Unit Vector Scaled Data:\", normalized_data)"
   ]
  },
  {
   "cell_type": "markdown",
   "metadata": {},
   "source": [
    "---"
   ]
  },
  {
   "cell_type": "markdown",
   "metadata": {},
   "source": [
    "#### Q3. What is PCA (Principle Component Analysis), and how is it used in dimensionality reduction? Provide an example to illustrate its application."
   ]
  },
  {
   "cell_type": "markdown",
   "metadata": {},
   "source": [
    "Ans."
   ]
  },
  {
   "cell_type": "markdown",
   "metadata": {},
   "source": [
    "Principal Component Analysis (PCA) is a linear dimensionality reduction technique that transforms a dataset with many correlated features into a set of uncorrelated features called principal components. PCA achieves this by projecting the data onto a set of orthogonal axes that maximize the variance, allowing us to reduce the number of dimensions while preserving as much of the data's variability as possible."
   ]
  },
  {
   "cell_type": "markdown",
   "metadata": {},
   "source": [
    "**How PCA Works:**  \n",
    "\n",
    "1.Standardize the Data:  \n",
    "  - PCA is sensitive to the scale of the data, so it's important to normalize or standardize the dataset before applying PCA (especially if the features have different units or scales).\n",
    "\n",
    "2.Compute the Covariance Matrix:\n",
    "- The covariance matrix captures how each feature correlates with every other feature in the dataset.\n",
    "\n",
    "3.Compute Eigenvalues and Eigenvectors: \n",
    "- Eigenvalues determine the magnitude of variance captured by each principal component.\n",
    "- Eigenvectors represent the directions of these principal components.\n",
    "\n",
    "4.Sort Eigenvectors by Eigenvalues:\n",
    "- The eigenvector with the largest eigenvalue corresponds to the first principal component (the direction that captures the most variance).\n",
    "- The second eigenvector, with the second-largest eigenvalue, corresponds to the second principal component, and so on.\n",
    "\n",
    "5.Select the Top k Principal Components:  \n",
    "- Choose the top k components based on the explained variance and construct a new matrix that only includes those components.\n",
    "\n",
    "6.Project the Data onto the New Principal Component Space:\n",
    "- The original data is projected onto the top k principal components, reducing the dimensionality."
   ]
  },
  {
   "cell_type": "code",
   "execution_count": 3,
   "metadata": {},
   "outputs": [
    {
     "name": "stdout",
     "output_type": "stream",
     "text": [
      "Original Data:\n",
      " [[2000    3    2   10]\n",
      " [1500    2    1   15]\n",
      " [1800    3    2    8]\n",
      " [2200    4    3    5]\n",
      " [1700    2    2   12]]\n",
      "\n",
      "Transformed Data (2 Principal Components):\n",
      " [[ 4.65444307e-01 -2.04567273e-01]\n",
      " [-2.76246894e+00 -3.62788496e-01]\n",
      " [ 3.46816336e-01 -1.87482426e-01]\n",
      " [ 3.07030390e+00  8.43743774e-04]\n",
      " [-1.12009559e+00  7.53994450e-01]]\n",
      "\n",
      "Explained Variance Ratios: [0.93247674 0.03885606]\n"
     ]
    }
   ],
   "source": [
    "import numpy as np\n",
    "import pandas as pd\n",
    "from sklearn.decomposition import PCA\n",
    "from sklearn.preprocessing import StandardScaler\n",
    "\n",
    "# Sample data (sq.ft, Bedrooms, Bathrooms, Age of House)\n",
    "data = np.array([[2000, 3, 2, 10],\n",
    "                 [1500, 2, 1, 15],\n",
    "                 [1800, 3, 2, 8],\n",
    "                 [2200, 4, 3, 5],\n",
    "                 [1700, 2, 2, 12]])\n",
    "\n",
    "scaler = StandardScaler()\n",
    "data_scaled = scaler.fit_transform(data)\n",
    "\n",
    "pca = PCA(n_components=2)  # Reduce to 2 components for visualization\n",
    "data_pca = pca.fit_transform(data_scaled)\n",
    "\n",
    "print(\"Original Data:\\n\", data)\n",
    "print(\"\\nTransformed Data (2 Principal Components):\\n\", data_pca)\n",
    "print(\"\\nExplained Variance Ratios:\", pca.explained_variance_ratio_)"
   ]
  },
  {
   "cell_type": "markdown",
   "metadata": {},
   "source": [
    "---"
   ]
  },
  {
   "cell_type": "markdown",
   "metadata": {},
   "source": [
    "#### Q4. What is the relationship between PCA and Feature Extraction, and how can PCA be used for Feature Extraction? Provide an example to illustrate this concept."
   ]
  },
  {
   "cell_type": "markdown",
   "metadata": {},
   "source": [
    "Ans."
   ]
  },
  {
   "cell_type": "markdown",
   "metadata": {},
   "source": [
    "**Relationship Between PCA and Feature Extraction**  \n",
    "- PCA (Principal Component Analysis) is often used as a method for feature extraction. Feature extraction involves transforming the original set of features (variables) into a new set of features that are more informative and, ideally, less redundant. PCA does this by combining the original features into a smaller set of new features (principal components) that capture the most significant variance in the data.  \n",
    "- In essence, PCA is a linear feature extraction technique because it identifies the directions (or axes) in the data space where the variance is maximized. The new features (principal components) are linear combinations of the original features.\n",
    "\n"
   ]
  },
  {
   "cell_type": "markdown",
   "metadata": {},
   "source": [
    "**PCA Can Be Used for Feature Extraction:**  \n",
    "- Dimensionality Reduction: PCA reduces the dimensionality of the dataset while preserving the most important information. The first few principal components generally capture most of the variance in the data, so these components can be used as a compressed set of features.  \n",
    "- New Features (Principal Components): The principal components (PCs) are new features derived from the original features, and they are ordered by the amount of variance they explain. By selecting the top k principal components, you effectively extract a reduced set of features that can be used for further analysis or modeling.\n",
    "- Data Transformation: The process of PCA transforms the original data into the space defined by the principal components, thereby creating new features for the dataset that are orthogonal (uncorrelated) to each other. These new features are often more informative for downstream tasks like classification or regression."
   ]
  },
  {
   "cell_type": "code",
   "execution_count": 4,
   "metadata": {},
   "outputs": [
    {
     "name": "stdout",
     "output_type": "stream",
     "text": [
      "Original Data:\n",
      " [[2000    3    2   10]\n",
      " [1500    2    1   15]\n",
      " [1800    3    2    8]\n",
      " [2200    4    3    5]\n",
      " [1700    2    2   12]]\n",
      "\n",
      "Transformed Data (PCA Extracted Features):\n",
      " [[ 4.65444307e-01 -2.04567273e-01]\n",
      " [-2.76246894e+00 -3.62788496e-01]\n",
      " [ 3.46816336e-01 -1.87482426e-01]\n",
      " [ 3.07030390e+00  8.43743774e-04]\n",
      " [-1.12009559e+00  7.53994450e-01]]\n",
      "\n",
      "Explained Variance Ratios: [0.93247674 0.03885606]\n"
     ]
    }
   ],
   "source": [
    "import numpy as np\n",
    "import pandas as pd\n",
    "from sklearn.decomposition import PCA\n",
    "from sklearn.preprocessing import StandardScaler\n",
    "\n",
    "# Original data (Size, Bedrooms, Bathrooms, Age of House)\n",
    "data = np.array([[2000, 3, 2, 10],\n",
    "                 [1500, 2, 1, 15],\n",
    "                 [1800, 3, 2, 8],\n",
    "                 [2200, 4, 3, 5],\n",
    "                 [1700, 2, 2, 12]])\n",
    "\n",
    "scaler = StandardScaler()\n",
    "data_scaled = scaler.fit_transform(data)\n",
    "\n",
    "pca = PCA(n_components=2)  # Extract 2 principal components\n",
    "data_pca = pca.fit_transform(data_scaled)\n",
    "\n",
    "print(\"Original Data:\\n\", data)\n",
    "print(\"\\nTransformed Data (PCA Extracted Features):\\n\", data_pca)\n",
    "print(\"\\nExplained Variance Ratios:\", pca.explained_variance_ratio_)\n"
   ]
  },
  {
   "cell_type": "markdown",
   "metadata": {},
   "source": [
    "---"
   ]
  },
  {
   "cell_type": "markdown",
   "metadata": {},
   "source": [
    "#### Q5. You are working on a project to build a recommendation system for a food delivery service. The dataset contains features such as price, rating, and delivery time. Explain how you would use Min-Max scaling to preprocess the data."
   ]
  },
  {
   "cell_type": "markdown",
   "metadata": {},
   "source": [
    "Ans."
   ]
  },
  {
   "cell_type": "code",
   "execution_count": 5,
   "metadata": {},
   "outputs": [
    {
     "name": "stdout",
     "output_type": "stream",
     "text": [
      "  Restaurant  Price (USD)  Rating  Delivery Time (mins)  Price (Scaled)  \\\n",
      "0          A           10     4.5                    30             0.0   \n",
      "1          B           20     3.8                    45             1.0   \n",
      "2          C           15     4.2                    25             0.5   \n",
      "3          D           12     4.7                    35             0.2   \n",
      "4          E           18     4.0                    40             0.8   \n",
      "\n",
      "   Rating (Scaled)  Delivery Time (Scaled)  \n",
      "0         0.777778                    0.25  \n",
      "1         0.000000                    1.00  \n",
      "2         0.444444                    0.00  \n",
      "3         1.000000                    0.50  \n",
      "4         0.222222                    0.75  \n"
     ]
    }
   ],
   "source": [
    "import pandas as pd\n",
    "from sklearn.preprocessing import MinMaxScaler\n",
    "\n",
    "data = {\n",
    "    'Restaurant': ['A', 'B', 'C', 'D', 'E'],\n",
    "    'Price (USD)': [10, 20, 15, 12, 18],\n",
    "    'Rating': [4.5, 3.8, 4.2, 4.7, 4.0],\n",
    "    'Delivery Time (mins)': [30, 45, 25, 35, 40]\n",
    "}\n",
    "\n",
    "df = pd.DataFrame(data)\n",
    "\n",
    "scaler = MinMaxScaler()\n",
    "\n",
    "df[['Price (Scaled)', 'Rating (Scaled)', 'Delivery Time (Scaled)']] = scaler.fit_transform(\n",
    "    df[['Price (USD)', 'Rating', 'Delivery Time (mins)']])\n",
    "\n",
    "print(df)"
   ]
  },
  {
   "cell_type": "markdown",
   "metadata": {},
   "source": [
    "---"
   ]
  },
  {
   "cell_type": "markdown",
   "metadata": {},
   "source": [
    "#### Q6. You are working on a project to build a model to predict stock prices. The dataset contains many features, such as company financial data and market trends. Explain how you would use PCA to reduce the dimensionality of the dataset."
   ]
  },
  {
   "cell_type": "markdown",
   "metadata": {},
   "source": [
    "Ans."
   ]
  },
  {
   "cell_type": "code",
   "execution_count": 6,
   "metadata": {},
   "outputs": [
    {
     "name": "stdout",
     "output_type": "stream",
     "text": [
      "Transformed Data (2 Principal Components):\n",
      "[[-3.76588037e+00 -5.64043454e-01]\n",
      " [-2.23210490e+00  7.19519088e-01]\n",
      " [ 2.55301949e-16 -5.39701994e-16]\n",
      " [ 1.99932842e+00 -5.18252113e-02]\n",
      " [ 3.99865685e+00 -1.03650423e-01]]\n",
      "\n",
      "Explained Variance Ratio:\n",
      "[0.97876795 0.02123205]\n"
     ]
    },
    {
     "data": {
      "image/png": "[encoded data removed]",
      "text/plain": [
       "<Figure size 640x480 with 1 Axes>"
      ]
     },
     "metadata": {},
     "output_type": "display_data"
    }
   ],
   "source": [
    "import pandas as pd\n",
    "from sklearn.decomposition import PCA\n",
    "from sklearn.preprocessing import StandardScaler\n",
    "import numpy as np\n",
    "\n",
    "data = {\n",
    "    'Revenue': [100, 200, 300, 400, 500],\n",
    "    'Profit Margin': [0.1, 0.15, 0.2, 0.25, 0.3],\n",
    "    'Debt': [50, 60, 70, 80, 90],\n",
    "    'Assets': [150, 160, 170, 180, 190],\n",
    "    'Stock Index': [1200, 1250, 1300, 1350, 1400],\n",
    "    'Interest Rate': [2.5, 2.4, 2.6, 2.7, 2.8],\n",
    "    'Moving Average': [25, 30, 35, 40, 45],\n",
    "    'RSI': [55, 60, 65, 70, 75]\n",
    "}\n",
    "\n",
    "df = pd.DataFrame(data)\n",
    "\n",
    "# Step 1: Standardize the data (important for PCA)\n",
    "scaler = StandardScaler()\n",
    "scaled_data = scaler.fit_transform(df)\n",
    "\n",
    "# Step 2: Apply PCA (Let's say we want to reduce the data to 2 principal components)\n",
    "pca = PCA(n_components=2)\n",
    "pca_result = pca.fit_transform(scaled_data)\n",
    "\n",
    "# Step 3: Get the explained variance ratio\n",
    "explained_variance = pca.explained_variance_ratio_\n",
    "\n",
    "# Step 4: Display the reduced data (principal components) and the explained variance\n",
    "print(\"Transformed Data (2 Principal Components):\")\n",
    "print(pca_result)\n",
    "\n",
    "print(\"\\nExplained Variance Ratio:\")\n",
    "print(explained_variance)\n",
    "\n",
    "# Step 5: Optionally, plot the cumulative explained variance to determine how many components to keep\n",
    "import matplotlib.pyplot as plt\n",
    "\n",
    "plt.plot(np.cumsum(explained_variance))\n",
    "plt.xlabel('Number of Components')\n",
    "plt.ylabel('Cumulative Explained Variance')\n",
    "plt.title('Explained Variance by Principal Components')\n",
    "plt.show()"
   ]
  },
  {
   "cell_type": "markdown",
   "metadata": {},
   "source": [
    "---"
   ]
  },
  {
   "cell_type": "markdown",
   "metadata": {},
   "source": [
    "#### Q7. For a dataset containing the following values: [1, 5, 10, 15, 20], perform Min-Max scaling to transform the values to a range of -1 to 1."
   ]
  },
  {
   "cell_type": "markdown",
   "metadata": {},
   "source": [
    "Ans."
   ]
  },
  {
   "cell_type": "code",
   "execution_count": 7,
   "metadata": {},
   "outputs": [
    {
     "data": {
      "text/plain": [
       "array([-1.        , -0.57894737, -0.05263158,  0.47368421,  1.        ])"
      ]
     },
     "execution_count": 7,
     "metadata": {},
     "output_type": "execute_result"
    }
   ],
   "source": [
    "import numpy as np\n",
    "\n",
    "X = np.array([1, 5, 10, 15, 20])\n",
    "\n",
    "X_min, X_max = X.min(), X.max()\n",
    "\n",
    "a, b = -1, 1\n",
    "\n",
    "X_scaled = ((X - X_min) / (X_max - X_min)) * (b - a) + a\n",
    "X_scaled"
   ]
  },
  {
   "cell_type": "markdown",
   "metadata": {},
   "source": [
    "---"
   ]
  },
  {
   "cell_type": "markdown",
   "metadata": {},
   "source": [
    "#### Q8. For a dataset containing the following features: [height, weight, age, gender, blood pressure], perform Feature Extraction using PCA. How many principal components would you choose to retain, and why?"
   ]
  },
  {
   "cell_type": "markdown",
   "metadata": {},
   "source": [
    "Ans."
   ]
  },
  {
   "cell_type": "code",
   "execution_count": 8,
   "metadata": {},
   "outputs": [
    {
     "name": "stdout",
     "output_type": "stream",
     "text": [
      "Explained Variance Ratio: [0.25541357 0.49712166 0.69833966 0.87609217 1.        ]\n",
      "Number of Principal Components to Retain 95% Variance: 5\n"
     ]
    }
   ],
   "source": [
    "import numpy as np\n",
    "import pandas as pd\n",
    "from sklearn.decomposition import PCA\n",
    "from sklearn.preprocessing import StandardScaler\n",
    "\n",
    "np.random.seed(42)\n",
    "data = pd.DataFrame({\n",
    "    \"Height\": np.random.normal(170, 10, 100),  # Mean 170 cm, std 10 cm\n",
    "    \"Weight\": np.random.normal(70, 15, 100),   # Mean 70 kg, std 15 kg\n",
    "    \"Age\": np.random.randint(20, 80, 100),     # Random ages between 20-80\n",
    "    \"Gender\": np.random.choice([0, 1], 100),   # Binary gender (0: Female, 1: Male)\n",
    "    \"Blood Pressure\": np.random.normal(120, 15, 100)  # Mean 120 mmHg, std 15\n",
    "})\n",
    "\n",
    "scaler = StandardScaler()\n",
    "scaled_data = scaler.fit_transform(data)\n",
    "\n",
    "pca = PCA()\n",
    "pca_result = pca.fit_transform(scaled_data)\n",
    "\n",
    "explained_variance = np.cumsum(pca.explained_variance_ratio_)\n",
    "\n",
    "n_components = np.argmax(explained_variance >= 0.95) + 1\n",
    "\n",
    "print(f\"Explained Variance Ratio: {explained_variance}\")\n",
    "print(f\"Number of Principal Components to Retain 95% Variance: {n_components}\")"
   ]
  },
  {
   "cell_type": "code",
   "execution_count": null,
   "metadata": {},
   "outputs": [],
   "source": []
  }
 ],
 "metadata": {
  "kernelspec": {
   "display_name": "Python 3",
   "language": "python",
   "name": "python3"
  },
  "language_info": {
   "codemirror_mode": {
    "name": "ipython",
    "version": 3
   },
   "file_extension": ".py",
   "mimetype": "text/x-python",
   "name": "python",
   "nbconvert_exporter": "python",
   "pygments_lexer": "ipython3",
   "version": "3.12.4"
  }
 },
 "nbformat": 4,
 "nbformat_minor": 2
}
