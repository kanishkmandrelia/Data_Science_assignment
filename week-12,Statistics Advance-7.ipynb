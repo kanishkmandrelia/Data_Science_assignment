{
 "cells": [
  {
   "cell_type": "markdown",
   "metadata": {},
   "source": [
    "#### Q1. Write a Python function that takes in two arrays of data and calculates the F-value for a variance ratio test. The function should return the F-value and the corresponding p-value for the test."
   ]
  },
  {
   "cell_type": "markdown",
   "metadata": {},
   "source": [
    "Ans."
   ]
  },
  {
   "cell_type": "code",
   "execution_count": 1,
   "metadata": {},
   "outputs": [
    {
     "name": "stdout",
     "output_type": "stream",
     "text": [
      "F-value: 2.4082, p-value: 0.0209\n"
     ]
    }
   ],
   "source": [
    "import numpy as np\n",
    "import scipy.stats as stats\n",
    "\n",
    "def f_test_variance(data1, data2):\n",
    "    var1 = np.var(data1, ddof=1)  # Unbiased variance (N-1 in denominator)\n",
    "    var2 = np.var(data2, ddof=1)\n",
    "\n",
    "    F_value = var1 / var2 if var1 > var2 else var2 / var1  # Ensure F > 1 for one-tailed test\n",
    "\n",
    "    df1 = len(data1) - 1\n",
    "    df2 = len(data2) - 1\n",
    "\n",
    "    p_value = 2 * (1 - stats.f.cdf(F_value, df1, df2))  # Two-tailed test\n",
    "\n",
    "    return F_value, p_value\n",
    "\n",
    "np.random.seed(42)\n",
    "data1 = np.random.normal(loc=50, scale=10, size=30)  # Dataset 1\n",
    "data2 = np.random.normal(loc=50, scale=15, size=30)  # Dataset 2\n",
    "\n",
    "F_stat, p_val = f_test_variance(data1, data2)\n",
    "print(f\"F-value: {F_stat:.4f}, p-value: {p_val:.4f}\")\n"
   ]
  },
  {
   "cell_type": "markdown",
   "metadata": {},
   "source": [
    "---"
   ]
  },
  {
   "cell_type": "markdown",
   "metadata": {},
   "source": [
    "#### Q2. Given a significance level of 0.05 and the degrees of freedom for the numerator and denominator of an F-distribution, write a Python function that returns the critical F-value for a two-tailed test."
   ]
  },
  {
   "cell_type": "markdown",
   "metadata": {},
   "source": [
    "Ans."
   ]
  },
  {
   "cell_type": "code",
   "execution_count": 2,
   "metadata": {},
   "outputs": [
    {
     "name": "stdout",
     "output_type": "stream",
     "text": [
      "Critical F-value: 2.7737\n"
     ]
    }
   ],
   "source": [
    "import scipy.stats as stats\n",
    "\n",
    "def critical_f_value(alpha, dfn, dfd):\n",
    "    F_critical = stats.f.ppf(1 - alpha / 2, dfn, dfd)\n",
    "    \n",
    "    return F_critical\n",
    "\n",
    "alpha = 0.05\n",
    "dfn = 10  # Numerator degrees of freedom\n",
    "dfd = 20  # Denominator degrees of freedom\n",
    "\n",
    "F_crit = critical_f_value(alpha, dfn, dfd)\n",
    "print(f\"Critical F-value: {F_crit:.4f}\")"
   ]
  },
  {
   "cell_type": "markdown",
   "metadata": {},
   "source": [
    "---"
   ]
  },
  {
   "cell_type": "markdown",
   "metadata": {},
   "source": [
    "#### Q3. Write a Python program that generates random samples from two normal distributions with known variances and uses an F-test to determine if the variances are equal. The program should output the F-value, degrees of freedom, and p-value for the test."
   ]
  },
  {
   "cell_type": "markdown",
   "metadata": {},
   "source": [
    "Ans."
   ]
  },
  {
   "cell_type": "code",
   "execution_count": 3,
   "metadata": {},
   "outputs": [
    {
     "name": "stdout",
     "output_type": "stream",
     "text": [
      "F-statistic: 1.6054\n",
      "Degrees of freedom: 29, 29\n",
      "P-value: 0.2084\n",
      "Fail to reject the null hypothesis: The variances are not significantly different.\n"
     ]
    }
   ],
   "source": [
    "import numpy as np\n",
    "import scipy.stats as stats\n",
    "\n",
    "def f_test_variance(sample1, sample2):\n",
    "    var1 = np.var(sample1, ddof=1)\n",
    "    var2 = np.var(sample2, ddof=1)\n",
    "\n",
    "    if var1 > var2:\n",
    "        F_statistic = var1 / var2\n",
    "        dfn, dfd = len(sample1) - 1, len(sample2) - 1\n",
    "    else:\n",
    "        F_statistic = var2 / var1\n",
    "        dfn, dfd = len(sample2) - 1, len(sample1) - 1\n",
    "\n",
    "    p_value = 2 * (1 - stats.f.cdf(F_statistic, dfn, dfd))\n",
    "\n",
    "    return F_statistic, dfn, dfd, p_value\n",
    "\n",
    "np.random.seed(42)  # For reproducibility\n",
    "sample_size = 30\n",
    "mean1, mean2 = 50, 50  # Same mean\n",
    "var1, var2 = 100, 150  # Different variances (variance = std_dev^2)\n",
    "\n",
    "sample1 = np.random.normal(mean1, np.sqrt(var1), sample_size)\n",
    "sample2 = np.random.normal(mean2, np.sqrt(var2), sample_size)\n",
    "\n",
    "F_stat, dfn, dfd, p_val = f_test_variance(sample1, sample2)\n",
    "\n",
    "print(f\"F-statistic: {F_stat:.4f}\")\n",
    "print(f\"Degrees of freedom: {dfn}, {dfd}\")\n",
    "print(f\"P-value: {p_val:.4f}\")\n",
    "\n",
    "alpha = 0.05\n",
    "if p_val < alpha:\n",
    "    print(\"Reject the null hypothesis: The variances are significantly different.\")\n",
    "else:\n",
    "    print(\"Fail to reject the null hypothesis: The variances are not significantly different.\")\n"
   ]
  },
  {
   "cell_type": "markdown",
   "metadata": {},
   "source": [
    "---"
   ]
  },
  {
   "cell_type": "markdown",
   "metadata": {},
   "source": [
    "#### Q4.The variances of two populations are known to be 10 and 15. A sample of 12 observations is taken from each population. Conduct an F-test at the 5% significance level to determine if the variances are significantly different."
   ]
  },
  {
   "cell_type": "markdown",
   "metadata": {},
   "source": [
    "Ans."
   ]
  },
  {
   "cell_type": "code",
   "execution_count": 4,
   "metadata": {},
   "outputs": [
    {
     "name": "stdout",
     "output_type": "stream",
     "text": [
      "F-statistic: 1.5000\n",
      "Degrees of freedom: 11, 11\n",
      "P-value: 0.5124\n",
      "Critical F-value: 3.4737\n",
      "Fail to reject the null hypothesis: The variances are not significantly different.\n"
     ]
    }
   ],
   "source": [
    "import scipy.stats as stats\n",
    "\n",
    "var1 = 10  # Population variance 1\n",
    "var2 = 15  # Population variance 2\n",
    "n1 = 12  # Sample size 1\n",
    "n2 = 12  # Sample size 2\n",
    "\n",
    "F_statistic = var2 / var1  # Ensure F >= 1\n",
    "dfn = n2 - 1  # Degrees of freedom for numerator\n",
    "dfd = n1 - 1  # Degrees of freedom for denominator\n",
    "\n",
    "p_value = 2 * (1 - stats.f.cdf(F_statistic, dfn, dfd))\n",
    "\n",
    "F_critical = stats.f.ppf(1 - 0.025, dfn, dfd)\n",
    "\n",
    "print(f\"F-statistic: {F_statistic:.4f}\")\n",
    "print(f\"Degrees of freedom: {dfn}, {dfd}\")\n",
    "print(f\"P-value: {p_value:.4f}\")\n",
    "print(f\"Critical F-value: {F_critical:.4f}\")\n",
    "\n",
    "alpha = 0.05\n",
    "if p_value < alpha:\n",
    "    print(\"Reject the null hypothesis: The variances are significantly different.\")\n",
    "else:\n",
    "    print(\"Fail to reject the null hypothesis: The variances are not significantly different.\")\n"
   ]
  },
  {
   "cell_type": "markdown",
   "metadata": {},
   "source": [
    "---"
   ]
  },
  {
   "cell_type": "markdown",
   "metadata": {},
   "source": [
    "#### Q5. A manufacturer claims that the variance of the diameter of a certain product is 0.005. A sample of 25 products is taken, and the sample variance is found to be 0.006. Conduct an F-test at the 1% significance level to determine if the claim is justified."
   ]
  },
  {
   "cell_type": "markdown",
   "metadata": {},
   "source": [
    "Ans."
   ]
  },
  {
   "cell_type": "code",
   "execution_count": 5,
   "metadata": {},
   "outputs": [
    {
     "name": "stdout",
     "output_type": "stream",
     "text": [
      "F-statistic: 1.2000\n",
      "Degrees of freedom: 24\n",
      "Lower Critical F-value: 0.3371\n",
      "Upper Critical F-value: 2.9667\n",
      "P-value: 0.6587\n",
      "Fail to reject the null hypothesis: The variance is not significantly different from the claimed value.\n"
     ]
    }
   ],
   "source": [
    "import scipy.stats as stats\n",
    "\n",
    "sample_variance = 0.006  # Sample variance\n",
    "claimed_variance = 0.005  # Population variance (claimed)\n",
    "n = 25  # Sample size\n",
    "\n",
    "F_statistic = sample_variance / claimed_variance\n",
    "df = n - 1  # Degrees of freedom\n",
    "\n",
    "alpha = 0.01\n",
    "F_critical_low = stats.f.ppf(alpha / 2, df, df)\n",
    "F_critical_high = stats.f.ppf(1 - alpha / 2, df, df)\n",
    "\n",
    "p_value = 2 * min(stats.f.cdf(F_statistic, df, df), 1 - stats.f.cdf(F_statistic, df, df))\n",
    "\n",
    "print(f\"F-statistic: {F_statistic:.4f}\")\n",
    "print(f\"Degrees of freedom: {df}\")\n",
    "print(f\"Lower Critical F-value: {F_critical_low:.4f}\")\n",
    "print(f\"Upper Critical F-value: {F_critical_high:.4f}\")\n",
    "print(f\"P-value: {p_value:.4f}\")\n",
    "\n",
    "if F_statistic < F_critical_low or F_statistic > F_critical_high:\n",
    "    print(\"Reject the null hypothesis: The variance is significantly different from the claimed value.\")\n",
    "else:\n",
    "    print(\"Fail to reject the null hypothesis: The variance is not significantly different from the claimed value.\")\n"
   ]
  },
  {
   "cell_type": "markdown",
   "metadata": {},
   "source": [
    "---"
   ]
  },
  {
   "cell_type": "markdown",
   "metadata": {},
   "source": [
    "#### Q6. Write a Python function that takes in the degrees of freedom for the numerator and denominator of an F-distribution and calculates the mean and variance of the distribution. The function should return the mean and variance as a tuple."
   ]
  },
  {
   "cell_type": "markdown",
   "metadata": {},
   "source": [
    "Ans."
   ]
  },
  {
   "cell_type": "code",
   "execution_count": 6,
   "metadata": {},
   "outputs": [
    {
     "name": "stdout",
     "output_type": "stream",
     "text": [
      "Mean: 1.2500\n",
      "Variance: 1.3542\n"
     ]
    }
   ],
   "source": [
    "def f_distribution_stats(df1, df2):\n",
    "    if df2 > 2:\n",
    "        mean = df2 / (df2 - 2)\n",
    "    else:\n",
    "        mean = float('nan')  # Undefined\n",
    "    \n",
    "    if df2 > 4:\n",
    "        variance = (2 * (df2 ** 2) * (df1 + df2 - 2)) / (df1 * (df2 - 2) ** 2 * (df2 - 4))\n",
    "    else:\n",
    "        variance = float('nan')  # Undefined\n",
    "\n",
    "    return mean, variance\n",
    "\n",
    "df1, df2 = 5, 10  # Example degrees of freedom\n",
    "mean, variance = f_distribution_stats(df1, df2)\n",
    "print(f\"Mean: {mean:.4f}\")\n",
    "print(f\"Variance: {variance:.4f}\")"
   ]
  },
  {
   "cell_type": "markdown",
   "metadata": {},
   "source": [
    "---"
   ]
  },
  {
   "cell_type": "markdown",
   "metadata": {},
   "source": [
    "#### Q7. A random sample of 10 measurements is taken from a normal population with unknown variance. The sample variance is found to be 25. Another random sample of 15 measurements is taken from another normal population with unknown variance, and the sample variance is found to be 20. Conduct an F-test at the 10% significance level to determine if the variances are significantly different."
   ]
  },
  {
   "cell_type": "markdown",
   "metadata": {},
   "source": [
    "Ans."
   ]
  },
  {
   "cell_type": "code",
   "execution_count": 7,
   "metadata": {},
   "outputs": [
    {
     "name": "stdout",
     "output_type": "stream",
     "text": [
      "F-statistic: 1.2500\n",
      "Degrees of freedom: 9, 14\n",
      "Lower Critical F-value: 0.3305\n",
      "Upper Critical F-value: 2.6458\n",
      "P-value: 0.6832\n",
      "Fail to reject the null hypothesis: The variances are not significantly different.\n"
     ]
    }
   ],
   "source": [
    "import scipy.stats as stats\n",
    "\n",
    "var1 = 25  # Sample variance 1 (larger)\n",
    "var2 = 20  # Sample variance 2 (smaller)\n",
    "n1 = 10  # Sample size 1\n",
    "n2 = 15  # Sample size 2\n",
    "\n",
    "F_statistic = var1 / var2\n",
    "df1 = n1 - 1  # Degrees of freedom for numerator\n",
    "df2 = n2 - 1  # Degrees of freedom for denominator\n",
    "\n",
    "alpha = 0.10\n",
    "F_critical_low = stats.f.ppf(alpha / 2, df1, df2)\n",
    "F_critical_high = stats.f.ppf(1 - alpha / 2, df1, df2)\n",
    "\n",
    "p_value = 2 * min(stats.f.cdf(F_statistic, df1, df2), 1 - stats.f.cdf(F_statistic, df1, df2))\n",
    "\n",
    "print(f\"F-statistic: {F_statistic:.4f}\")\n",
    "print(f\"Degrees of freedom: {df1}, {df2}\")\n",
    "print(f\"Lower Critical F-value: {F_critical_low:.4f}\")\n",
    "print(f\"Upper Critical F-value: {F_critical_high:.4f}\")\n",
    "print(f\"P-value: {p_value:.4f}\")\n",
    "\n",
    "if F_statistic < F_critical_low or F_statistic > F_critical_high:\n",
    "    print(\"Reject the null hypothesis: The variances are significantly different.\")\n",
    "else:\n",
    "    print(\"Fail to reject the null hypothesis: The variances are not significantly different.\")"
   ]
  },
  {
   "cell_type": "markdown",
   "metadata": {},
   "source": [
    "---"
   ]
  },
  {
   "cell_type": "markdown",
   "metadata": {},
   "source": [
    "#### Q8. The following data represent the waiting times in minutes at two different restaurants on a Saturday night: Restaurant A: 24, 25, 28, 23, 22, 20, 27; Restaurant B: 31, 33, 35, 30, 32, 36. Conduct an F-test at the 5% significance level to determine if the variances are significantly different."
   ]
  },
  {
   "cell_type": "markdown",
   "metadata": {},
   "source": [
    "Ans."
   ]
  },
  {
   "cell_type": "code",
   "execution_count": 8,
   "metadata": {},
   "outputs": [
    {
     "name": "stdout",
     "output_type": "stream",
     "text": [
      "Sample Variance (Restaurant A): 7.8095\n",
      "Sample Variance (Restaurant B): 5.3667\n",
      "F-statistic: 1.4552\n",
      "Degrees of freedom: 6, 5\n",
      "Lower Critical F-value: 0.1670\n",
      "Upper Critical F-value: 6.9777\n",
      "P-value: 0.6975\n",
      "Fail to reject the null hypothesis: The variances are not significantly different.\n"
     ]
    }
   ],
   "source": [
    "import numpy as np\n",
    "import scipy.stats as stats\n",
    "\n",
    "restaurant_A = np.array([24, 25, 28, 23, 22, 20, 27])\n",
    "restaurant_B = np.array([31, 33, 35, 30, 32, 36])\n",
    "\n",
    "var_A = np.var(restaurant_A, ddof=1)  # Sample variance (ddof=1 for unbiased estimator)\n",
    "var_B = np.var(restaurant_B, ddof=1)\n",
    "\n",
    "if var_A > var_B:\n",
    "    F_statistic = var_A / var_B\n",
    "    df1, df2 = len(restaurant_A) - 1, len(restaurant_B) - 1\n",
    "else:\n",
    "    F_statistic = var_B / var_A\n",
    "    df1, df2 = len(restaurant_B) - 1, len(restaurant_A) - 1\n",
    "\n",
    "alpha = 0.05\n",
    "F_critical_low = stats.f.ppf(alpha / 2, df1, df2)\n",
    "F_critical_high = stats.f.ppf(1 - alpha / 2, df1, df2)\n",
    "\n",
    "p_value = 2 * min(stats.f.cdf(F_statistic, df1, df2), 1 - stats.f.cdf(F_statistic, df1, df2))\n",
    "\n",
    "print(f\"Sample Variance (Restaurant A): {var_A:.4f}\")\n",
    "print(f\"Sample Variance (Restaurant B): {var_B:.4f}\")\n",
    "print(f\"F-statistic: {F_statistic:.4f}\")\n",
    "print(f\"Degrees of freedom: {df1}, {df2}\")\n",
    "print(f\"Lower Critical F-value: {F_critical_low:.4f}\")\n",
    "print(f\"Upper Critical F-value: {F_critical_high:.4f}\")\n",
    "print(f\"P-value: {p_value:.4f}\")\n",
    "\n",
    "if F_statistic < F_critical_low or F_statistic > F_critical_high:\n",
    "    print(\"Reject the null hypothesis: The variances are significantly different.\")\n",
    "else:\n",
    "    print(\"Fail to reject the null hypothesis: The variances are not significantly different.\")"
   ]
  },
  {
   "cell_type": "markdown",
   "metadata": {},
   "source": [
    "---"
   ]
  },
  {
   "cell_type": "markdown",
   "metadata": {},
   "source": [
    "#### Q9. The following data represent the test scores of two groups of students: Group A: 80, 85, 90, 92, 87, 83; Group B: 75, 78, 82, 79, 81, 84. Conduct an F-test at the 1% significance level to determine if the variances are significantly different."
   ]
  },
  {
   "cell_type": "markdown",
   "metadata": {},
   "source": [
    "Ans."
   ]
  },
  {
   "cell_type": "code",
   "execution_count": 9,
   "metadata": {},
   "outputs": [
    {
     "name": "stdout",
     "output_type": "stream",
     "text": [
      "Sample Variance (Group A): 19.7667\n",
      "Sample Variance (Group B): 10.1667\n",
      "F-statistic: 1.9443\n",
      "Degrees of freedom: 5, 5\n",
      "Lower Critical F-value: 0.0669\n",
      "Upper Critical F-value: 14.9396\n",
      "P-value: 0.4831\n",
      "Fail to reject the null hypothesis: The variances are not significantly different.\n"
     ]
    }
   ],
   "source": [
    "import numpy as np\n",
    "import scipy.stats as stats\n",
    "\n",
    "group_A = np.array([80, 85, 90, 92, 87, 83])\n",
    "group_B = np.array([75, 78, 82, 79, 81, 84])\n",
    "\n",
    "var_A = np.var(group_A, ddof=1)  # Sample variance (ddof=1 for unbiased estimator)\n",
    "var_B = np.var(group_B, ddof=1)\n",
    "\n",
    "if var_A > var_B:\n",
    "    F_statistic = var_A / var_B\n",
    "    df1, df2 = len(group_A) - 1, len(group_B) - 1\n",
    "else:\n",
    "    F_statistic = var_B / var_A\n",
    "    df1, df2 = len(group_B) - 1, len(group_A) - 1\n",
    "\n",
    "alpha = 0.01\n",
    "F_critical_low = stats.f.ppf(alpha / 2, df1, df2)\n",
    "F_critical_high = stats.f.ppf(1 - alpha / 2, df1, df2)\n",
    "\n",
    "p_value = 2 * min(stats.f.cdf(F_statistic, df1, df2), 1 - stats.f.cdf(F_statistic, df1, df2))\n",
    "\n",
    "print(f\"Sample Variance (Group A): {var_A:.4f}\")\n",
    "print(f\"Sample Variance (Group B): {var_B:.4f}\")\n",
    "print(f\"F-statistic: {F_statistic:.4f}\")\n",
    "print(f\"Degrees of freedom: {df1}, {df2}\")\n",
    "print(f\"Lower Critical F-value: {F_critical_low:.4f}\")\n",
    "print(f\"Upper Critical F-value: {F_critical_high:.4f}\")\n",
    "print(f\"P-value: {p_value:.4f}\")\n",
    "\n",
    "if F_statistic < F_critical_low or F_statistic > F_critical_high:\n",
    "    print(\"Reject the null hypothesis: The variances are significantly different.\")\n",
    "else:\n",
    "    print(\"Fail to reject the null hypothesis: The variances are not significantly different.\")"
   ]
  },
  {
   "cell_type": "markdown",
   "metadata": {},
   "source": []
  }
 ],
 "metadata": {
  "kernelspec": {
   "display_name": "Python 3",
   "language": "python",
   "name": "python3"
  },
  "language_info": {
   "codemirror_mode": {
    "name": "ipython",
    "version": 3
   },
   "file_extension": ".py",
   "mimetype": "text/x-python",
   "name": "python",
   "nbconvert_exporter": "python",
   "pygments_lexer": "ipython3",
   "version": "3.11.5"
  }
 },
 "nbformat": 4,
 "nbformat_minor": 2
}
