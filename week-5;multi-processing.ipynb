{
 "cells": [
  {
   "cell_type": "markdown",
   "metadata": {},
   "source": [
    "### 1. What is multiprocessing in python? Why is it useful? "
   ]
  },
  {
   "cell_type": "markdown",
   "metadata": {},
   "source": [
    "Ans."
   ]
  },
  {
   "cell_type": "markdown",
   "metadata": {},
   "source": [
    "Multiprocessing in Python refers to the capability of the language to create and run multiple processes concurrently. Each process runs independently and has its own memory space, allowing parallel execution of tasks. The multiprocessing module in Python provides a framework for creating and managing multiple processes.\n",
    "\n",
    "Multiprocessing is useful in Python:\n",
    "\n",
    "1. Parallelism: Multiprocessing allows Python programs to take advantage of multiple CPU cores, enabling parallel execution of tasks. This can significantly improve performance and reduce the time required to complete computationally intensive tasks.\n",
    "\n",
    "2. Improved Performance: CPU-bound tasks, such as heavy calculations or simulations, benefit from multiprocessing as it allows the workload to be distributed among multiple processes, making better use of available hardware resources.\n",
    "\n",
    "3. Concurrency: Multiprocessing is particularly useful for handling concurrent tasks. Different processes can execute independently, leading to better responsiveness and efficiency, especially in scenarios with tasks that can be executed simultaneously.\n",
    "\n",
    "4. Isolation: Each process has its own memory space, reducing the likelihood of data corruption due to shared state. This isolation makes it easier to reason about and debug the behavior of individual processes.\n",
    "\n",
    "5. Fault Tolerance: If one process encounters an error or crashes, it typically does not affect other processes. This enhances the robustness of the overall application, as failures in one part of the program do not necessarily lead to the failure of the entire program.\n",
    "\n",
    "6. Scalability: Multiprocessing allows for scalable solutions, as the program can scale with the number of available CPU cores. This is essential for applications dealing with large datasets or complex computations.\n",
    "\n",
    "7. Distributed Computing: Multiprocessing can be extended to distributed systems, where processes run on different machines. This enables the creation of more scalable and distributed applications."
   ]
  },
  {
   "cell_type": "markdown",
   "metadata": {},
   "source": [
    "---"
   ]
  },
  {
   "cell_type": "markdown",
   "metadata": {},
   "source": [
    "### 2.  What are the differences between multiprocessing and multithreading?"
   ]
  },
  {
   "cell_type": "markdown",
   "metadata": {},
   "source": [
    "Ans."
   ]
  },
  {
   "cell_type": "markdown",
   "metadata": {},
   "source": [
    "1. Execution:\n",
    "   - Multiprocessing: Involves the execution of multiple processes, each with its own memory space. Processes run independently and may communicate via inter-process communication mechanisms.\n",
    "   - Multithreading: Involves the execution of multiple threads within the same process. Threads share the same memory space, and communication is typically easier but requires synchronization to avoid race conditions.  \n",
    "\n",
    "2. Isolation:\n",
    "   - *Multiprocessing:* Processes are isolated from each other, meaning each process has its own memory space. Changes in one process do not affect others.\n",
    "   - *Multithreading:* Threads within the same process share the same memory space. Changes to shared data can affect the behavior of other threads, leading to potential race conditions.\n",
    "\n",
    "3. Communication:\n",
    "   - *Multiprocessing:* Communication between processes often involves more explicit mechanisms such as inter-process communication (IPC), which can include methods like pipes, queues, and shared memory.\n",
    "   - *Multithreading:* Communication between threads is generally easier, as they share the same memory space. However, developers must use synchronization mechanisms to prevent race conditions.\n",
    "\n",
    "4. Overhead:\n",
    "   - *Multiprocessing:* Typically incurs higher overhead due to separate memory spaces and the need for inter-process communication.\n",
    "   - *Multithreading:* Generally has lower overhead compared to multiprocessing because threads share the same memory space. However, synchronization mechanisms may introduce some overhead.\n",
    "\n",
    "5. Resource Usage:\n",
    "   - *Multiprocessing:* Involves the creation of separate processes, which may consume more system resources. Suitable for CPU-bound tasks that can benefit from parallelism.\n",
    "   - *Multithreading:* Threads share resources within the same process, which can lead to more efficient resource utilization. Suitable for I/O-bound tasks where parallel execution can enhance responsiveness.\n",
    "\n",
    "6. Scalability:\n",
    "   - *Multiprocessing:* Scales well with the number of available CPU cores, making it suitable for parallelizing CPU-intensive tasks.\n",
    "   - *Multithreading:* Scales well for tasks that involve I/O operations or tasks that can be parallelized within the constraints of the Global Interpreter Lock (GIL) in CPython.\n",
    "\n",
    "7. GIL (Global Interpreter Lock):\n",
    "   - *Multiprocessing:* Each process has its own interpreter and is not affected by the GIL. Multiple processes can run Python code in parallel.\n",
    "   - *Multithreading:* Limited by the GIL, which allows only one thread to execute Python bytecode at a time. This can impact the performance of CPU-bound tasks."
   ]
  },
  {
   "cell_type": "markdown",
   "metadata": {},
   "source": [
    "---"
   ]
  },
  {
   "cell_type": "markdown",
   "metadata": {},
   "source": [
    "### 3. Write a python code to create a process using the multiprocessing module."
   ]
  },
  {
   "cell_type": "markdown",
   "metadata": {},
   "source": [
    "Ans."
   ]
  },
  {
   "cell_type": "code",
   "execution_count": 1,
   "metadata": {},
   "outputs": [
    {
     "name": "stdout",
     "output_type": "stream",
     "text": [
      "Main process continues.\n"
     ]
    }
   ],
   "source": [
    "import multiprocessing\n",
    "\n",
    "def print_message():\n",
    "    print(\"This is a message from a multiprocessing.\")\n",
    "\n",
    "if __name__ == \"__main__\":\n",
    "    process = multiprocessing.Process(target=print_message)\n",
    "\n",
    "    process.start()\n",
    "    process.join()\n",
    "    \n",
    "    print(\"Main process continues.\")"
   ]
  },
  {
   "cell_type": "markdown",
   "metadata": {},
   "source": [
    "---"
   ]
  },
  {
   "cell_type": "markdown",
   "metadata": {},
   "source": [
    "### 4. What is a multiprocessing pool in python? Why is it used?"
   ]
  },
  {
   "cell_type": "markdown",
   "metadata": {},
   "source": [
    "Ans."
   ]
  },
  {
   "cell_type": "markdown",
   "metadata": {},
   "source": [
    "A multiprocessing pool\" is a mechanism provided by the \"multiprocessing\" module for parallelizing the execution of a function across multiple input values. It involves creating a pool of worker processes that can execute tasks concurrently. The primary class used for this purpose is \"multiprocessing.Pool\"."
   ]
  },
  {
   "cell_type": "markdown",
   "metadata": {},
   "source": [
    "Use Cases:\n",
    "\n",
    "Multiprocessing pools are particularly useful for tasks that can be easily parallelized, such as:  \n",
    "i. CPU-bound computations.  \n",
    "ii. Embarrassingly parallel problems (tasks that can be divided into independent subtasks)\n",
    "\n",
    "Using a multiprocessing pool can lead to significant performance improvements in scenarios where parallelization is beneficial"
   ]
  },
  {
   "cell_type": "markdown",
   "metadata": {},
   "source": [
    "---"
   ]
  },
  {
   "cell_type": "markdown",
   "metadata": {},
   "source": [
    "### 5. How can we create a pool of worker processes in python using the multiprocessing module?"
   ]
  },
  {
   "cell_type": "markdown",
   "metadata": {},
   "source": [
    "Ans."
   ]
  },
  {
   "cell_type": "code",
   "execution_count": 2,
   "metadata": {},
   "outputs": [],
   "source": [
    "import multiprocessing\n",
    "\n",
    "def square(n):\n",
    "    return n ** 2\n",
    "\n",
    "def main():\n",
    "    num_processes = 4\n",
    "\n",
    "    with multiprocessing.Pool(processes=num_processes) as pool:\n",
    "        numbers = [1, 2, 3, 4, 5]\n",
    "        results = pool.map(square, numbers)\n",
    "\n",
    "    print(\"Squared numbers:\", results)\n",
    "\n",
    "if __name__ == \"__main__\":\n",
    "    main()"
   ]
  },
  {
   "cell_type": "markdown",
   "metadata": {},
   "source": [
    "---"
   ]
  },
  {
   "cell_type": "markdown",
   "metadata": {},
   "source": [
    "### 6.  Write a python program to create 4 processes, each process should print a different number using the multiprocessing module in python."
   ]
  },
  {
   "cell_type": "code",
   "execution_count": 1,
   "metadata": {},
   "outputs": [],
   "source": [
    "import multiprocessing\n",
    "\n",
    "def print_number(number):\n",
    "    print(f\"Process {number}: {number}\")\n",
    "\n",
    "if __name__ == \"__main__\":\n",
    "    processes = []\n",
    "\n",
    "    for i in range(1, 5):\n",
    "        process = multiprocessing.Process(target=print_number, args=(i,))\n",
    "        processes.append(process)\n",
    "        process.start()\n",
    "\n",
    "    for process in processes:\n",
    "        process.join()"
   ]
  },
  {
   "cell_type": "code",
   "execution_count": null,
   "metadata": {},
   "outputs": [],
   "source": []
  }
 ],
 "metadata": {
  "kernelspec": {
   "display_name": "Python 3",
   "language": "python",
   "name": "python3"
  },
  "language_info": {
   "codemirror_mode": {
    "name": "ipython",
    "version": 3
   },
   "file_extension": ".py",
   "mimetype": "text/x-python",
   "name": "python",
   "nbconvert_exporter": "python",
   "pygments_lexer": "ipython3",
   "version": "3.11.5"
  }
 },
 "nbformat": 4,
 "nbformat_minor": 2
}
