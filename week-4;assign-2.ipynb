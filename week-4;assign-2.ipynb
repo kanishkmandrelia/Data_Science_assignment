{
 "cells": [
  {
   "cell_type": "markdown",
   "id": "56925a57-4223-4477-b34e-b57855600266",
   "metadata": {},
   "source": [
    "Q1. What is Abstraction in OOps? Explain with an example."
   ]
  },
  {
   "cell_type": "markdown",
   "id": "b232749e-0763-4e89-a5f7-818dc63bd427",
   "metadata": {},
   "source": [
    "Ans."
   ]
  },
  {
   "cell_type": "markdown",
   "id": "4348e6a6-27f5-48fa-82aa-ce7a53defeab",
   "metadata": {},
   "source": [
    "Abstraction is one of the four pillars of object-oriented programming (OOP). It is the process of hiding the unnecessary details of an object from the user. This allows the user to focus on the essential features of the object without having to worry about its implementation details."
   ]
  },
  {
   "cell_type": "code",
   "execution_count": 1,
   "id": "45d9aeea-4f20-4c13-9e45-d3fb1d66aa5c",
   "metadata": {},
   "outputs": [],
   "source": [
    "import abc\n",
    "\n",
    "class pwskills:\n",
    "    \n",
    "    @abc.abstractmethod\n",
    "    def students_details(self):\n",
    "        pass\n",
    "    \n",
    "    @abc.abstractmethod\n",
    "    def students_assignment(self):\n",
    "        pass\n",
    "    \n",
    "    @abc.abstractmethod\n",
    "    def students_marks(self):\n",
    "        pass"
   ]
  },
  {
   "cell_type": "code",
   "execution_count": 2,
   "id": "36306c7a-7449-4f4a-b099-4814077146b3",
   "metadata": {},
   "outputs": [],
   "source": [
    "class stu_details(pwskills):\n",
    "    def students_details(self):\n",
    "        return \"This is a method for taking students details\"\n",
    "    def students_assignment(self):\n",
    "        return \"This is a method for assignment details for a particular student\""
   ]
  },
  {
   "cell_type": "code",
   "execution_count": 3,
   "id": "4cf7f951-e355-47e6-acaa-5a6225669c86",
   "metadata": {},
   "outputs": [],
   "source": [
    "class DS_Masters(pwskills):\n",
    "    def students_details(self):\n",
    "        return \"This will return a student details for Data Science\"\n",
    "    def students_assignment(self):\n",
    "        return \"This will give you a student assignment details for Data Science Masters\""
   ]
  },
  {
   "cell_type": "code",
   "execution_count": 4,
   "id": "19732d31-331d-47ed-97ba-46f3a45df0db",
   "metadata": {},
   "outputs": [
    {
     "data": {
      "text/plain": [
       "'This will return a student details for Data Science'"
      ]
     },
     "execution_count": 4,
     "metadata": {},
     "output_type": "execute_result"
    }
   ],
   "source": [
    "dsm=DS_Masters()\n",
    "dsm.students_details()"
   ]
  },
  {
   "cell_type": "code",
   "execution_count": 5,
   "id": "beb76af4-270b-465b-abb8-544bf0768c40",
   "metadata": {},
   "outputs": [
    {
     "data": {
      "text/plain": [
       "'This is a method for taking students details'"
      ]
     },
     "execution_count": 5,
     "metadata": {},
     "output_type": "execute_result"
    }
   ],
   "source": [
    "sd=stu_details()\n",
    "sd.students_details()"
   ]
  },
  {
   "cell_type": "markdown",
   "id": "4b97331f-b65c-4b4b-8959-36692db9be14",
   "metadata": {},
   "source": [
    "---"
   ]
  },
  {
   "cell_type": "markdown",
   "id": "56f38968-d083-4d55-96b8-9aa97a1fe712",
   "metadata": {},
   "source": [
    "Q2. Differentiate between Abstraction and Encapsulation. Explain with an example."
   ]
  },
  {
   "cell_type": "markdown",
   "id": "471c38f0-98ab-4d7c-9ac8-f81f937a4768",
   "metadata": {},
   "source": [
    "Ans."
   ]
  },
  {
   "cell_type": "markdown",
   "id": "03cbf3b3-32fd-4dda-8b86-e88ce0de75bc",
   "metadata": {},
   "source": [
    "Abstraction is the process of hiding the unnecessary details of an object from the user. This allows the user to focus on the essential features of the object without having to worry about its implementation details.  \n",
    "Encapsulation is the process of grouping data and methods together into a single unit. This makes it easier to maintain and update the code, as changes to the data or methods only need to be made in one place."
   ]
  },
  {
   "cell_type": "code",
   "execution_count": 6,
   "id": "9de0e4d9-62f9-4f9f-ada2-1e779fe45a43",
   "metadata": {},
   "outputs": [],
   "source": [
    "class car():\n",
    "    def __init__(self, year, make, model, speed):\n",
    "        self.__year= year\n",
    "        self.__make=make\n",
    "        self.__module=model\n",
    "        self.__speed=0\n",
    "        \n",
    "    def set_speed(self, speed):\n",
    "        self.__speed=0 if speed<0 else speed\n",
    "        \n",
    "    def get_speed(self):\n",
    "        return self.__speed"
   ]
  },
  {
   "cell_type": "code",
   "execution_count": 7,
   "id": "1515e19e-edcf-4754-b901-3ffbdac57e8f",
   "metadata": {},
   "outputs": [],
   "source": [
    "c=car(2021,\"toyota\",\"Inova\",12)"
   ]
  },
  {
   "cell_type": "code",
   "execution_count": 8,
   "id": "4b964815-c1db-4df5-b48e-ee6a2624fdcd",
   "metadata": {},
   "outputs": [
    {
     "data": {
      "text/plain": [
       "2021"
      ]
     },
     "execution_count": 8,
     "metadata": {},
     "output_type": "execute_result"
    }
   ],
   "source": [
    "c._car__year"
   ]
  },
  {
   "cell_type": "code",
   "execution_count": 9,
   "id": "dfb669b0-5f9d-4ca3-aabb-226e80830bba",
   "metadata": {},
   "outputs": [],
   "source": [
    "c.set_speed(29)"
   ]
  },
  {
   "cell_type": "code",
   "execution_count": 10,
   "id": "bdcb58a4-fd77-496d-8104-10ed2e97648e",
   "metadata": {},
   "outputs": [
    {
     "data": {
      "text/plain": [
       "29"
      ]
     },
     "execution_count": 10,
     "metadata": {},
     "output_type": "execute_result"
    }
   ],
   "source": [
    "c.get_speed()"
   ]
  },
  {
   "cell_type": "markdown",
   "id": "3c2fb526-d31c-4aa0-81c9-d27ec9d9e897",
   "metadata": {},
   "source": [
    "---"
   ]
  },
  {
   "cell_type": "markdown",
   "id": "f2f729fc-4eb2-44e3-967d-7dcf9e4d14d3",
   "metadata": {},
   "source": [
    "Q3. What is abc module in python? Why is it used?"
   ]
  },
  {
   "cell_type": "markdown",
   "id": "8f7df954-ba51-4e09-885b-fa0d3b19268a",
   "metadata": {},
   "source": [
    "Ans."
   ]
  },
  {
   "cell_type": "markdown",
   "id": "c5379c65-b19c-41e1-835e-6567a19cb259",
   "metadata": {},
   "source": [
    "The 'abc' module in Python is used to define abstract base classes (ABCs). ABCs are classes that cannot be instantiated, but they can be inherited from by other classes. This allows us to define the common interface for a group of classes without having to worry about the implementation details."
   ]
  },
  {
   "cell_type": "markdown",
   "id": "63981690-9e95-4cb3-8286-e51c55d10238",
   "metadata": {},
   "source": [
    "Uses of 'abc' module:  \n",
    "1. The 'abc' module can be used to enforce the common interface for a group of classes.\n",
    "2. The 'abc' module can be used to define reusable ABCs that can be used in different projects, which can save time and effort for new code.\n",
    "3. Help to improve the readability and maintainability of code by making it easier to understand the relationships between different classes."
   ]
  },
  {
   "cell_type": "markdown",
   "id": "d7137beb-c67f-4f4b-acd6-affda407861c",
   "metadata": {},
   "source": [
    "---"
   ]
  },
  {
   "cell_type": "markdown",
   "id": "3caaffe0-bd53-429b-9918-44ed7fdf118d",
   "metadata": {},
   "source": [
    "Q4. How can we achieve data abstraction?"
   ]
  },
  {
   "cell_type": "markdown",
   "id": "bd224870-0a12-4fc7-aed5-aac2905098fc",
   "metadata": {},
   "source": [
    "Ans."
   ]
  },
  {
   "cell_type": "markdown",
   "id": "1305c7ac-7be7-47ee-8d24-a768f04fb1c5",
   "metadata": {},
   "source": [
    "There are two main ways to achieve data abstraction in Python:\n",
    "\n",
    "1. Using abstract base classes (ABCs): ABCs are classes that cannot be instantiated, but they can be inherited from by other classes. This allows us to define the common interface for a group of classes without having to worry about the implementation details.\n",
    "2. Using encapsulation: Encapsulation is the process of hiding the implementation details of an object from the user. This can be done by using private attributes and methods."
   ]
  },
  {
   "cell_type": "markdown",
   "id": "46a2c885-20a9-4000-91ca-b8277d21832e",
   "metadata": {},
   "source": [
    "---"
   ]
  },
  {
   "cell_type": "markdown",
   "id": "84e440b9-ff62-4134-9a6f-2c229fe38b59",
   "metadata": {},
   "source": [
    "Q5. Can we create an instance of an abstract class? Explain your answer."
   ]
  },
  {
   "cell_type": "markdown",
   "id": "c5324ce1-699d-4383-842c-6af2941ec8cb",
   "metadata": {},
   "source": [
    "Ans."
   ]
  },
  {
   "cell_type": "markdown",
   "id": "232d5aa5-4927-4006-abb3-0da5218e211b",
   "metadata": {},
   "source": [
    "No, we cannot create an instance of an abstract class in Python. Abstract classes are used to define the common interface for a group of classes."
   ]
  },
  {
   "cell_type": "code",
   "execution_count": null,
   "id": "59267415-9705-4f75-9cc7-b42b990a9f37",
   "metadata": {},
   "outputs": [],
   "source": []
  }
 ],
 "metadata": {
  "kernelspec": {
   "display_name": "Python 3 (ipykernel)",
   "language": "python",
   "name": "python3"
  },
  "language_info": {
   "codemirror_mode": {
    "name": "ipython",
    "version": 3
   },
   "file_extension": ".py",
   "mimetype": "text/x-python",
   "name": "python",
   "nbconvert_exporter": "python",
   "pygments_lexer": "ipython3",
   "version": "3.10.8"
  }
 },
 "nbformat": 4,
 "nbformat_minor": 5
}
