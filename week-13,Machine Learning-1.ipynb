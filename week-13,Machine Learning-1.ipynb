{
 "cells": [
  {
   "cell_type": "markdown",
   "metadata": {},
   "source": [
    "#### Q1: Explain the following with an example:  1) Artificial Intelligence  2) Machine Learning  3) Deep Learning"
   ]
  },
  {
   "cell_type": "markdown",
   "metadata": {},
   "source": [
    "Ans."
   ]
  },
  {
   "cell_type": "markdown",
   "metadata": {},
   "source": [
    "1) Artificial Intelligence (AI):  \n",
    "- AI is a broad field of computer science that focuses on creating machines that can mimic human intelligence. It includes rule-based systems, decision-making, problem-solving, and learning from data.\n",
    "- Example:  \n",
    "  1. A chatbot like ChatGPT that can answer questions, generate text, and assist in conversations.  \n",
    "  2. Virtual assistants like Siri or Alexa that understand voice commands and perform tasks."
   ]
  },
  {
   "cell_type": "markdown",
   "metadata": {},
   "source": [
    "---"
   ]
  },
  {
   "cell_type": "markdown",
   "metadata": {},
   "source": [
    "#### Q2: What is supervised learning? List some examples of supervised learning."
   ]
  },
  {
   "cell_type": "markdown",
   "metadata": {},
   "source": [
    "Ans."
   ]
  },
  {
   "cell_type": "markdown",
   "metadata": {},
   "source": [
    "**Supervised Learning:**  \n",
    "- Supervised learning is a type of machine learning where a model is trained using labeled data. The algorithm learns the relationship between input (features) and output (labels) and makes predictions for new, unseen data.\n",
    "- How It Works:\n",
    "  - The dataset consists of input-output pairs (e.g., images of cats labeled as \"cat\" or \"dog\").\n",
    "  - The model learns patterns from this labeled data.\n",
    "  - After training, the model can predict outputs for new inputs."
   ]
  },
  {
   "cell_type": "markdown",
   "metadata": {},
   "source": [
    "**Examples of Supervised Learning:**  \n",
    "1.Classification (Predicting Categories)\n",
    "- Spam Detection → Email is classified as \"Spam\" or \"Not Spam.\"\n",
    "- Face Recognition → Identifies a person in an image.\n",
    "- Sentiment Analysis → Analyzes if a review is \"Positive\" or \"Negative.\"  \n",
    "\n",
    "2.Regression (Predicting Continuous Values)\n",
    "- House Price Prediction → Predicts the price of a house based on size, location, and features.\n",
    "- Stock Market Prediction → Estimates future stock prices based on historical data.\n",
    "- Weather Forecasting → Predicts temperature or rainfall based on past climate data."
   ]
  },
  {
   "cell_type": "markdown",
   "metadata": {},
   "source": [
    "---"
   ]
  },
  {
   "cell_type": "markdown",
   "metadata": {},
   "source": [
    "#### Q3: What is unsupervised learning? List some examples of unsupervised learning."
   ]
  },
  {
   "cell_type": "markdown",
   "metadata": {},
   "source": [
    "Ans."
   ]
  },
  {
   "cell_type": "markdown",
   "metadata": {},
   "source": [
    "**Unsupervised Learning:**\n",
    "- Unsupervised learning is a type of machine learning where a model is trained on unlabeled data. The algorithm identifies patterns, structures, or relationships in the data without predefined labels or outputs.\n",
    "- How It Works:  \n",
    "  - The dataset contains only input features, without labeled outputs.\n",
    "  - The model groups similar data points or detects hidden patterns.\n",
    "  - It is commonly used for clustering, anomaly detection, and dimensionality reduction."
   ]
  },
  {
   "cell_type": "markdown",
   "metadata": {},
   "source": [
    "**Examples of Unsupervised Learning:**  \n",
    "\n",
    "1.Clustering (Grouping Similar Data)  \n",
    "- Customer Segmentation → Businesses group customers based on purchasing behavior.\n",
    "- Image Segmentation → Identifying objects in an image (e.g., separating cars, people, buildings).\n",
    "- Document Clustering → Categorizing news articles by topic without predefined labels.  \n",
    "\n",
    "2.Anomaly Detection (Finding Unusual Patterns)  \n",
    "- Fraud Detection → Identifying unusual credit card transactions.\n",
    "- Network Security → Detecting suspicious behavior in network traffic.\n",
    "- Medical Diagnosis → Finding rare diseases based on unusual patient records.  \n",
    "\n",
    "3.Dimensionality Reduction (Simplifying Data)  \n",
    "- Principal Component Analysis (PCA) → Reducing the number of features in high-dimensional datasets.\n",
    "- Autoencoders → Compressing and reconstructing images to remove noise."
   ]
  },
  {
   "cell_type": "markdown",
   "metadata": {},
   "source": [
    "---"
   ]
  },
  {
   "cell_type": "markdown",
   "metadata": {},
   "source": [
    "#### Q4: What is the difference between AI, ML, DL, and DS?"
   ]
  },
  {
   "cell_type": "markdown",
   "metadata": {},
   "source": [
    "Ans."
   ]
  },
  {
   "cell_type": "markdown",
   "metadata": {},
   "source": [
    "**AI**:\n",
    "- Definition: AI is the broader concept of machines simulating human intelligence.  \n",
    "- Scope: Encompasses rule-based systems, ML, DL, and other intelligent behaviors.  \n",
    "- Approach: Can use rule-based logic, heuristics, and ML/DL.  \n",
    "- Computation: Low to high, depending on the system.  \n",
    "- Examples: Virtual assistants (Siri, Alexa), chatbots, robotics."
   ]
  },
  {
   "cell_type": "markdown",
   "metadata": {},
   "source": [
    "**ML**:\n",
    "- Definition: ML is a subset of AI that enables machines to learn from data without explicit programming.  \n",
    "- Scope: Focuses on learning patterns and making predictions from data.  \n",
    "- Approach: Uses algorithms like decision trees, regression, and clustering.  \n",
    "- Computation: Medium, depending on algorithm complexity.  \n",
    "- Examples: Spam filters, recommendation systems, fraud detection."
   ]
  },
  {
   "cell_type": "markdown",
   "metadata": {},
   "source": [
    "**DL**:\n",
    "- Definition: DL is a subset of ML that uses deep neural networks to learn complex patterns.  \n",
    "- Scope: Focuses on training deep neural networks with large data.  \n",
    "- Approach: Uses deep neural networks with multiple layers.  \n",
    "- Computation: Very high due to large neural networks.  \n",
    "- Examples: Self-driving cars, facial recognition, voice assistants."
   ]
  },
  {
   "cell_type": "markdown",
   "metadata": {},
   "source": [
    "**DS**:\n",
    "- Definition: DS is the process of extracting insights from structured and unstructured data using AI/ML, statistics, and data processing techniques.  \n",
    "- Scope: Deals with collecting, cleaning, analyzing, and visualizing data for decision-making.  \n",
    "- Approach: Uses statistical analysis, ML, and visualization tools.  \n",
    "- Computation: Medium to high, depending on data size.  \n",
    "- Examples: Business analytics, healthcare data analysis, financial forecasting."
   ]
  },
  {
   "cell_type": "markdown",
   "metadata": {},
   "source": [
    "---"
   ]
  },
  {
   "cell_type": "markdown",
   "metadata": {},
   "source": [
    "#### Q5: What are the main differences between supervised, unsupervised, and semi-supervised learning?"
   ]
  },
  {
   "cell_type": "markdown",
   "metadata": {},
   "source": [
    "Ans."
   ]
  },
  {
   "cell_type": "markdown",
   "metadata": {},
   "source": [
    "**Supervised Learning:**  \n",
    "- Definition: Learning from labeled data, where each input has a corresponding output.  \n",
    "- Data Requirement: Requires fully labeled datasets (e.g., images labeled as \"cat\" or \"dog\").  \n",
    "- Objective: Predict outputs based on labeled training data.  \n",
    "- Algorithms: Decision Trees, Random Forest, Neural Networks, Logistic Regression.  \n",
    "- Example: Classification (spam detection, disease diagnosis), Regression (house price prediction)."
   ]
  },
  {
   "cell_type": "markdown",
   "metadata": {},
   "source": [
    "**Unsupervised Learning:**  \n",
    "- Definition: Learning from unlabeled data, where the model finds patterns without predefined labels.  \n",
    "- Data Requirement: Uses only input features, without labels (e.g., customer purchasing patterns).  \n",
    "- Objective: Identify hidden patterns or relationships in the data.  \n",
    "- Algorithms: K-Means, DBSCAN, Hierarchical Clustering, PCA, Autoencoders.  \n",
    "- Example: Clustering (customer segmentation, anomaly detection), Dimensionality Reduction (PCA)."
   ]
  },
  {
   "cell_type": "markdown",
   "metadata": {},
   "source": [
    "**Semi - supervised Learning:**  \n",
    "- Definition: Learning from a small amount of labeled data and a large amount of unlabeled data.  \n",
    "- Data Requirement: Uses both labeled and unlabeled data, reducing labeling effort.  \n",
    "- Objective: Identify hidden patterns or relationships in the data.  \n",
    "- Algorithms: Self-training, Graph-based methods, Variational Autoencoders (VAEs).  \n",
    "- Example: Speech recognition, fraud detection, medical image analysis.  "
   ]
  },
  {
   "cell_type": "markdown",
   "metadata": {},
   "source": [
    "---"
   ]
  },
  {
   "cell_type": "markdown",
   "metadata": {},
   "source": [
    "#### Q6: What is train, test and validation split? Explain the importance of each term."
   ]
  },
  {
   "cell_type": "markdown",
   "metadata": {},
   "source": [
    "Ans."
   ]
  },
  {
   "cell_type": "markdown",
   "metadata": {},
   "source": [
    "1.Training Set (Train Data)\n",
    "- Purpose:\n",
    "  - Used to train the model by learning patterns and relationships in the data.\n",
    "  - The model adjusts its parameters based on this data.\n",
    "- Importance:  \n",
    "  - A larger training set improves the model’s ability to learn effectively.\n",
    "  - If the model is undertrained, it may fail to capture important features.\n",
    "- Example:\n",
    "  - In a spam detection model, emails labeled as \"spam\" or \"not spam\" are used to train the model."
   ]
  },
  {
   "cell_type": "markdown",
   "metadata": {},
   "source": [
    "2.Validation Set (Validation Data)  \n",
    "- Purpose:\n",
    "  - Used to tune hyperparameters and evaluate model performance during training.\n",
    "  - Helps prevent overfitting, ensuring the model doesn’t just memorize training data.\n",
    "- Importance:  \n",
    "  - Helps select the best model by comparing different parameter settings.\n",
    "  - Used in techniques like cross-validation to get a more reliable performance estimate.\n",
    "- Example: \n",
    "  - A neural network might adjust learning rates, number of layers, or dropout rates using validation data."
   ]
  },
  {
   "cell_type": "markdown",
   "metadata": {},
   "source": [
    "3) Test Set (Test Data)  \n",
    "- Purpose: \n",
    "  - Used only once after training and validation to evaluate the model’s final performance on unseen data.\n",
    "  - Measures the model’s ability to generalize to real-world scenarios.\n",
    "- Importance:  \n",
    "  - Ensures the model is not biased toward the training or validation sets.\n",
    "  - Provides an objective performance measure before deployment.\n",
    "- Example:  \n",
    "  - A fraud detection model is tested on new transactions to check accuracy before use in a real banking system."
   ]
  },
  {
   "cell_type": "markdown",
   "metadata": {},
   "source": [
    "---"
   ]
  },
  {
   "cell_type": "markdown",
   "metadata": {},
   "source": [
    "#### Q7: How can unsupervised learning be used in anomaly detection?"
   ]
  },
  {
   "cell_type": "markdown",
   "metadata": {},
   "source": [
    "Ans."
   ]
  },
  {
   "cell_type": "markdown",
   "metadata": {},
   "source": [
    "**Unsupervised Learning for Anomaly Detection:**\n",
    "- Anomaly Detection-\n",
    "  - Anomaly detection is the process of identifying unusual patterns or outliers in data that do not conform to expected behavior. It is widely used in fraud detection, cybersecurity, and fault diagnosis.  \n",
    "- Use of Unsupervised Learning\n",
    "  - In real-world scenarios, anomalies (fraud, rare events, defects) are hard to label and occur infrequently.  \n",
    "  - Unsupervised learning does not require labeled data, making it ideal for detecting unknown anomalies."
   ]
  },
  {
   "cell_type": "markdown",
   "metadata": {},
   "source": [
    "---"
   ]
  },
  {
   "cell_type": "markdown",
   "metadata": {},
   "source": [
    "#### Q8: List down some commonly used supervised learning algorithms and unsupervised learning algorithms."
   ]
  },
  {
   "cell_type": "markdown",
   "metadata": {},
   "source": [
    "Ans."
   ]
  },
  {
   "cell_type": "markdown",
   "metadata": {},
   "source": [
    "**Supervised Learning Algorithms:**  \n",
    "- Classification Algorithms (Predict Categories)\n",
    "  1. Logistic Regression → Used for binary classification (e.g., spam detection).\n",
    "  2. Decision Trees → Splits data into branches for decision-making.\n",
    "  3. Random Forest → An ensemble of decision trees for better accuracy.\n",
    "  4. Support Vector Machines (SVM) → Finds the best boundary to separate classes.\n",
    "  5. K-Nearest Neighbors (KNN) → Classifies data points based on nearby neighbors.\n",
    "  6. Neural Networks (MLP - Multi-Layer Perceptron) → Used in deep learning applications.\n",
    "- Regression Algorithms (Predict Continuous Values)\n",
    "  1. Linear Regression → Models relationships between variables (e.g., house price prediction).\n",
    "  2. Polynomial Regression → Handles non-linear relationships.\n",
    "  3. Ridge & Lasso Regression → Prevents overfitting by regularization.\n",
    "  4. Support Vector Regression (SVR) → Uses SVM for regression tasks."
   ]
  },
  {
   "cell_type": "markdown",
   "metadata": {},
   "source": []
  }
 ],
 "metadata": {
  "language_info": {
   "name": "python"
  }
 },
 "nbformat": 4,
 "nbformat_minor": 2
}
